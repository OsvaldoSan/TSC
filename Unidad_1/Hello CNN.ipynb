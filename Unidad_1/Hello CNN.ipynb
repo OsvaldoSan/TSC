{
  "nbformat": 4,
  "nbformat_minor": 0,
  "metadata": {
    "kernelspec": {
      "display_name": "Python 3",
      "language": "python",
      "name": "python3"
    },
    "language_info": {
      "codemirror_mode": {
        "name": "ipython",
        "version": 3
      },
      "file_extension": ".py",
      "mimetype": "text/x-python",
      "name": "python",
      "nbconvert_exporter": "python",
      "pygments_lexer": "ipython3",
      "version": "3.7.3"
    },
    "toc": {
      "base_numbering": 1,
      "nav_menu": {},
      "number_sections": true,
      "sideBar": true,
      "skip_h1_title": false,
      "title_cell": "Table of Contents",
      "title_sidebar": "Contents",
      "toc_cell": false,
      "toc_position": {},
      "toc_section_display": true,
      "toc_window_display": false
    },
    "colab": {
      "name": "Hello CNN.ipynb",
      "provenance": [],
      "include_colab_link": true
    },
    "widgets": {
      "application/vnd.jupyter.widget-state+json": {
        "d12d14d84fe5401596af7998696d216c": {
          "model_module": "@jupyter-widgets/controls",
          "model_name": "HBoxModel",
          "state": {
            "_view_name": "HBoxView",
            "_dom_classes": [],
            "_model_name": "HBoxModel",
            "_view_module": "@jupyter-widgets/controls",
            "_model_module_version": "1.5.0",
            "_view_count": null,
            "_view_module_version": "1.5.0",
            "box_style": "",
            "layout": "IPY_MODEL_bda27054373b49389f7c6996622409cc",
            "_model_module": "@jupyter-widgets/controls",
            "children": [
              "IPY_MODEL_110d1a2af5fa4ebb88153e8a6638a6db",
              "IPY_MODEL_6c53fa3eac20439aac6343c5887254dd"
            ]
          }
        },
        "bda27054373b49389f7c6996622409cc": {
          "model_module": "@jupyter-widgets/base",
          "model_name": "LayoutModel",
          "state": {
            "_view_name": "LayoutView",
            "grid_template_rows": null,
            "right": null,
            "justify_content": null,
            "_view_module": "@jupyter-widgets/base",
            "overflow": null,
            "_model_module_version": "1.2.0",
            "_view_count": null,
            "flex_flow": null,
            "width": null,
            "min_width": null,
            "border": null,
            "align_items": null,
            "bottom": null,
            "_model_module": "@jupyter-widgets/base",
            "top": null,
            "grid_column": null,
            "overflow_y": null,
            "overflow_x": null,
            "grid_auto_flow": null,
            "grid_area": null,
            "grid_template_columns": null,
            "flex": null,
            "_model_name": "LayoutModel",
            "justify_items": null,
            "grid_row": null,
            "max_height": null,
            "align_content": null,
            "visibility": null,
            "align_self": null,
            "height": null,
            "min_height": null,
            "padding": null,
            "grid_auto_rows": null,
            "grid_gap": null,
            "max_width": null,
            "order": null,
            "_view_module_version": "1.2.0",
            "grid_template_areas": null,
            "object_position": null,
            "object_fit": null,
            "grid_auto_columns": null,
            "margin": null,
            "display": null,
            "left": null
          }
        },
        "110d1a2af5fa4ebb88153e8a6638a6db": {
          "model_module": "@jupyter-widgets/controls",
          "model_name": "FloatProgressModel",
          "state": {
            "_view_name": "ProgressView",
            "style": "IPY_MODEL_d0cbd45073d8437d8e04d80929459edd",
            "_dom_classes": [],
            "description": "Dl Completed...: 100%",
            "_model_name": "FloatProgressModel",
            "bar_style": "success",
            "max": 4,
            "_view_module": "@jupyter-widgets/controls",
            "_model_module_version": "1.5.0",
            "value": 4,
            "_view_count": null,
            "_view_module_version": "1.5.0",
            "orientation": "horizontal",
            "min": 0,
            "description_tooltip": null,
            "_model_module": "@jupyter-widgets/controls",
            "layout": "IPY_MODEL_5916e6807b89480c8f24bd1d32c8b2ae"
          }
        },
        "6c53fa3eac20439aac6343c5887254dd": {
          "model_module": "@jupyter-widgets/controls",
          "model_name": "HTMLModel",
          "state": {
            "_view_name": "HTMLView",
            "style": "IPY_MODEL_f33eaa5fdc494ae29f8940bf9e4cbadc",
            "_dom_classes": [],
            "description": "",
            "_model_name": "HTMLModel",
            "placeholder": "​",
            "_view_module": "@jupyter-widgets/controls",
            "_model_module_version": "1.5.0",
            "value": " 4/4 [00:25&lt;00:00,  6.41s/ file]",
            "_view_count": null,
            "_view_module_version": "1.5.0",
            "description_tooltip": null,
            "_model_module": "@jupyter-widgets/controls",
            "layout": "IPY_MODEL_70d0cc429fbc4d79876c305dc7fbb5ae"
          }
        },
        "d0cbd45073d8437d8e04d80929459edd": {
          "model_module": "@jupyter-widgets/controls",
          "model_name": "ProgressStyleModel",
          "state": {
            "_view_name": "StyleView",
            "_model_name": "ProgressStyleModel",
            "description_width": "initial",
            "_view_module": "@jupyter-widgets/base",
            "_model_module_version": "1.5.0",
            "_view_count": null,
            "_view_module_version": "1.2.0",
            "bar_color": null,
            "_model_module": "@jupyter-widgets/controls"
          }
        },
        "5916e6807b89480c8f24bd1d32c8b2ae": {
          "model_module": "@jupyter-widgets/base",
          "model_name": "LayoutModel",
          "state": {
            "_view_name": "LayoutView",
            "grid_template_rows": null,
            "right": null,
            "justify_content": null,
            "_view_module": "@jupyter-widgets/base",
            "overflow": null,
            "_model_module_version": "1.2.0",
            "_view_count": null,
            "flex_flow": null,
            "width": null,
            "min_width": null,
            "border": null,
            "align_items": null,
            "bottom": null,
            "_model_module": "@jupyter-widgets/base",
            "top": null,
            "grid_column": null,
            "overflow_y": null,
            "overflow_x": null,
            "grid_auto_flow": null,
            "grid_area": null,
            "grid_template_columns": null,
            "flex": null,
            "_model_name": "LayoutModel",
            "justify_items": null,
            "grid_row": null,
            "max_height": null,
            "align_content": null,
            "visibility": null,
            "align_self": null,
            "height": null,
            "min_height": null,
            "padding": null,
            "grid_auto_rows": null,
            "grid_gap": null,
            "max_width": null,
            "order": null,
            "_view_module_version": "1.2.0",
            "grid_template_areas": null,
            "object_position": null,
            "object_fit": null,
            "grid_auto_columns": null,
            "margin": null,
            "display": null,
            "left": null
          }
        },
        "f33eaa5fdc494ae29f8940bf9e4cbadc": {
          "model_module": "@jupyter-widgets/controls",
          "model_name": "DescriptionStyleModel",
          "state": {
            "_view_name": "StyleView",
            "_model_name": "DescriptionStyleModel",
            "description_width": "",
            "_view_module": "@jupyter-widgets/base",
            "_model_module_version": "1.5.0",
            "_view_count": null,
            "_view_module_version": "1.2.0",
            "_model_module": "@jupyter-widgets/controls"
          }
        },
        "70d0cc429fbc4d79876c305dc7fbb5ae": {
          "model_module": "@jupyter-widgets/base",
          "model_name": "LayoutModel",
          "state": {
            "_view_name": "LayoutView",
            "grid_template_rows": null,
            "right": null,
            "justify_content": null,
            "_view_module": "@jupyter-widgets/base",
            "overflow": null,
            "_model_module_version": "1.2.0",
            "_view_count": null,
            "flex_flow": null,
            "width": null,
            "min_width": null,
            "border": null,
            "align_items": null,
            "bottom": null,
            "_model_module": "@jupyter-widgets/base",
            "top": null,
            "grid_column": null,
            "overflow_y": null,
            "overflow_x": null,
            "grid_auto_flow": null,
            "grid_area": null,
            "grid_template_columns": null,
            "flex": null,
            "_model_name": "LayoutModel",
            "justify_items": null,
            "grid_row": null,
            "max_height": null,
            "align_content": null,
            "visibility": null,
            "align_self": null,
            "height": null,
            "min_height": null,
            "padding": null,
            "grid_auto_rows": null,
            "grid_gap": null,
            "max_width": null,
            "order": null,
            "_view_module_version": "1.2.0",
            "grid_template_areas": null,
            "object_position": null,
            "object_fit": null,
            "grid_auto_columns": null,
            "margin": null,
            "display": null,
            "left": null
          }
        }
      }
    }
  },
  "cells": [
    {
      "cell_type": "markdown",
      "metadata": {
        "id": "view-in-github",
        "colab_type": "text"
      },
      "source": [
        "<a href=\"https://colab.research.google.com/github/OsvaldoSan/TSC/blob/master/Unidad_1/Hello%20CNN.ipynb\" target=\"_parent\"><img src=\"https://colab.research.google.com/assets/colab-badge.svg\" alt=\"Open In Colab\"/></a>"
      ]
    },
    {
      "cell_type": "code",
      "metadata": {
        "ExecuteTime": {
          "start_time": "2021-03-04T02:38:57.861Z"
        },
        "id": "tu0Kp-qVCJkl"
      },
      "source": [
        "import tensorflow as tf\n",
        "import tensorflow_datasets as tfds\n",
        "from datetime import datetime\n",
        "from dateutil.relativedelta import relativedelta as rd"
      ],
      "execution_count": 1,
      "outputs": []
    },
    {
      "cell_type": "code",
      "metadata": {
        "ExecuteTime": {
          "end_time": "2021-03-04T02:38:53.684246Z",
          "start_time": "2021-03-04T02:38:53.290960Z"
        },
        "id": "IWCD-Ru6CJlT"
      },
      "source": [
        "ini = datetime.now()"
      ],
      "execution_count": 2,
      "outputs": []
    },
    {
      "cell_type": "markdown",
      "metadata": {
        "id": "35bIyg9mCJlf"
      },
      "source": [
        "#### Carga y preparación de datos"
      ]
    },
    {
      "cell_type": "code",
      "metadata": {
        "ExecuteTime": {
          "end_time": "2021-03-02T03:35:05.950680Z",
          "start_time": "2021-03-02T03:35:05.859230Z"
        },
        "id": "w7-W2OEwCJll",
        "outputId": "c1ef543a-3879-44d8-d703-6b5724fcb16b",
        "colab": {
          "base_uri": "https://localhost:8080/",
          "height": 225,
          "referenced_widgets": [
            "d12d14d84fe5401596af7998696d216c",
            "bda27054373b49389f7c6996622409cc",
            "110d1a2af5fa4ebb88153e8a6638a6db",
            "6c53fa3eac20439aac6343c5887254dd",
            "d0cbd45073d8437d8e04d80929459edd",
            "5916e6807b89480c8f24bd1d32c8b2ae",
            "f33eaa5fdc494ae29f8940bf9e4cbadc",
            "70d0cc429fbc4d79876c305dc7fbb5ae"
          ]
        }
      },
      "source": [
        "bld = tfds.builder('mnist')\n",
        "bld.download_and_prepare()\n",
        "ds = bld.as_dataset(shuffle_files=False)\n",
        "dstro = ds['train']\n",
        "dsteo = ds['test']"
      ],
      "execution_count": 3,
      "outputs": [
        {
          "output_type": "stream",
          "text": [
            "\u001b[1mDownloading and preparing dataset mnist/3.0.1 (download: 11.06 MiB, generated: 21.00 MiB, total: 32.06 MiB) to /root/tensorflow_datasets/mnist/3.0.1...\u001b[0m\n"
          ],
          "name": "stdout"
        },
        {
          "output_type": "stream",
          "text": [
            "WARNING:absl:Dataset mnist is hosted on GCS. It will automatically be downloaded to your\n",
            "local data directory. If you'd instead prefer to read directly from our public\n",
            "GCS bucket (recommended if you're running on GCP), you can instead pass\n",
            "`try_gcs=True` to `tfds.load` or set `data_dir=gs://tfds-data/datasets`.\n",
            "\n"
          ],
          "name": "stderr"
        },
        {
          "output_type": "display_data",
          "data": {
            "application/vnd.jupyter.widget-view+json": {
              "model_id": "d12d14d84fe5401596af7998696d216c",
              "version_minor": 0,
              "version_major": 2
            },
            "text/plain": [
              "HBox(children=(FloatProgress(value=0.0, description='Dl Completed...', max=4.0, style=ProgressStyle(descriptio…"
            ]
          },
          "metadata": {
            "tags": []
          }
        },
        {
          "output_type": "stream",
          "text": [
            "\n",
            "\n",
            "\u001b[1mDataset mnist downloaded and prepared to /root/tensorflow_datasets/mnist/3.0.1. Subsequent calls will reuse this data.\u001b[0m\n"
          ],
          "name": "stdout"
        }
      ]
    },
    {
      "cell_type": "code",
      "metadata": {
        "ExecuteTime": {
          "end_time": "2021-03-02T03:35:09.184142Z",
          "start_time": "2021-03-02T03:35:09.174301Z"
        },
        "id": "8Llk59WECJlp"
      },
      "source": [
        "TAM_BUFF = 10000\n",
        "TAM_LOTE = 64\n",
        "NUM_EP = 2"
      ],
      "execution_count": 4,
      "outputs": []
    },
    {
      "cell_type": "code",
      "metadata": {
        "ExecuteTime": {
          "end_time": "2021-03-02T03:35:14.721817Z",
          "start_time": "2021-03-02T03:35:14.600312Z"
        },
        "id": "uRCM-kpQCJlu"
      },
      "source": [
        "# Estandarizar imagenes\n",
        "dstr = dstro.map(lambda item:(tf.cast(item['image'],tf.float32)/255.0,tf.cast(item['label'],tf.int32)))\n",
        "dste = dsteo.map(lambda item:(tf.cast(item['image'],tf.float32)/255.0,tf.cast(item['label'],tf.int32)))"
      ],
      "execution_count": 5,
      "outputs": []
    },
    {
      "cell_type": "code",
      "metadata": {
        "ExecuteTime": {
          "end_time": "2021-03-02T03:35:18.445222Z",
          "start_time": "2021-03-02T03:35:18.431548Z"
        },
        "id": "ASJ9IF5MCJl0"
      },
      "source": [
        "tf.random.set_seed(0)\n",
        "dstr = dstr.shuffle(buffer_size=TAM_BUFF,reshuffle_each_iteration=False) #Para que el shuffle?\n",
        "dsva = dstr.take(10000).batch(TAM_LOTE)\n",
        "dstr = dstr.skip(10000).batch(TAM_LOTE)"
      ],
      "execution_count": 7,
      "outputs": []
    },
    {
      "cell_type": "markdown",
      "metadata": {
        "id": "vtWWDdRICJl4"
      },
      "source": [
        "#### Construcción de la CNN"
      ]
    },
    {
      "cell_type": "code",
      "metadata": {
        "ExecuteTime": {
          "end_time": "2021-03-02T03:39:51.101291Z",
          "start_time": "2021-03-02T03:39:50.852520Z"
        },
        "id": "xhLlgMMXCJl7"
      },
      "source": [
        "\"\"\"\n",
        "Arquitectura \n",
        "28x28x1-->Conv(5x5x32)-->28x28x32-->Pooling(2x2)-->14x14x32-->\n",
        "Conv(5x5x64)-->14x14x64-->Pooling(2x2)-->7x7x64-->Flat-->1024-->\n",
        "FC1-->dropout(0.5)-->FC2-->10\n",
        "\"\"\"\n",
        "\n",
        "cnn = tf.keras.Sequential()\n",
        "\n",
        "cnn.add(tf.keras.layers.Conv2D(filters=32,#?\n",
        "                               kernel_size=(5,5),# El kernel de la convolución\n",
        "                               strides=(1,1),#?\n",
        "                               padding='same',#?\n",
        "                               data_format='channels_last',#?\n",
        "                               name='conv1',\n",
        "                               activation='relu'\n",
        "                              )) # Regresa una matriz de 28x28x32\n",
        "\n",
        "cnn.add(tf.keras.layers.MaxPool2D(pool_size=(2,2),\n",
        "                                  name='pool1'\n",
        "                                 ))# Reducción\n",
        "\n",
        "cnn.add(tf.keras.layers.Conv2D(filters=64,\n",
        "                               kernel_size=(5,5),\n",
        "                               strides=(1,1),\n",
        "                               padding='same',\n",
        "                               data_format='channels_last',\n",
        "                               name='conv2',\n",
        "                               activation='relu'\n",
        "                              ))\n",
        "\n",
        "cnn.add(tf.keras.layers.MaxPool2D(pool_size=(2,2),\n",
        "                                  name='pool2'\n",
        "                                 ))\n",
        "\n",
        "cnn.add(tf.keras.layers.Flatten())\n",
        "\n",
        "cnn.add(tf.keras.layers.Dense(units=1024,\n",
        "                              name='fc1',\n",
        "                              activation='relu'\n",
        "                             ))# Son 1024 neuronas?\n",
        "\n",
        "cnn.add(tf.keras.layers.Dropout(rate=0.5\n",
        "                               ))# ¿Eliminar algunas partes para evitar el sobreajuste?\n",
        "\n",
        "cnn.add(tf.keras.layers.Dense(units=10,\n",
        "                              name='fc2',\n",
        "                              activation='softmax'\n",
        "                             ))# Son 10 neuronas de salida?"
      ],
      "execution_count": 9,
      "outputs": []
    },
    {
      "cell_type": "code",
      "metadata": {
        "ExecuteTime": {
          "end_time": "2021-03-02T03:40:07.655334Z",
          "start_time": "2021-03-02T03:40:07.280626Z"
        },
        "id": "JQpiLNJgCJmB"
      },
      "source": [
        "tf.random.set_seed(0)#¿Para que?\n",
        "cnn.build(input_shape=(None,28,28,1))# ¿?"
      ],
      "execution_count": 17,
      "outputs": []
    },
    {
      "cell_type": "code",
      "metadata": {
        "ExecuteTime": {
          "end_time": "2021-03-02T03:40:16.588008Z",
          "start_time": "2021-03-02T03:40:16.568934Z"
        },
        "id": "2XMr_K4sCJmG",
        "outputId": "0efde185-43fb-44cb-def6-5781963ed044",
        "colab": {
          "base_uri": "https://localhost:8080/"
        }
      },
      "source": [
        "cnn.summary()"
      ],
      "execution_count": 11,
      "outputs": [
        {
          "output_type": "stream",
          "text": [
            "Model: \"sequential\"\n",
            "_________________________________________________________________\n",
            "Layer (type)                 Output Shape              Param #   \n",
            "=================================================================\n",
            "conv1 (Conv2D)               (None, 28, 28, 32)        832       \n",
            "_________________________________________________________________\n",
            "pool1 (MaxPooling2D)         (None, 14, 14, 32)        0         \n",
            "_________________________________________________________________\n",
            "conv2 (Conv2D)               (None, 14, 14, 64)        51264     \n",
            "_________________________________________________________________\n",
            "pool2 (MaxPooling2D)         (None, 7, 7, 64)          0         \n",
            "_________________________________________________________________\n",
            "flatten (Flatten)            (None, 3136)              0         \n",
            "_________________________________________________________________\n",
            "fc1 (Dense)                  (None, 1024)              3212288   \n",
            "_________________________________________________________________\n",
            "dropout (Dropout)            (None, 1024)              0         \n",
            "_________________________________________________________________\n",
            "fc2 (Dense)                  (None, 10)                10250     \n",
            "=================================================================\n",
            "Total params: 3,274,634\n",
            "Trainable params: 3,274,634\n",
            "Non-trainable params: 0\n",
            "_________________________________________________________________\n"
          ],
          "name": "stdout"
        }
      ]
    },
    {
      "cell_type": "markdown",
      "metadata": {
        "id": "5BsjPPjVCJmT"
      },
      "source": [
        "#### Entrenamiento del Modelo"
      ]
    },
    {
      "cell_type": "code",
      "metadata": {
        "ExecuteTime": {
          "end_time": "2021-03-02T03:40:32.526476Z",
          "start_time": "2021-03-02T03:40:32.496662Z"
        },
        "id": "BNcMOy5TCJmW"
      },
      "source": [
        "cnn.compile(optimizer=tf.keras.optimizers.Adam(),\n",
        "            loss=tf.keras.losses.SparseCategoricalCrossentropy(),\n",
        "            metrics=['accuracy']\n",
        "           )"
      ],
      "execution_count": 18,
      "outputs": []
    },
    {
      "cell_type": "code",
      "metadata": {
        "ExecuteTime": {
          "end_time": "2021-03-02T03:41:43.855594Z",
          "start_time": "2021-03-02T03:40:39.112810Z"
        },
        "id": "m533hNkqCJmY",
        "outputId": "e03d5ef8-03b3-447e-ceb4-466c9a7fc3f1",
        "colab": {
          "base_uri": "https://localhost:8080/"
        }
      },
      "source": [
        "historia = cnn.fit(dstr,\n",
        "                   epochs=NUM_EP,\n",
        "                   validation_data=dsva,\n",
        "                   shuffle=True)# ¿Por que shuffle?"
      ],
      "execution_count": 19,
      "outputs": [
        {
          "output_type": "stream",
          "text": [
            "Epoch 1/2\n",
            "782/782 [==============================] - 133s 167ms/step - loss: 0.3189 - accuracy: 0.8964 - val_loss: 0.0461 - val_accuracy: 0.9861\n",
            "Epoch 2/2\n",
            "782/782 [==============================] - 128s 163ms/step - loss: 0.0469 - accuracy: 0.9857 - val_loss: 0.0379 - val_accuracy: 0.9892\n"
          ],
          "name": "stdout"
        }
      ]
    },
    {
      "cell_type": "markdown",
      "metadata": {
        "id": "q9GJtlfSCJmd"
      },
      "source": [
        "#### Resultados"
      ]
    },
    {
      "cell_type": "code",
      "metadata": {
        "ExecuteTime": {
          "end_time": "2021-03-02T03:47:18.235172Z",
          "start_time": "2021-03-02T03:47:18.101572Z"
        },
        "id": "c4Abi7vLCJmg"
      },
      "source": [
        "import matplotlib.pyplot as plt\n",
        "import numpy as np\n",
        "\n",
        "hist = historia.history\n",
        "x_arr = np.arange(len(hist['loss']))+1"
      ],
      "execution_count": 20,
      "outputs": []
    },
    {
      "cell_type": "code",
      "metadata": {
        "id": "ltxkYiT1NbtK",
        "outputId": "ee66f0d2-44f5-4acb-935f-bab741e5d007",
        "colab": {
          "base_uri": "https://localhost:8080/"
        }
      },
      "source": [
        "hist"
      ],
      "execution_count": 24,
      "outputs": [
        {
          "output_type": "execute_result",
          "data": {
            "text/plain": [
              "{'accuracy': [0.9555000066757202, 0.9862599968910217],\n",
              " 'loss': [0.13977403938770294, 0.04338479042053223],\n",
              " 'val_accuracy': [0.9861000180244446, 0.9891999959945679],\n",
              " 'val_loss': [0.04609701782464981, 0.03786396607756615]}"
            ]
          },
          "metadata": {
            "tags": []
          },
          "execution_count": 24
        }
      ]
    },
    {
      "cell_type": "code",
      "metadata": {
        "ExecuteTime": {
          "end_time": "2021-03-02T03:47:21.869653Z",
          "start_time": "2021-03-02T03:47:21.524506Z"
        },
        "id": "BZF6XCIMCJmi",
        "outputId": "222563a3-9dfe-411a-a9a9-c38a12804a7c",
        "colab": {
          "base_uri": "https://localhost:8080/",
          "height": 365
        }
      },
      "source": [
        "\n",
        "fig = plt.figure(figsize=(12,5))\n",
        "ax = fig.add_subplot(1,2,1)\n",
        "ax.plot(hist['loss'],'-o',label='Pérdida de Entrenamiento')\n",
        "ax.plot(hist['val_loss'],'--<',label='Pérdida de Validación')\n",
        "ax.set_title('Pérdida',size=15)\n",
        "ax.set_xlabel('Época',size=15)\n",
        "ax.tick_params(axis='both',which='major',labelsize=15)\n",
        "ax.legend(fontsize=15)\n",
        "ax = fig.add_subplot(1,2,2)\n",
        "ax.plot(hist['accuracy'],'-o',label='Precisión Entrenamiento')\n",
        "ax.plot(hist['val_accuracy'],'--<',label='Precisión Validación')\n",
        "ax.set_title('Precisión',size=15)\n",
        "ax.set_xlabel('Época',size=15)\n",
        "ax.tick_params(axis='both',which='major',labelsize=15)\n",
        "ax.legend(fontsize=15)\n",
        "plt.show()"
      ],
      "execution_count": 25,
      "outputs": [
        {
          "output_type": "display_data",
          "data": {
            "image/png": "[encoded data removed]",
            "text/plain": [
              "<Figure size 864x360 with 2 Axes>"
            ]
          },
          "metadata": {
            "tags": [],
            "needs_background": "light"
          }
        }
      ]
    },
    {
      "cell_type": "code",
      "metadata": {
        "ExecuteTime": {
          "end_time": "2021-03-02T03:47:43.406848Z",
          "start_time": "2021-03-02T03:47:40.978398Z"
        },
        "id": "dLoDTXt5CJmo",
        "outputId": "2eb1a5d0-56e6-475c-e757-b33cce1e73ea",
        "colab": {
          "base_uri": "https://localhost:8080/"
        }
      },
      "source": [
        "resultados_prueba = cnn.evaluate(dste.batch(20))\n",
        "print('Precisión Prueba %.4f'%resultados_prueba[1])"
      ],
      "execution_count": 26,
      "outputs": [
        {
          "output_type": "stream",
          "text": [
            "500/500 [==============================] - 8s 17ms/step - loss: 0.0261 - accuracy: 0.9908\n",
            "Precisión Prueba 0.9908\n"
          ],
          "name": "stdout"
        }
      ]
    },
    {
      "cell_type": "code",
      "metadata": {
        "id": "z3kOFT1iOhNn",
        "outputId": "c1672615-4be0-4089-cfbf-381914961f1c",
        "colab": {
          "base_uri": "https://localhost:8080/"
        }
      },
      "source": [
        "resultados_prueba"
      ],
      "execution_count": 27,
      "outputs": [
        {
          "output_type": "execute_result",
          "data": {
            "text/plain": [
              "[0.02612023986876011, 0.9908000230789185]"
            ]
          },
          "metadata": {
            "tags": []
          },
          "execution_count": 27
        }
      ]
    },
    {
      "cell_type": "code",
      "metadata": {
        "ExecuteTime": {
          "end_time": "2021-03-02T03:48:07.589389Z",
          "start_time": "2021-03-02T03:48:07.259145Z"
        },
        "id": "MUDEwY8vCJmr",
        "outputId": "6d5fc472-7a97-485f-8360-ff99329c1a8d",
        "colab": {
          "base_uri": "https://localhost:8080/",
          "height": 266
        }
      },
      "source": [
        "lote_prueba = next(iter(dste.batch(12)))\n",
        "pred = cnn(lote_prueba[0])\n",
        "\n",
        "pred = tf.argmax(pred,axis=1)\n",
        "print(pred)\n",
        "fig = plt.figure(figsize=(12,4))\n",
        "for i in range(12):\n",
        "    ax = fig.add_subplot(2,6,i+1)\n",
        "    ax.set_xticks([]); ax.set_yticks([])\n",
        "    img = lote_prueba[0][i,:,:,0]\n",
        "    ax.imshow(img,cmap='gray_r')\n",
        "    ax.text (0.9,0.1,'{}'.format(pred[i]),\n",
        "             size=15,\n",
        "             color='blue',\n",
        "             horizontalalignment='center',\n",
        "             verticalalignment='center',\n",
        "             transform=ax.transAxes)\n",
        "plt.show()"
      ],
      "execution_count": 28,
      "outputs": [
        {
          "output_type": "stream",
          "text": [
            "tf.Tensor([2 0 4 8 7 6 0 6 3 1 8 0], shape=(12,), dtype=int64)\n"
          ],
          "name": "stdout"
        },
        {
          "output_type": "display_data",
          "data": {
            "image/png": "[encoded data removed]",
            "text/plain": [
              "<Figure size 864x288 with 12 Axes>"
            ]
          },
          "metadata": {
            "tags": []
          }
        }
      ]
    },
    {
      "cell_type": "code",
      "metadata": {
        "ExecuteTime": {
          "end_time": "2021-03-02T03:48:19.070795Z",
          "start_time": "2021-03-02T03:48:19.060132Z"
        },
        "id": "C2MRM5CECJmv",
        "outputId": "50a00213-9385-495e-c1fb-db6a2b11e824"
      },
      "source": [
        "rd(datetime.now(),ini)"
      ],
      "execution_count": null,
      "outputs": [
        {
          "output_type": "execute_result",
          "data": {
            "text/plain": [
              "relativedelta(minutes=+13, seconds=+13, microseconds=+889448)"
            ]
          },
          "metadata": {
            "tags": []
          },
          "execution_count": 17
        }
      ]
    },
    {
      "cell_type": "code",
      "metadata": {
        "id": "qqWLs4a6CJmy"
      },
      "source": [
        ""
      ],
      "execution_count": null,
      "outputs": []
    }
  ]
}