{
 "cells": [
  {
   "cell_type": "code",
   "execution_count": null,
   "metadata": {
    "ExecuteTime": {
     "start_time": "2021-03-04T02:38:57.861Z"
    }
   },
   "outputs": [],
   "source": [
    "#import tensorflow as tf\n",
    "#import tensorflow_datasets as tfds\n",
    "from datetime import datetime\n",
    "from dateutil.relativedelta import relativedelta as rd"
   ]
  },
  {
   "cell_type": "code",
   "execution_count": 1,
   "metadata": {
    "ExecuteTime": {
     "end_time": "2021-03-04T02:38:53.684246Z",
     "start_time": "2021-03-04T02:38:53.290960Z"
    }
   },
   "outputs": [
    {
     "ename": "NameError",
     "evalue": "name 'datetime' is not defined",
     "output_type": "error",
     "traceback": [
      "\u001b[0;31m---------------------------------------------------------------------------\u001b[0m",
      "\u001b[0;31mNameError\u001b[0m                                 Traceback (most recent call last)",
      "\u001b[0;32m<ipython-input-1-248273edd7cf>\u001b[0m in \u001b[0;36m<module>\u001b[0;34m\u001b[0m\n\u001b[0;32m----> 1\u001b[0;31m \u001b[0mini\u001b[0m \u001b[0;34m=\u001b[0m \u001b[0mdatetime\u001b[0m\u001b[0;34m.\u001b[0m\u001b[0mnow\u001b[0m\u001b[0;34m(\u001b[0m\u001b[0;34m)\u001b[0m\u001b[0;34m\u001b[0m\u001b[0;34m\u001b[0m\u001b[0m\n\u001b[0m",
      "\u001b[0;31mNameError\u001b[0m: name 'datetime' is not defined"
     ]
    }
   ],
   "source": [
    "ini = datetime.now()"
   ]
  },
  {
   "cell_type": "markdown",
   "metadata": {},
   "source": [
    "#### Carga y preparación de datos"
   ]
  },
  {
   "cell_type": "code",
   "execution_count": 3,
   "metadata": {
    "ExecuteTime": {
     "end_time": "2021-03-02T03:35:05.950680Z",
     "start_time": "2021-03-02T03:35:05.859230Z"
    }
   },
   "outputs": [],
   "source": [
    "bld = tfds.builder('mnist')\n",
    "bld.download_and_prepare()\n",
    "ds = bld.as_dataset(shuffle_files=False)\n",
    "dstro = ds['train']\n",
    "dsteo = ds['test']"
   ]
  },
  {
   "cell_type": "code",
   "execution_count": 4,
   "metadata": {
    "ExecuteTime": {
     "end_time": "2021-03-02T03:35:09.184142Z",
     "start_time": "2021-03-02T03:35:09.174301Z"
    }
   },
   "outputs": [],
   "source": [
    "TAM_BUFF = 10000\n",
    "TAM_LOTE = 64\n",
    "NUM_EP = 2"
   ]
  },
  {
   "cell_type": "code",
   "execution_count": 5,
   "metadata": {
    "ExecuteTime": {
     "end_time": "2021-03-02T03:35:14.721817Z",
     "start_time": "2021-03-02T03:35:14.600312Z"
    }
   },
   "outputs": [],
   "source": [
    "dstr = dstro.map(lambda item:(tf.cast(item['image'],tf.float32)/255.0,tf.cast(item['label'],tf.int32)))\n",
    "dste = dsteo.map(lambda item:(tf.cast(item['image'],tf.float32)/255.0,tf.cast(item['label'],tf.int32)))"
   ]
  },
  {
   "cell_type": "code",
   "execution_count": 6,
   "metadata": {
    "ExecuteTime": {
     "end_time": "2021-03-02T03:35:18.445222Z",
     "start_time": "2021-03-02T03:35:18.431548Z"
    }
   },
   "outputs": [],
   "source": [
    "tf.random.set_seed(0)\n",
    "dstr = dstr.shuffle(buffer_size=TAM_BUFF,reshuffle_each_iteration=False)\n",
    "dsva = dstr.take(10000).batch(TAM_LOTE)\n",
    "dstr = dstr.skip(10000).batch(TAM_LOTE)"
   ]
  },
  {
   "cell_type": "markdown",
   "metadata": {},
   "source": [
    "#### Construcción de la CNN"
   ]
  },
  {
   "cell_type": "code",
   "execution_count": 7,
   "metadata": {
    "ExecuteTime": {
     "end_time": "2021-03-02T03:39:51.101291Z",
     "start_time": "2021-03-02T03:39:50.852520Z"
    }
   },
   "outputs": [],
   "source": [
    "\"\"\"\n",
    "Arquitectura \n",
    "28x28x1-->Conv(5x5x32)-->28x28x32-->Pooling(2x2)-->14x14x32-->\n",
    "Conv(5x5x64)-->14x14x64-->Pooling(2x2)-->7x7x64-->Flat-->1024-->\n",
    "FC1-->dropout(0.5)-->FC2-->10\n",
    "\"\"\"\n",
    "\n",
    "cnn = tf.keras.Sequential()\n",
    "\n",
    "cnn.add(tf.keras.layers.Conv2D(filters=32,\n",
    "                               kernel_size=(5,5),\n",
    "                               strides=(1,1),\n",
    "                               padding='same',\n",
    "                               data_format='channels_last',\n",
    "                               name='conv1',\n",
    "                               activation='relu'\n",
    "                              ))\n",
    "\n",
    "cnn.add(tf.keras.layers.MaxPool2D(pool_size=(2,2),\n",
    "                                  name='pool1'\n",
    "                                 ))\n",
    "\n",
    "cnn.add(tf.keras.layers.Conv2D(filters=64,\n",
    "                               kernel_size=(5,5),\n",
    "                               strides=(1,1),\n",
    "                               padding='same',\n",
    "                               data_format='channels_last',\n",
    "                               name='conv2',\n",
    "                               activation='relu'\n",
    "                              ))\n",
    "\n",
    "cnn.add(tf.keras.layers.MaxPool2D(pool_size=(2,2),\n",
    "                                  name='pool2'\n",
    "                                 ))\n",
    "\n",
    "cnn.add(tf.keras.layers.Flatten())\n",
    "\n",
    "cnn.add(tf.keras.layers.Dense(units=1024,\n",
    "                              name='fc1',\n",
    "                              activation='relu'\n",
    "                             ))\n",
    "\n",
    "cnn.add(tf.keras.layers.Dropout(rate=0.5\n",
    "                               ))\n",
    "\n",
    "cnn.add(tf.keras.layers.Dense(units=10,\n",
    "                              name='fc2',\n",
    "                              activation='softmax'\n",
    "                             ))"
   ]
  },
  {
   "cell_type": "code",
   "execution_count": 8,
   "metadata": {
    "ExecuteTime": {
     "end_time": "2021-03-02T03:40:07.655334Z",
     "start_time": "2021-03-02T03:40:07.280626Z"
    }
   },
   "outputs": [],
   "source": [
    "tf.random.set_seed(0)\n",
    "cnn.build(input_shape=(None,28,28,1))"
   ]
  },
  {
   "cell_type": "code",
   "execution_count": 9,
   "metadata": {
    "ExecuteTime": {
     "end_time": "2021-03-02T03:40:16.588008Z",
     "start_time": "2021-03-02T03:40:16.568934Z"
    }
   },
   "outputs": [
    {
     "name": "stdout",
     "output_type": "stream",
     "text": [
      "Model: \"sequential\"\n",
      "_________________________________________________________________\n",
      "Layer (type)                 Output Shape              Param #   \n",
      "=================================================================\n",
      "conv1 (Conv2D)               (None, 28, 28, 32)        832       \n",
      "_________________________________________________________________\n",
      "pool1 (MaxPooling2D)         (None, 14, 14, 32)        0         \n",
      "_________________________________________________________________\n",
      "conv2 (Conv2D)               (None, 14, 14, 64)        51264     \n",
      "_________________________________________________________________\n",
      "pool2 (MaxPooling2D)         (None, 7, 7, 64)          0         \n",
      "_________________________________________________________________\n",
      "flatten (Flatten)            (None, 3136)              0         \n",
      "_________________________________________________________________\n",
      "fc1 (Dense)                  (None, 1024)              3212288   \n",
      "_________________________________________________________________\n",
      "dropout (Dropout)            (None, 1024)              0         \n",
      "_________________________________________________________________\n",
      "fc2 (Dense)                  (None, 10)                10250     \n",
      "=================================================================\n",
      "Total params: 3,274,634\n",
      "Trainable params: 3,274,634\n",
      "Non-trainable params: 0\n",
      "_________________________________________________________________\n"
     ]
    }
   ],
   "source": [
    "cnn.summary()"
   ]
  },
  {
   "cell_type": "markdown",
   "metadata": {},
   "source": [
    "#### Entrenamiento del Modelo"
   ]
  },
  {
   "cell_type": "code",
   "execution_count": 10,
   "metadata": {
    "ExecuteTime": {
     "end_time": "2021-03-02T03:40:32.526476Z",
     "start_time": "2021-03-02T03:40:32.496662Z"
    }
   },
   "outputs": [],
   "source": [
    "cnn.compile(optimizer=tf.keras.optimizers.Adam(),\n",
    "            loss=tf.keras.losses.SparseCategoricalCrossentropy(),\n",
    "            metrics=['accuracy']\n",
    "           )"
   ]
  },
  {
   "cell_type": "code",
   "execution_count": 11,
   "metadata": {
    "ExecuteTime": {
     "end_time": "2021-03-02T03:41:43.855594Z",
     "start_time": "2021-03-02T03:40:39.112810Z"
    }
   },
   "outputs": [
    {
     "name": "stdout",
     "output_type": "stream",
     "text": [
      "Epoch 1/2\n",
      "782/782 [==============================] - 34s 40ms/step - loss: 0.3188 - accuracy: 0.8964 - val_loss: 0.0449 - val_accuracy: 0.9863\n",
      "Epoch 2/2\n",
      "782/782 [==============================] - 31s 39ms/step - loss: 0.0472 - accuracy: 0.9854 - val_loss: 0.0380 - val_accuracy: 0.9890\n"
     ]
    }
   ],
   "source": [
    "historia = cnn.fit(dstr,\n",
    "                   epochs=NUM_EP,\n",
    "                   validation_data=dsva,\n",
    "                   shuffle=True)"
   ]
  },
  {
   "cell_type": "markdown",
   "metadata": {},
   "source": [
    "#### Resultados"
   ]
  },
  {
   "cell_type": "code",
   "execution_count": 12,
   "metadata": {
    "ExecuteTime": {
     "end_time": "2021-03-02T03:47:18.235172Z",
     "start_time": "2021-03-02T03:47:18.101572Z"
    }
   },
   "outputs": [],
   "source": [
    "import matplotlib.pyplot as plt\n",
    "import numpy as np\n",
    "\n",
    "hist = historia.history\n",
    "x_arr = np.arange(len(hist['loss']))+1"
   ]
  },
  {
   "cell_type": "code",
   "execution_count": 13,
   "metadata": {
    "ExecuteTime": {
     "end_time": "2021-03-02T03:47:21.869653Z",
     "start_time": "2021-03-02T03:47:21.524506Z"
    }
   },
   "outputs": [
    {
     "data": {
      "image/png": "[encoded data removed]",
      "text/plain": [
       "<Figure size 864x360 with 2 Axes>"
      ]
     },
     "metadata": {
      "needs_background": "light"
     },
     "output_type": "display_data"
    }
   ],
   "source": [
    "\n",
    "fig = plt.figure(figsize=(12,5))\n",
    "ax = fig.add_subplot(1,2,1)\n",
    "ax.plot(hist['loss'],'-o',label='Pérdida de Entrenamiento')\n",
    "ax.plot(hist['val_loss'],'--<',label='Pérdida de Validación')\n",
    "ax.set_title('Pérdida',size=15)\n",
    "ax.set_xlabel('Época',size=15)\n",
    "ax.tick_params(axis='both',which='major',labelsize=15)\n",
    "ax.legend(fontsize=15)\n",
    "ax = fig.add_subplot(1,2,2)\n",
    "ax.plot(hist['accuracy'],'-o',label='Precisión Entrenamiento')\n",
    "ax.plot(hist['val_accuracy'],'--<',label='Precisión Validación')\n",
    "ax.set_title('Precisión',size=15)\n",
    "ax.set_xlabel('Época',size=15)\n",
    "ax.tick_params(axis='both',which='major',labelsize=15)\n",
    "ax.legend(fontsize=15)\n",
    "plt.show()"
   ]
  },
  {
   "cell_type": "code",
   "execution_count": 14,
   "metadata": {
    "ExecuteTime": {
     "end_time": "2021-03-02T03:47:43.406848Z",
     "start_time": "2021-03-02T03:47:40.978398Z"
    }
   },
   "outputs": [
    {
     "name": "stdout",
     "output_type": "stream",
     "text": [
      "500/500 [==============================] - 2s 4ms/step - loss: 0.0286 - accuracy: 0.9900\n",
      "Precisión Prueba 0.9900\n"
     ]
    }
   ],
   "source": [
    "resultados_prueba = cnn.evaluate(dste.batch(20))\n",
    "print('Precisión Prueba %.4f'%resultados_prueba[1])"
   ]
  },
  {
   "cell_type": "code",
   "execution_count": 16,
   "metadata": {
    "ExecuteTime": {
     "end_time": "2021-03-02T03:48:07.589389Z",
     "start_time": "2021-03-02T03:48:07.259145Z"
    }
   },
   "outputs": [
    {
     "name": "stdout",
     "output_type": "stream",
     "text": [
      "tf.Tensor([2 0 4 8 7 6 0 6 3 1 8 0], shape=(12,), dtype=int64)\n"
     ]
    },
    {
     "data": {
      "image/png": "[encoded data removed]",
      "text/plain": [
       "<Figure size 864x288 with 12 Axes>"
      ]
     },
     "metadata": {},
     "output_type": "display_data"
    }
   ],
   "source": [
    "lote_prueba = next(iter(dste.batch(12)))\n",
    "pred = cnn(lote_prueba[0])\n",
    "\n",
    "pred = tf.argmax(pred,axis=1)\n",
    "print(pred)\n",
    "fig = plt.figure(figsize=(12,4))\n",
    "for i in range(12):\n",
    "    ax = fig.add_subplot(2,6,i+1)\n",
    "    ax.set_xticks([]); ax.set_yticks([])\n",
    "    img = lote_prueba[0][i,:,:,0]\n",
    "    ax.imshow(img,cmap='gray_r')\n",
    "    ax.text (0.9,0.1,'{}'.format(pred[i]),\n",
    "             size=15,\n",
    "             color='blue',\n",
    "             horizontalalignment='center',\n",
    "             verticalalignment='center',\n",
    "             transform=ax.transAxes)\n",
    "plt.show()"
   ]
  },
  {
   "cell_type": "code",
   "execution_count": 17,
   "metadata": {
    "ExecuteTime": {
     "end_time": "2021-03-02T03:48:19.070795Z",
     "start_time": "2021-03-02T03:48:19.060132Z"
    }
   },
   "outputs": [
    {
     "data": {
      "text/plain": [
       "relativedelta(minutes=+13, seconds=+13, microseconds=+889448)"
      ]
     },
     "execution_count": 17,
     "metadata": {},
     "output_type": "execute_result"
    }
   ],
   "source": [
    "rd(datetime.now(),ini)"
   ]
  },
  {
   "cell_type": "code",
   "execution_count": null,
   "metadata": {},
   "outputs": [],
   "source": []
  }
 ],
 "metadata": {
  "kernelspec": {
   "display_name": "Python 3",
   "language": "python",
   "name": "python3"
  },
  "language_info": {
   "codemirror_mode": {
    "name": "ipython",
    "version": 3
   },
   "file_extension": ".py",
   "mimetype": "text/x-python",
   "name": "python",
   "nbconvert_exporter": "python",
   "pygments_lexer": "ipython3",
   "version": "3.7.3"
  },
  "toc": {
   "base_numbering": 1,
   "nav_menu": {},
   "number_sections": true,
   "sideBar": true,
   "skip_h1_title": false,
   "title_cell": "Table of Contents",
   "title_sidebar": "Contents",
   "toc_cell": false,
   "toc_position": {},
   "toc_section_display": true,
   "toc_window_display": false
  }
 },
 "nbformat": 4,
 "nbformat_minor": 4
}
