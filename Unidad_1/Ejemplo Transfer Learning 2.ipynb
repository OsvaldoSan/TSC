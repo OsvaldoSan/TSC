{
 "cells": [
  {
   "cell_type": "markdown",
   "id": "similar-stock",
   "metadata": {},
   "source": [
    "## Dependencias"
   ]
  },
  {
   "cell_type": "code",
   "execution_count": 1,
   "id": "ambient-action",
   "metadata": {},
   "outputs": [
    {
     "name": "stdout",
     "output_type": "stream",
     "text": [
      "Requirement already satisfied: pip in /usr/local/lib/python3.6/dist-packages (21.0.1)\n",
      "Requirement already satisfied: pillow in /usr/local/lib/python3.6/dist-packages (8.1.2)\n"
     ]
    }
   ],
   "source": [
    "!pip install --upgrade pip\n",
    "!pip install pillow"
   ]
  },
  {
   "cell_type": "code",
   "execution_count": 2,
   "id": "broke-phone",
   "metadata": {
    "ExecuteTime": {
     "end_time": "2021-03-16T18:04:04.233837Z",
     "start_time": "2021-03-16T18:04:04.221653Z"
    }
   },
   "outputs": [],
   "source": [
    "import tensorflow as tf\n",
    "from tensorflow.keras import models,layers,optimizers\n",
    "from tensorflow.keras.preprocessing.image import ImageDataGenerator\n",
    "from tensorflow.keras.preprocessing import image\n",
    "from tensorflow.keras.applications import VGG16\n",
    "import numpy as np\n",
    "import matplotlib.pyplot as plt\n",
    "import os\n",
    "import shutil\n",
    "from datetime import datetime\n",
    "from dateutil.relativedelta import relativedelta as rd"
   ]
  },
  {
   "cell_type": "code",
   "execution_count": 3,
   "id": "frozen-creator",
   "metadata": {},
   "outputs": [],
   "source": [
    "ini = datetime.now()"
   ]
  },
  {
   "cell_type": "code",
   "execution_count": 4,
   "id": "revised-blade",
   "metadata": {
    "ExecuteTime": {
     "end_time": "2021-03-16T18:04:04.339789Z",
     "start_time": "2021-03-16T18:04:04.237358Z"
    }
   },
   "outputs": [],
   "source": [
    "ruta  = '/tf/bd/cats_dogs_mini/'"
   ]
  },
  {
   "cell_type": "code",
   "execution_count": 5,
   "id": "deadly-mineral",
   "metadata": {
    "ExecuteTime": {
     "end_time": "2021-03-16T18:04:04.466168Z",
     "start_time": "2021-03-16T18:04:04.341992Z"
    }
   },
   "outputs": [
    {
     "data": {
      "text/plain": [
       "[PhysicalDevice(name='/physical_device:CPU:0', device_type='CPU'),\n",
       " PhysicalDevice(name='/physical_device:XLA_CPU:0', device_type='XLA_CPU'),\n",
       " PhysicalDevice(name='/physical_device:XLA_GPU:0', device_type='XLA_GPU'),\n",
       " PhysicalDevice(name='/physical_device:GPU:0', device_type='GPU')]"
      ]
     },
     "execution_count": 5,
     "metadata": {},
     "output_type": "execute_result"
    }
   ],
   "source": [
    "tf.config.list_physical_devices()"
   ]
  },
  {
   "cell_type": "code",
   "execution_count": 6,
   "id": "healthy-expression",
   "metadata": {
    "ExecuteTime": {
     "end_time": "2021-03-16T18:04:04.749794Z",
     "start_time": "2021-03-16T18:04:04.470495Z"
    }
   },
   "outputs": [],
   "source": [
    "config = tf.compat.v1.ConfigProto()\n",
    "config.gpu_options.allow_growth = True\n",
    "sess = tf.compat.v1.Session(config=config)"
   ]
  },
  {
   "cell_type": "markdown",
   "id": "medical-poison",
   "metadata": {},
   "source": [
    "## Red profunda desde donde se transferirá el conocimiento"
   ]
  },
  {
   "cell_type": "code",
   "execution_count": 7,
   "id": "recognized-shaft",
   "metadata": {
    "ExecuteTime": {
     "end_time": "2021-03-16T18:04:04.982901Z",
     "start_time": "2021-03-16T18:04:04.756571Z"
    }
   },
   "outputs": [],
   "source": [
    "base = VGG16(weights='imagenet', #Características aprendidas\n",
    "             include_top=False, #Descartar capa densa final\n",
    "             input_shape=(150,150,3))"
   ]
  },
  {
   "cell_type": "code",
   "execution_count": 8,
   "id": "auburn-disability",
   "metadata": {
    "ExecuteTime": {
     "end_time": "2021-03-16T18:04:05.029214Z",
     "start_time": "2021-03-16T18:04:04.983802Z"
    }
   },
   "outputs": [],
   "source": [
    "modelo = models.Sequential()\n",
    "modelo.add(base)\n",
    "modelo.add(layers.Flatten())\n",
    "modelo.add(layers.Dropout(0.5))\n",
    "modelo.add(layers.Dense(512,activation='relu'))\n",
    "modelo.add(layers.Dense(1,activation='sigmoid'))"
   ]
  },
  {
   "cell_type": "code",
   "execution_count": 9,
   "id": "invalid-vertical",
   "metadata": {
    "ExecuteTime": {
     "end_time": "2021-03-16T18:04:05.101723Z",
     "start_time": "2021-03-16T18:04:05.030122Z"
    },
    "scrolled": false
   },
   "outputs": [
    {
     "name": "stdout",
     "output_type": "stream",
     "text": [
      "Model: \"sequential\"\n",
      "_________________________________________________________________\n",
      "Layer (type)                 Output Shape              Param #   \n",
      "=================================================================\n",
      "vgg16 (Model)                (None, 4, 4, 512)         14714688  \n",
      "_________________________________________________________________\n",
      "flatten (Flatten)            (None, 8192)              0         \n",
      "_________________________________________________________________\n",
      "dropout (Dropout)            (None, 8192)              0         \n",
      "_________________________________________________________________\n",
      "dense (Dense)                (None, 512)               4194816   \n",
      "_________________________________________________________________\n",
      "dense_1 (Dense)              (None, 1)                 513       \n",
      "=================================================================\n",
      "Total params: 18,910,017\n",
      "Trainable params: 18,910,017\n",
      "Non-trainable params: 0\n",
      "_________________________________________________________________\n"
     ]
    }
   ],
   "source": [
    "modelo.summary()"
   ]
  },
  {
   "cell_type": "code",
   "execution_count": 10,
   "id": "second-sending",
   "metadata": {
    "ExecuteTime": {
     "end_time": "2021-03-16T18:04:05.201453Z",
     "start_time": "2021-03-16T18:04:05.104085Z"
    }
   },
   "outputs": [],
   "source": [
    "base.trainable = False"
   ]
  },
  {
   "cell_type": "code",
   "execution_count": 11,
   "id": "standard-emperor",
   "metadata": {
    "ExecuteTime": {
     "end_time": "2021-03-16T18:04:05.306365Z",
     "start_time": "2021-03-16T18:04:05.203355Z"
    }
   },
   "outputs": [
    {
     "name": "stdout",
     "output_type": "stream",
     "text": [
      "Model: \"sequential\"\n",
      "_________________________________________________________________\n",
      "Layer (type)                 Output Shape              Param #   \n",
      "=================================================================\n",
      "vgg16 (Model)                (None, 4, 4, 512)         14714688  \n",
      "_________________________________________________________________\n",
      "flatten (Flatten)            (None, 8192)              0         \n",
      "_________________________________________________________________\n",
      "dropout (Dropout)            (None, 8192)              0         \n",
      "_________________________________________________________________\n",
      "dense (Dense)                (None, 512)               4194816   \n",
      "_________________________________________________________________\n",
      "dense_1 (Dense)              (None, 1)                 513       \n",
      "=================================================================\n",
      "Total params: 18,910,017\n",
      "Trainable params: 4,195,329\n",
      "Non-trainable params: 14,714,688\n",
      "_________________________________________________________________\n"
     ]
    }
   ],
   "source": [
    "modelo.summary()"
   ]
  },
  {
   "cell_type": "markdown",
   "id": "genuine-palmer",
   "metadata": {},
   "source": [
    "## Preparación de datos"
   ]
  },
  {
   "cell_type": "code",
   "execution_count": 12,
   "id": "prerequisite-microwave",
   "metadata": {
    "ExecuteTime": {
     "end_time": "2021-03-16T18:04:05.410438Z",
     "start_time": "2021-03-16T18:04:05.308842Z"
    }
   },
   "outputs": [],
   "source": [
    "dest = '/tf/bd/cats_dogs_mini/'"
   ]
  },
  {
   "cell_type": "code",
   "execution_count": 24,
   "id": "beautiful-stretch",
   "metadata": {
    "ExecuteTime": {
     "end_time": "2021-03-16T18:04:05.510964Z",
     "start_time": "2021-03-16T18:04:05.412940Z"
    }
   },
   "outputs": [],
   "source": [
    "train = ImageDataGenerator(rotation_range=40, #Rota las imágenes aleatoriamente\n",
    "                           width_shift_range=0.2, # Traslada horizontalmente\n",
    "                           height_shift_range=0.2, #Traslada verticalmente\n",
    "                           shear_range=0.2, #transformaciones de corte (cizalla)\n",
    "                           zoom_range=0.2, #acercamientos aleatorios\n",
    "                           horizontal_flip=True, #Voltea horizontalmente\n",
    "                           fill_mode='nearest',\n",
    "                           rescale = 1/255\n",
    "                          )\n",
    "\n",
    "\n",
    "test = ImageDataGenerator(rescale=1/255)"
   ]
  },
  {
   "cell_type": "code",
   "execution_count": 25,
   "id": "varied-settle",
   "metadata": {
    "ExecuteTime": {
     "end_time": "2021-03-16T18:04:05.650055Z",
     "start_time": "2021-03-16T18:04:05.513886Z"
    }
   },
   "outputs": [
    {
     "name": "stdout",
     "output_type": "stream",
     "text": [
      "Found 2000 images belonging to 2 classes.\n"
     ]
    }
   ],
   "source": [
    "train = train.flow_from_directory(os.path.join(dest,'train'),\n",
    "                                  target_size=(150,150),\n",
    "                                  batch_size=32,\n",
    "                                  class_mode='binary')"
   ]
  },
  {
   "cell_type": "code",
   "execution_count": 26,
   "id": "binary-uniform",
   "metadata": {
    "ExecuteTime": {
     "end_time": "2021-03-16T18:04:05.789871Z",
     "start_time": "2021-03-16T18:04:05.651184Z"
    }
   },
   "outputs": [
    {
     "name": "stdout",
     "output_type": "stream",
     "text": [
      "Found 1000 images belonging to 2 classes.\n"
     ]
    }
   ],
   "source": [
    "validation = test.flow_from_directory(os.path.join(dest,'validate'),\n",
    "                                  target_size=(150,150),\n",
    "                                  batch_size=20,\n",
    "                                  class_mode='binary')"
   ]
  },
  {
   "cell_type": "code",
   "execution_count": 27,
   "id": "compliant-bargain",
   "metadata": {
    "ExecuteTime": {
     "end_time": "2021-03-16T18:04:05.842306Z",
     "start_time": "2021-03-16T18:04:05.793034Z"
    }
   },
   "outputs": [],
   "source": [
    "modelo.compile(loss='binary_crossentropy',\n",
    "               optimizer=optimizers.RMSprop(learning_rate=1e-4),\n",
    "               metrics=['acc'])"
   ]
  },
  {
   "cell_type": "code",
   "execution_count": 28,
   "id": "whole-distinction",
   "metadata": {
    "ExecuteTime": {
     "end_time": "2021-03-16T18:04:22.178154Z",
     "start_time": "2021-03-16T18:04:05.843443Z"
    },
    "scrolled": true
   },
   "outputs": [
    {
     "name": "stdout",
     "output_type": "stream",
     "text": [
      "WARNING:tensorflow:sample_weight modes were coerced from\n",
      "  ...\n",
      "    to  \n",
      "  ['...']\n",
      "WARNING:tensorflow:sample_weight modes were coerced from\n",
      "  ...\n",
      "    to  \n",
      "  ['...']\n",
      "Train for 62 steps, validate for 50 steps\n",
      "Epoch 1/30\n",
      "62/62 [==============================] - 12s 199ms/step - loss: 0.5728 - acc: 0.7266 - val_loss: 0.3915 - val_acc: 0.8510\n",
      "Epoch 2/30\n",
      "62/62 [==============================] - 12s 197ms/step - loss: 0.4586 - acc: 0.7856 - val_loss: 0.3124 - val_acc: 0.8660\n",
      "Epoch 3/30\n",
      "62/62 [==============================] - 12s 198ms/step - loss: 0.4192 - acc: 0.8130 - val_loss: 0.3082 - val_acc: 0.8680\n",
      "Epoch 4/30\n",
      "62/62 [==============================] - 12s 199ms/step - loss: 0.4126 - acc: 0.8171 - val_loss: 0.3106 - val_acc: 0.8690\n",
      "Epoch 5/30\n",
      "62/62 [==============================] - 12s 199ms/step - loss: 0.3995 - acc: 0.8089 - val_loss: 0.2995 - val_acc: 0.8710\n",
      "Epoch 6/30\n",
      "62/62 [==============================] - 12s 200ms/step - loss: 0.3767 - acc: 0.8252 - val_loss: 0.2977 - val_acc: 0.8690\n",
      "Epoch 7/30\n",
      "62/62 [==============================] - 13s 203ms/step - loss: 0.3835 - acc: 0.8232 - val_loss: 0.2704 - val_acc: 0.8750\n",
      "Epoch 8/30\n",
      "62/62 [==============================] - 13s 203ms/step - loss: 0.3621 - acc: 0.8432 - val_loss: 0.3038 - val_acc: 0.8640\n",
      "Epoch 9/30\n",
      "62/62 [==============================] - 13s 204ms/step - loss: 0.3647 - acc: 0.8354 - val_loss: 0.2788 - val_acc: 0.8750\n",
      "Epoch 10/30\n",
      "62/62 [==============================] - 13s 208ms/step - loss: 0.3717 - acc: 0.8394 - val_loss: 0.2745 - val_acc: 0.8770\n",
      "Epoch 11/30\n",
      "62/62 [==============================] - 13s 208ms/step - loss: 0.3647 - acc: 0.8318 - val_loss: 0.2575 - val_acc: 0.8810\n",
      "Epoch 12/30\n",
      "62/62 [==============================] - 13s 208ms/step - loss: 0.3564 - acc: 0.8272 - val_loss: 0.2560 - val_acc: 0.8860\n",
      "Epoch 13/30\n",
      "62/62 [==============================] - 13s 206ms/step - loss: 0.3592 - acc: 0.8394 - val_loss: 0.2559 - val_acc: 0.8950\n",
      "Epoch 14/30\n",
      "62/62 [==============================] - 13s 207ms/step - loss: 0.3516 - acc: 0.8404 - val_loss: 0.2635 - val_acc: 0.8850\n",
      "Epoch 15/30\n",
      "62/62 [==============================] - 13s 204ms/step - loss: 0.3464 - acc: 0.8430 - val_loss: 0.2653 - val_acc: 0.8790\n",
      "Epoch 16/30\n",
      "62/62 [==============================] - 13s 207ms/step - loss: 0.3813 - acc: 0.8313 - val_loss: 0.2543 - val_acc: 0.8840\n",
      "Epoch 17/30\n",
      "62/62 [==============================] - 13s 207ms/step - loss: 0.3548 - acc: 0.8521 - val_loss: 0.2517 - val_acc: 0.8930\n",
      "Epoch 18/30\n",
      "62/62 [==============================] - 13s 208ms/step - loss: 0.3610 - acc: 0.8354 - val_loss: 0.2492 - val_acc: 0.8920\n",
      "Epoch 19/30\n",
      "62/62 [==============================] - 13s 207ms/step - loss: 0.3613 - acc: 0.8333 - val_loss: 0.2878 - val_acc: 0.8650\n",
      "Epoch 20/30\n",
      "62/62 [==============================] - 13s 209ms/step - loss: 0.3589 - acc: 0.8311 - val_loss: 0.2492 - val_acc: 0.8940\n",
      "Epoch 21/30\n",
      "62/62 [==============================] - 13s 211ms/step - loss: 0.3593 - acc: 0.8364 - val_loss: 0.2556 - val_acc: 0.8910\n",
      "Epoch 22/30\n",
      "62/62 [==============================] - 13s 208ms/step - loss: 0.3421 - acc: 0.8465 - val_loss: 0.2652 - val_acc: 0.8840\n",
      "Epoch 23/30\n",
      "62/62 [==============================] - 13s 208ms/step - loss: 0.3477 - acc: 0.8420 - val_loss: 0.2705 - val_acc: 0.8830\n",
      "Epoch 24/30\n",
      "62/62 [==============================] - 13s 206ms/step - loss: 0.3549 - acc: 0.8374 - val_loss: 0.2513 - val_acc: 0.8990\n",
      "Epoch 25/30\n",
      "62/62 [==============================] - 13s 209ms/step - loss: 0.3316 - acc: 0.8435 - val_loss: 0.2604 - val_acc: 0.8940\n",
      "Epoch 26/30\n",
      "62/62 [==============================] - 13s 209ms/step - loss: 0.3520 - acc: 0.8318 - val_loss: 0.2495 - val_acc: 0.8920\n",
      "Epoch 27/30\n",
      "62/62 [==============================] - 13s 210ms/step - loss: 0.3369 - acc: 0.8506 - val_loss: 0.2645 - val_acc: 0.8910\n",
      "Epoch 28/30\n",
      "62/62 [==============================] - 13s 207ms/step - loss: 0.3333 - acc: 0.8547 - val_loss: 0.2735 - val_acc: 0.8860\n",
      "Epoch 29/30\n",
      "62/62 [==============================] - 13s 208ms/step - loss: 0.3342 - acc: 0.8481 - val_loss: 0.2547 - val_acc: 0.8930\n",
      "Epoch 30/30\n",
      "62/62 [==============================] - 13s 210ms/step - loss: 0.3498 - acc: 0.8420 - val_loss: 0.2510 - val_acc: 0.8920\n"
     ]
    }
   ],
   "source": [
    "history = modelo.fit_generator(train,\n",
    "                     steps_per_epoch=2000//32,\n",
    "                     epochs=30,\n",
    "                     validation_data=validation,\n",
    "                     validation_steps=50)"
   ]
  },
  {
   "cell_type": "code",
   "execution_count": 29,
   "id": "packed-division",
   "metadata": {
    "ExecuteTime": {
     "end_time": "2021-03-16T18:04:41.879066Z",
     "start_time": "2021-03-16T18:04:41.854009Z"
    }
   },
   "outputs": [
    {
     "data": {
      "image/png": "[encoded data removed]",
      "text/plain": [
       "<Figure size 864x360 with 2 Axes>"
      ]
     },
     "metadata": {
      "needs_background": "light"
     },
     "output_type": "display_data"
    }
   ],
   "source": [
    "hist = history.history\n",
    "x_arr = np.arange(len(hist['loss']))+1\n",
    "fig = plt.figure(figsize=(12,5))\n",
    "ax = fig.add_subplot(1,2,1)\n",
    "ax.plot(hist['loss'],'-o',label='Pérdida de Entrenamiento')\n",
    "ax.plot(hist['val_loss'],'--<',label='Pérdida de Validación')\n",
    "ax.set_title('Pérdida',size=15)\n",
    "ax.set_xlabel('Época',size=15)\n",
    "ax.tick_params(axis='both',which='major',labelsize=15)\n",
    "ax.legend(fontsize=15)\n",
    "ax = fig.add_subplot(1,2,2)\n",
    "ax.plot(hist['acc'],'-o',label='Precisión Entrenamiento')\n",
    "ax.plot(hist['val_acc'],'--<',label='Precisión Validación')\n",
    "ax.set_title('Precisión',size=15)\n",
    "ax.set_xlabel('Época',size=15)\n",
    "ax.tick_params(axis='both',which='major',labelsize=15)\n",
    "ax.legend(fontsize=15)\n",
    "plt.show()"
   ]
  },
  {
   "cell_type": "code",
   "execution_count": 19,
   "id": "alternative-builder",
   "metadata": {},
   "outputs": [
    {
     "data": {
      "text/plain": [
       "relativedelta(minutes=+6, seconds=+32, microseconds=+600740)"
      ]
     },
     "execution_count": 19,
     "metadata": {},
     "output_type": "execute_result"
    }
   ],
   "source": [
    "rd(datetime.now(),ini)"
   ]
  },
  {
   "cell_type": "code",
   "execution_count": null,
   "id": "genetic-virus",
   "metadata": {},
   "outputs": [],
   "source": []
  }
 ],
 "metadata": {
  "kernelspec": {
   "display_name": "Python 3",
   "language": "python",
   "name": "python3"
  },
  "language_info": {
   "codemirror_mode": {
    "name": "ipython",
    "version": 3
   },
   "file_extension": ".py",
   "mimetype": "text/x-python",
   "name": "python",
   "nbconvert_exporter": "python",
   "pygments_lexer": "ipython3",
   "version": "3.8.5"
  },
  "toc": {
   "base_numbering": 1,
   "nav_menu": {},
   "number_sections": true,
   "sideBar": true,
   "skip_h1_title": false,
   "title_cell": "Table of Contents",
   "title_sidebar": "Contents",
   "toc_cell": false,
   "toc_position": {},
   "toc_section_display": true,
   "toc_window_display": false
  }
 },
 "nbformat": 4,
 "nbformat_minor": 5
}
