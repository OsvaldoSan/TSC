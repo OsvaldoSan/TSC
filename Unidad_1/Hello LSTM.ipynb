{
 "cells": [
  {
   "cell_type": "code",
   "execution_count": 1,
   "metadata": {
    "ExecuteTime": {
     "end_time": "2021-04-08T02:24:23.025793Z",
     "start_time": "2021-04-08T02:24:21.819735Z"
    }
   },
   "outputs": [],
   "source": [
    "import numpy as np\n",
    "import pandas as pd\n",
    "import re,unicodedata\n",
    "import os\n",
    "import tensorflow as tf\n",
    "%matplotlib inline"
   ]
  },
  {
   "cell_type": "markdown",
   "metadata": {},
   "source": [
    "#### Lectura de datos"
   ]
  },
  {
   "cell_type": "code",
   "execution_count": 2,
   "metadata": {
    "ExecuteTime": {
     "end_time": "2021-04-08T02:24:33.189486Z",
     "start_time": "2021-04-08T02:24:33.182801Z"
    }
   },
   "outputs": [],
   "source": [
    "ruta = 'datos/opiniones/'\n",
    "l = os.listdir(ruta)"
   ]
  },
  {
   "cell_type": "code",
   "execution_count": 3,
   "metadata": {
    "ExecuteTime": {
     "end_time": "2021-04-08T02:24:33.821317Z",
     "start_time": "2021-04-08T02:24:33.807586Z"
    }
   },
   "outputs": [
    {
     "data": {
      "text/plain": [
       "['Opinión Diplomado Ciencia de Datos UNAM FES Acatlán G2M4 (Responses).xlsx',\n",
       " 'Opinión Diplomado Ciencia de Datos UNAM FES Acatlán G3M5  (Responses).xlsx',\n",
       " 'Opinión Diplomado CDD UNAM FES Acatlán G2M5 (Responses).xlsx',\n",
       " 'Opinión Diplomado Ciencia de Datos UNAM FES Acatlán M1G6 (Responses).xlsx',\n",
       " 'Opinión Diplomado CDD UNAM FES Acatlán G3M4 (Responses).xlsx',\n",
       " 'Opinión Diplomado Ciencia de Datos UNAM FES Acatlán M2G4 (Responses).xlsx',\n",
       " 'Opinión Diplomado Ciencia de Datos UNAM FES Acatlán M2G5 (Responses).xlsx',\n",
       " 'Opinión Diplomado Ciencia de Datos UNAM FES Acatlán M3G4 (Responses).xlsx',\n",
       " 'Opinión Intermedia Diplomado CDD UNAM FES Acatlán G3M4  (Responses).xlsx',\n",
       " 'Opinión Diplomado Ciencia de Datos UNAM FES Acatlán M1G5 (Responses).xlsx',\n",
       " 'Opinión Diplomado Ciencia de Datos UNAM FES Acatlán G4M1 (Responses).xlsx']"
      ]
     },
     "execution_count": 3,
     "metadata": {},
     "output_type": "execute_result"
    }
   ],
   "source": [
    "l"
   ]
  },
  {
   "cell_type": "code",
   "execution_count": 4,
   "metadata": {
    "ExecuteTime": {
     "end_time": "2021-04-08T02:24:42.243519Z",
     "start_time": "2021-04-08T02:24:42.232556Z"
    }
   },
   "outputs": [
    {
     "data": {
      "text/plain": [
       "11"
      ]
     },
     "execution_count": 4,
     "metadata": {},
     "output_type": "execute_result"
    }
   ],
   "source": [
    "len(l)"
   ]
  },
  {
   "cell_type": "code",
   "execution_count": 5,
   "metadata": {
    "ExecuteTime": {
     "end_time": "2021-04-08T02:24:49.124775Z",
     "start_time": "2021-04-08T02:24:48.920836Z"
    }
   },
   "outputs": [],
   "source": [
    "df = pd.concat(map(lambda x:pd.read_excel(os.path.join(ruta,x)).assign(grupo=x),l)).sample(frac=1).reset_index(drop=True)"
   ]
  },
  {
   "cell_type": "code",
   "execution_count": 6,
   "metadata": {
    "ExecuteTime": {
     "end_time": "2021-04-08T02:24:49.657702Z",
     "start_time": "2021-04-08T02:24:49.649098Z"
    }
   },
   "outputs": [
    {
     "data": {
      "text/plain": [
       "(294, 10)"
      ]
     },
     "execution_count": 6,
     "metadata": {},
     "output_type": "execute_result"
    }
   ],
   "source": [
    "df.shape"
   ]
  },
  {
   "cell_type": "code",
   "execution_count": 7,
   "metadata": {
    "ExecuteTime": {
     "end_time": "2021-04-08T02:24:52.432292Z",
     "start_time": "2021-04-08T02:24:52.397968Z"
    }
   },
   "outputs": [
    {
     "data": {
      "text/html": [
       "<div>\n",
       "<style scoped>\n",
       "    .dataframe tbody tr th:only-of-type {\n",
       "        vertical-align: middle;\n",
       "    }\n",
       "\n",
       "    .dataframe tbody tr th {\n",
       "        vertical-align: top;\n",
       "    }\n",
       "\n",
       "    .dataframe thead th {\n",
       "        text-align: right;\n",
       "    }\n",
       "</style>\n",
       "<table border=\"1\" class=\"dataframe\">\n",
       "  <thead>\n",
       "    <tr style=\"text-align: right;\">\n",
       "      <th></th>\n",
       "      <th>Timestamp</th>\n",
       "      <th>¿Cómo calificas la calidad de los contenidos del curso?</th>\n",
       "      <th>¿Cómo calificas la calidad de los materiales(apuntes, códigos, datos, etc.?</th>\n",
       "      <th>¿Cómo calificas el nivel de dificultad de los contenidos del curso?</th>\n",
       "      <th>¿Cómo calificas la calidad del ponente?</th>\n",
       "      <th>¿Cómo calificas el nivel de dificultad de la evaluación?</th>\n",
       "      <th>¿Cómo calificas la calidad de las prácticas en clase?</th>\n",
       "      <th>En general, ¿Cuántas estrellas darías al módulo?</th>\n",
       "      <th>Por favor, emite tu libre opinión sobre el módulo en general (instructor, material, contenido, etc.)</th>\n",
       "      <th>grupo</th>\n",
       "    </tr>\n",
       "  </thead>\n",
       "  <tbody>\n",
       "    <tr>\n",
       "      <th>19</th>\n",
       "      <td>2021-02-19 11:51:11.064</td>\n",
       "      <td>4</td>\n",
       "      <td>4</td>\n",
       "      <td>5</td>\n",
       "      <td>5</td>\n",
       "      <td>5</td>\n",
       "      <td>4</td>\n",
       "      <td>5</td>\n",
       "      <td>Requerir nivel intermedio de Python como requi...</td>\n",
       "      <td>Opinión Diplomado Ciencia de Datos UNAM FES Ac...</td>\n",
       "    </tr>\n",
       "    <tr>\n",
       "      <th>262</th>\n",
       "      <td>2021-02-19 13:12:20.217</td>\n",
       "      <td>4</td>\n",
       "      <td>4</td>\n",
       "      <td>3</td>\n",
       "      <td>5</td>\n",
       "      <td>4</td>\n",
       "      <td>4</td>\n",
       "      <td>4</td>\n",
       "      <td>Los puntos tocados en este módulo son buenos, ...</td>\n",
       "      <td>Opinión Diplomado Ciencia de Datos UNAM FES Ac...</td>\n",
       "    </tr>\n",
       "  </tbody>\n",
       "</table>\n",
       "</div>"
      ],
      "text/plain": [
       "                  Timestamp  \\\n",
       "19  2021-02-19 11:51:11.064   \n",
       "262 2021-02-19 13:12:20.217   \n",
       "\n",
       "     ¿Cómo calificas la calidad de los contenidos del curso?  \\\n",
       "19                                                   4         \n",
       "262                                                  4         \n",
       "\n",
       "     ¿Cómo calificas la calidad de los materiales(apuntes, códigos, datos, etc.?  \\\n",
       "19                                                   4                             \n",
       "262                                                  4                             \n",
       "\n",
       "     ¿Cómo calificas el nivel de dificultad de los contenidos del curso?  \\\n",
       "19                                                   5                     \n",
       "262                                                  3                     \n",
       "\n",
       "     ¿Cómo calificas la calidad del ponente?  \\\n",
       "19                                         5   \n",
       "262                                        5   \n",
       "\n",
       "     ¿Cómo calificas el nivel de dificultad de la evaluación?  \\\n",
       "19                                                   5          \n",
       "262                                                  4          \n",
       "\n",
       "     ¿Cómo calificas la calidad de las prácticas en clase?  \\\n",
       "19                                                   4       \n",
       "262                                                  4       \n",
       "\n",
       "     En general, ¿Cuántas estrellas darías al módulo?  \\\n",
       "19                                                  5   \n",
       "262                                                 4   \n",
       "\n",
       "    Por favor, emite tu libre opinión sobre el módulo en general (instructor, material, contenido, etc.)  \\\n",
       "19   Requerir nivel intermedio de Python como requi...                                                     \n",
       "262  Los puntos tocados en este módulo son buenos, ...                                                     \n",
       "\n",
       "                                                 grupo  \n",
       "19   Opinión Diplomado Ciencia de Datos UNAM FES Ac...  \n",
       "262  Opinión Diplomado Ciencia de Datos UNAM FES Ac...  "
      ]
     },
     "execution_count": 7,
     "metadata": {},
     "output_type": "execute_result"
    }
   ],
   "source": [
    "df.sample(2)"
   ]
  },
  {
   "cell_type": "code",
   "execution_count": 8,
   "metadata": {
    "ExecuteTime": {
     "end_time": "2021-04-08T02:25:14.466185Z",
     "start_time": "2021-04-08T02:25:14.455424Z"
    }
   },
   "outputs": [
    {
     "data": {
      "text/html": [
       "<div>\n",
       "<style scoped>\n",
       "    .dataframe tbody tr th:only-of-type {\n",
       "        vertical-align: middle;\n",
       "    }\n",
       "\n",
       "    .dataframe tbody tr th {\n",
       "        vertical-align: top;\n",
       "    }\n",
       "\n",
       "    .dataframe thead th {\n",
       "        text-align: right;\n",
       "    }\n",
       "</style>\n",
       "<table border=\"1\" class=\"dataframe\">\n",
       "  <thead>\n",
       "    <tr style=\"text-align: right;\">\n",
       "      <th></th>\n",
       "      <th>0</th>\n",
       "      <th>1</th>\n",
       "      <th>2</th>\n",
       "      <th>3</th>\n",
       "      <th>4</th>\n",
       "      <th>5</th>\n",
       "      <th>6</th>\n",
       "      <th>7</th>\n",
       "      <th>8</th>\n",
       "      <th>9</th>\n",
       "    </tr>\n",
       "  </thead>\n",
       "  <tbody>\n",
       "    <tr>\n",
       "      <th>0</th>\n",
       "      <td>2021-02-19 11:47:45.861</td>\n",
       "      <td>5</td>\n",
       "      <td>5</td>\n",
       "      <td>3</td>\n",
       "      <td>5</td>\n",
       "      <td>3</td>\n",
       "      <td>5</td>\n",
       "      <td>5</td>\n",
       "      <td>Excelente</td>\n",
       "      <td>Opinión Diplomado Ciencia de Datos UNAM FES Ac...</td>\n",
       "    </tr>\n",
       "    <tr>\n",
       "      <th>1</th>\n",
       "      <td>2021-02-19 11:46:58.468</td>\n",
       "      <td>3</td>\n",
       "      <td>3</td>\n",
       "      <td>4</td>\n",
       "      <td>2</td>\n",
       "      <td>3</td>\n",
       "      <td>3</td>\n",
       "      <td>3</td>\n",
       "      <td>Fueron demasiados temas para el módulo. Además...</td>\n",
       "      <td>Opinión Diplomado Ciencia de Datos UNAM FES Ac...</td>\n",
       "    </tr>\n",
       "    <tr>\n",
       "      <th>2</th>\n",
       "      <td>2021-02-19 12:34:23.821</td>\n",
       "      <td>5</td>\n",
       "      <td>5</td>\n",
       "      <td>5</td>\n",
       "      <td>5</td>\n",
       "      <td>5</td>\n",
       "      <td>5</td>\n",
       "      <td>5</td>\n",
       "      <td>Excelente calidad</td>\n",
       "      <td>Opinión Diplomado Ciencia de Datos UNAM FES Ac...</td>\n",
       "    </tr>\n",
       "    <tr>\n",
       "      <th>3</th>\n",
       "      <td>2020-11-30 19:57:20.157</td>\n",
       "      <td>5</td>\n",
       "      <td>5</td>\n",
       "      <td>5</td>\n",
       "      <td>5</td>\n",
       "      <td>4</td>\n",
       "      <td>5</td>\n",
       "      <td>5</td>\n",
       "      <td>Excelente manejo de la clase y conocimientos s...</td>\n",
       "      <td>Opinión Diplomado CDD UNAM FES Acatlán G3M4 (R...</td>\n",
       "    </tr>\n",
       "    <tr>\n",
       "      <th>4</th>\n",
       "      <td>2021-02-20 09:13:48.310</td>\n",
       "      <td>5</td>\n",
       "      <td>5</td>\n",
       "      <td>3</td>\n",
       "      <td>5</td>\n",
       "      <td>4</td>\n",
       "      <td>5</td>\n",
       "      <td>5</td>\n",
       "      <td>Modulo muy completo y el instructor excelente,...</td>\n",
       "      <td>Opinión Diplomado Ciencia de Datos UNAM FES Ac...</td>\n",
       "    </tr>\n",
       "  </tbody>\n",
       "</table>\n",
       "</div>"
      ],
      "text/plain": [
       "                        0  1  2  3  4  5  6  7  \\\n",
       "0 2021-02-19 11:47:45.861  5  5  3  5  3  5  5   \n",
       "1 2021-02-19 11:46:58.468  3  3  4  2  3  3  3   \n",
       "2 2021-02-19 12:34:23.821  5  5  5  5  5  5  5   \n",
       "3 2020-11-30 19:57:20.157  5  5  5  5  4  5  5   \n",
       "4 2021-02-20 09:13:48.310  5  5  3  5  4  5  5   \n",
       "\n",
       "                                                   8  \\\n",
       "0                                          Excelente   \n",
       "1  Fueron demasiados temas para el módulo. Además...   \n",
       "2                                  Excelente calidad   \n",
       "3  Excelente manejo de la clase y conocimientos s...   \n",
       "4  Modulo muy completo y el instructor excelente,...   \n",
       "\n",
       "                                                   9  \n",
       "0  Opinión Diplomado Ciencia de Datos UNAM FES Ac...  \n",
       "1  Opinión Diplomado Ciencia de Datos UNAM FES Ac...  \n",
       "2  Opinión Diplomado Ciencia de Datos UNAM FES Ac...  \n",
       "3  Opinión Diplomado CDD UNAM FES Acatlán G3M4 (R...  \n",
       "4  Opinión Diplomado Ciencia de Datos UNAM FES Ac...  "
      ]
     },
     "execution_count": 8,
     "metadata": {},
     "output_type": "execute_result"
    }
   ],
   "source": [
    "#Renombramos los nombres de las columnas por nombres simples\n",
    "d = dict(zip(df.columns.tolist(),range(len(df.columns.tolist()))))\n",
    "df.rename(columns=d,inplace=True)\n",
    "df.head()"
   ]
  },
  {
   "cell_type": "markdown",
   "metadata": {},
   "source": [
    "#### Quitamos acentos, homologamos minúsculas, quitamos caracteres innecesarios, quitamos stopwords"
   ]
  },
  {
   "cell_type": "code",
   "execution_count": 9,
   "metadata": {
    "ExecuteTime": {
     "end_time": "2021-04-08T02:25:28.588522Z",
     "start_time": "2021-04-08T02:25:28.580718Z"
    }
   },
   "outputs": [],
   "source": [
    "def limpiar_texto(text):\n",
    "    res =  unicodedata.normalize('NFD', text).encode('ascii', 'ignore')\n",
    "    res = re.sub(\"[^a-zA-Z0-9 ]\",\" \", res.decode(\"utf-8\"), flags=re.UNICODE)\n",
    "    res =  u' '.join(res.lower().split())\n",
    "    return res"
   ]
  },
  {
   "cell_type": "code",
   "execution_count": 10,
   "metadata": {
    "ExecuteTime": {
     "end_time": "2021-04-08T02:26:14.008252Z",
     "start_time": "2021-04-08T02:26:13.989304Z"
    }
   },
   "outputs": [],
   "source": [
    "df[8] = df[8].map(limpiar_texto)"
   ]
  },
  {
   "cell_type": "code",
   "execution_count": 11,
   "metadata": {
    "ExecuteTime": {
     "end_time": "2021-04-08T02:26:15.741742Z",
     "start_time": "2021-04-08T02:26:15.728625Z"
    }
   },
   "outputs": [
    {
     "data": {
      "text/plain": [
       "0                                              excelente\n",
       "1      fueron demasiados temas para el modulo ademas ...\n",
       "2                                      excelente calidad\n",
       "3      excelente manejo de la clase y conocimientos s...\n",
       "4      modulo muy completo y el instructor excelente ...\n",
       "                             ...                        \n",
       "289    nunca funcionaban los notebooks y siempre hubo...\n",
       "290    me hubiera gustado que hubiera mas interpretac...\n",
       "291    el modulo permitio integrar todos los contenid...\n",
       "292    el curso es muy bueno pero la dificultad tanto...\n",
       "293    el modulo me gusto creo que carla plasmo muy b...\n",
       "Name: 8, Length: 294, dtype: object"
      ]
     },
     "execution_count": 11,
     "metadata": {},
     "output_type": "execute_result"
    }
   ],
   "source": [
    "df[8]"
   ]
  },
  {
   "cell_type": "code",
   "execution_count": 12,
   "metadata": {
    "ExecuteTime": {
     "end_time": "2021-04-08T02:26:41.994116Z",
     "start_time": "2021-04-08T02:26:41.589082Z"
    }
   },
   "outputs": [
    {
     "data": {
      "text/html": [
       "<div>\n",
       "<style scoped>\n",
       "    .dataframe tbody tr th:only-of-type {\n",
       "        vertical-align: middle;\n",
       "    }\n",
       "\n",
       "    .dataframe tbody tr th {\n",
       "        vertical-align: top;\n",
       "    }\n",
       "\n",
       "    .dataframe thead th {\n",
       "        text-align: right;\n",
       "    }\n",
       "</style>\n",
       "<table border=\"1\" class=\"dataframe\">\n",
       "  <thead>\n",
       "    <tr style=\"text-align: right;\">\n",
       "      <th></th>\n",
       "      <th>0</th>\n",
       "      <th>1</th>\n",
       "      <th>2</th>\n",
       "      <th>3</th>\n",
       "      <th>4</th>\n",
       "      <th>5</th>\n",
       "      <th>6</th>\n",
       "      <th>7</th>\n",
       "      <th>8</th>\n",
       "      <th>9</th>\n",
       "    </tr>\n",
       "  </thead>\n",
       "  <tbody>\n",
       "    <tr>\n",
       "      <th>0</th>\n",
       "      <td>2021-02-19 11:47:45.861</td>\n",
       "      <td>5</td>\n",
       "      <td>5</td>\n",
       "      <td>3</td>\n",
       "      <td>5</td>\n",
       "      <td>3</td>\n",
       "      <td>5</td>\n",
       "      <td>5</td>\n",
       "      <td>excelente</td>\n",
       "      <td>Opinión Diplomado Ciencia de Datos UNAM FES Ac...</td>\n",
       "    </tr>\n",
       "    <tr>\n",
       "      <th>1</th>\n",
       "      <td>2021-02-19 11:46:58.468</td>\n",
       "      <td>3</td>\n",
       "      <td>3</td>\n",
       "      <td>4</td>\n",
       "      <td>2</td>\n",
       "      <td>3</td>\n",
       "      <td>3</td>\n",
       "      <td>3</td>\n",
       "      <td>demasiados temas modulo ademas considero falto...</td>\n",
       "      <td>Opinión Diplomado Ciencia de Datos UNAM FES Ac...</td>\n",
       "    </tr>\n",
       "    <tr>\n",
       "      <th>2</th>\n",
       "      <td>2021-02-19 12:34:23.821</td>\n",
       "      <td>5</td>\n",
       "      <td>5</td>\n",
       "      <td>5</td>\n",
       "      <td>5</td>\n",
       "      <td>5</td>\n",
       "      <td>5</td>\n",
       "      <td>5</td>\n",
       "      <td>excelente calidad</td>\n",
       "      <td>Opinión Diplomado Ciencia de Datos UNAM FES Ac...</td>\n",
       "    </tr>\n",
       "    <tr>\n",
       "      <th>3</th>\n",
       "      <td>2020-11-30 19:57:20.157</td>\n",
       "      <td>5</td>\n",
       "      <td>5</td>\n",
       "      <td>5</td>\n",
       "      <td>5</td>\n",
       "      <td>4</td>\n",
       "      <td>5</td>\n",
       "      <td>5</td>\n",
       "      <td>excelente manejo clase conocimientos solidos m...</td>\n",
       "      <td>Opinión Diplomado CDD UNAM FES Acatlán G3M4 (R...</td>\n",
       "    </tr>\n",
       "    <tr>\n",
       "      <th>4</th>\n",
       "      <td>2021-02-20 09:13:48.310</td>\n",
       "      <td>5</td>\n",
       "      <td>5</td>\n",
       "      <td>3</td>\n",
       "      <td>5</td>\n",
       "      <td>4</td>\n",
       "      <td>5</td>\n",
       "      <td>5</td>\n",
       "      <td>modulo completo instructor excelente dispuesta...</td>\n",
       "      <td>Opinión Diplomado Ciencia de Datos UNAM FES Ac...</td>\n",
       "    </tr>\n",
       "  </tbody>\n",
       "</table>\n",
       "</div>"
      ],
      "text/plain": [
       "                        0  1  2  3  4  5  6  7  \\\n",
       "0 2021-02-19 11:47:45.861  5  5  3  5  3  5  5   \n",
       "1 2021-02-19 11:46:58.468  3  3  4  2  3  3  3   \n",
       "2 2021-02-19 12:34:23.821  5  5  5  5  5  5  5   \n",
       "3 2020-11-30 19:57:20.157  5  5  5  5  4  5  5   \n",
       "4 2021-02-20 09:13:48.310  5  5  3  5  4  5  5   \n",
       "\n",
       "                                                   8  \\\n",
       "0                                          excelente   \n",
       "1  demasiados temas modulo ademas considero falto...   \n",
       "2                                  excelente calidad   \n",
       "3  excelente manejo clase conocimientos solidos m...   \n",
       "4  modulo completo instructor excelente dispuesta...   \n",
       "\n",
       "                                                   9  \n",
       "0  Opinión Diplomado Ciencia de Datos UNAM FES Ac...  \n",
       "1  Opinión Diplomado Ciencia de Datos UNAM FES Ac...  \n",
       "2  Opinión Diplomado Ciencia de Datos UNAM FES Ac...  \n",
       "3  Opinión Diplomado CDD UNAM FES Acatlán G3M4 (R...  \n",
       "4  Opinión Diplomado Ciencia de Datos UNAM FES Ac...  "
      ]
     },
     "execution_count": 12,
     "metadata": {},
     "output_type": "execute_result"
    }
   ],
   "source": [
    "from nltk.corpus import stopwords\n",
    "\n",
    "sw = stopwords.words('spanish')\n",
    "sw = [limpiar_texto(w) for w in sw]\n",
    "df[8] = df[8].map(lambda x:\" \".join([v for v in x.split(' ') if v not in sw]))\n",
    "df.head()"
   ]
  },
  {
   "cell_type": "markdown",
   "metadata": {},
   "source": [
    "#### Tokenizamos el texto"
   ]
  },
  {
   "cell_type": "code",
   "execution_count": 13,
   "metadata": {
    "ExecuteTime": {
     "end_time": "2021-04-08T02:27:32.983485Z",
     "start_time": "2021-04-08T02:27:32.979216Z"
    }
   },
   "outputs": [],
   "source": [
    "tk = tf.keras.preprocessing.text.Tokenizer(num_words=500, lower=True,split=' ')"
   ]
  },
  {
   "cell_type": "code",
   "execution_count": 14,
   "metadata": {
    "ExecuteTime": {
     "end_time": "2021-04-08T02:27:43.372443Z",
     "start_time": "2021-04-08T02:27:43.349048Z"
    }
   },
   "outputs": [],
   "source": [
    "tk.fit_on_texts(df[8].values)"
   ]
  },
  {
   "cell_type": "code",
   "execution_count": 15,
   "metadata": {
    "ExecuteTime": {
     "end_time": "2021-04-08T02:27:46.565077Z",
     "start_time": "2021-04-08T02:27:46.556843Z"
    }
   },
   "outputs": [
    {
     "name": "stdout",
     "output_type": "stream",
     "text": [
      "1691\n"
     ]
    }
   ],
   "source": [
    "tam_vocab = len(tk.word_index)\n",
    "print(tam_vocab)"
   ]
  },
  {
   "cell_type": "code",
   "execution_count": 16,
   "metadata": {
    "ExecuteTime": {
     "end_time": "2021-04-08T02:28:44.130378Z",
     "start_time": "2021-04-08T02:28:44.104147Z"
    }
   },
   "outputs": [],
   "source": [
    "X = tk.texts_to_sequences(df[8].values)\n",
    "X = tf.keras.preprocessing.sequence.pad_sequences(X)"
   ]
  },
  {
   "cell_type": "code",
   "execution_count": 17,
   "metadata": {
    "ExecuteTime": {
     "end_time": "2021-04-08T02:28:46.048756Z",
     "start_time": "2021-04-08T02:28:46.035255Z"
    }
   },
   "outputs": [
    {
     "name": "stdout",
     "output_type": "stream",
     "text": [
      "modulo gusto creo carla plasmo bien conceptosy razonable hora evaluar detuvo feedback escucho areas oportunidad unico gustaba volumen microfono pues bajo complico programado python tardaba costaban ciertas cosas creo logre aprender bastante bien carla siempre dispuesta ayudarme resolver dudas ensenar contenido excelente codigos hacia pesar tener preparado aunque lenta clase perdio tiempo parecio bueno siento aprendi mejor\n",
      "[  0   0   0   0   0   0   0   0   0   0   0   0   0   0   0   0   0   0\n",
      "   0   0   0   0   0   0   0   0   0   0   0   0   0   0   0   0   0   0\n",
      "   0   0   0   0   0   0   0   0   0   0   0   0   0   0   0   0   0   0\n",
      "   0   0   0   0   0   0   0   0   0   0   0   0   0   0   0   0   0   0\n",
      "   0   0   0   0   0   0   0   0   0   0   0   0   0   0   0   0   0   0\n",
      "   0   0   0   0   0   0   0   0   0   0   0   0   0   0   0   0   0   0\n",
      "   0   0   0   0   0   0   0   1  43  16  94   7 222 148 317 412 137  78\n",
      " 149  64  32  16  97  34   7  94  38 164  54  21 166   8   5  50 126 364\n",
      "  40 286  80  12 259   4  57   9  49  46  17]\n",
      "personal creo bueno tener practicas equipo embargo considero deberian ser todas asi ser equilibrado tener mismo practica codigos temas solo miembro haga\n",
      "[  0   0   0   0   0   0   0   0   0   0   0   0   0   0   0   0   0   0\n",
      "   0   0   0   0   0   0   0   0   0   0   0   0   0   0   0   0   0   0\n",
      "   0   0   0   0   0   0   0   0   0   0   0   0   0   0   0   0   0   0\n",
      "   0   0   0   0   0   0   0   0   0   0   0   0   0   0   0   0   0   0\n",
      "   0   0   0   0   0   0   0   0   0   0   0   0   0   0   0   0   0   0\n",
      "   0   0   0   0   0   0   0   0   0   0   0   0   0   0   0   0   0   0\n",
      "   0   0   0   0   0   0   0   0   0   0   0   0   0   0   0   0   0   0\n",
      "   0   0   0   0   0   0   0   0   0   0 203  16   9  40   3  63  37  18\n",
      "  45 128  79  45 325  40 119  83  50   2  19]\n"
     ]
    }
   ],
   "source": [
    "print(df[8].values[-1])\n",
    "print(X[-1])\n",
    "print(df[8].values[11])\n",
    "print(X[11])"
   ]
  },
  {
   "cell_type": "markdown",
   "metadata": {},
   "source": [
    "#### Variable objetivo"
   ]
  },
  {
   "cell_type": "code",
   "execution_count": 18,
   "metadata": {
    "ExecuteTime": {
     "end_time": "2021-04-08T02:29:23.856244Z",
     "start_time": "2021-04-08T02:29:23.838055Z"
    }
   },
   "outputs": [
    {
     "data": {
      "text/plain": [
       "count    294.000000\n",
       "mean       4.506803\n",
       "std        0.861553\n",
       "min        1.000000\n",
       "25%        4.000000\n",
       "50%        5.000000\n",
       "75%        5.000000\n",
       "max        5.000000\n",
       "Name: 7, dtype: float64"
      ]
     },
     "execution_count": 18,
     "metadata": {},
     "output_type": "execute_result"
    }
   ],
   "source": [
    "df[7].describe()"
   ]
  },
  {
   "cell_type": "code",
   "execution_count": 19,
   "metadata": {
    "ExecuteTime": {
     "end_time": "2021-04-08T02:29:31.314054Z",
     "start_time": "2021-04-08T02:29:31.287524Z"
    }
   },
   "outputs": [
    {
     "data": {
      "text/html": [
       "<div>\n",
       "<style scoped>\n",
       "    .dataframe tbody tr th:only-of-type {\n",
       "        vertical-align: middle;\n",
       "    }\n",
       "\n",
       "    .dataframe tbody tr th {\n",
       "        vertical-align: top;\n",
       "    }\n",
       "\n",
       "    .dataframe thead th {\n",
       "        text-align: right;\n",
       "    }\n",
       "</style>\n",
       "<table border=\"1\" class=\"dataframe\">\n",
       "  <thead>\n",
       "    <tr style=\"text-align: right;\">\n",
       "      <th></th>\n",
       "      <th>7</th>\n",
       "    </tr>\n",
       "    <tr>\n",
       "      <th>9</th>\n",
       "      <th></th>\n",
       "    </tr>\n",
       "  </thead>\n",
       "  <tbody>\n",
       "    <tr>\n",
       "      <th>Opinión Diplomado CDD UNAM FES Acatlán G2M5 (Responses).xlsx</th>\n",
       "      <td>4.827586</td>\n",
       "    </tr>\n",
       "    <tr>\n",
       "      <th>Opinión Diplomado CDD UNAM FES Acatlán G3M4 (Responses).xlsx</th>\n",
       "      <td>3.437500</td>\n",
       "    </tr>\n",
       "    <tr>\n",
       "      <th>Opinión Diplomado Ciencia de Datos UNAM FES Acatlán G2M4 (Responses).xlsx</th>\n",
       "      <td>4.625000</td>\n",
       "    </tr>\n",
       "    <tr>\n",
       "      <th>Opinión Diplomado Ciencia de Datos UNAM FES Acatlán G3M5  (Responses).xlsx</th>\n",
       "      <td>5.000000</td>\n",
       "    </tr>\n",
       "    <tr>\n",
       "      <th>Opinión Diplomado Ciencia de Datos UNAM FES Acatlán G4M1 (Responses).xlsx</th>\n",
       "      <td>4.555556</td>\n",
       "    </tr>\n",
       "    <tr>\n",
       "      <th>Opinión Diplomado Ciencia de Datos UNAM FES Acatlán M1G5 (Responses).xlsx</th>\n",
       "      <td>4.653846</td>\n",
       "    </tr>\n",
       "    <tr>\n",
       "      <th>Opinión Diplomado Ciencia de Datos UNAM FES Acatlán M1G6 (Responses).xlsx</th>\n",
       "      <td>4.648649</td>\n",
       "    </tr>\n",
       "    <tr>\n",
       "      <th>Opinión Diplomado Ciencia de Datos UNAM FES Acatlán M2G4 (Responses).xlsx</th>\n",
       "      <td>4.555556</td>\n",
       "    </tr>\n",
       "    <tr>\n",
       "      <th>Opinión Diplomado Ciencia de Datos UNAM FES Acatlán M2G5 (Responses).xlsx</th>\n",
       "      <td>4.272727</td>\n",
       "    </tr>\n",
       "    <tr>\n",
       "      <th>Opinión Diplomado Ciencia de Datos UNAM FES Acatlán M3G4 (Responses).xlsx</th>\n",
       "      <td>4.678571</td>\n",
       "    </tr>\n",
       "    <tr>\n",
       "      <th>Opinión Intermedia Diplomado CDD UNAM FES Acatlán G3M4  (Responses).xlsx</th>\n",
       "      <td>3.714286</td>\n",
       "    </tr>\n",
       "  </tbody>\n",
       "</table>\n",
       "</div>"
      ],
      "text/plain": [
       "                                                           7\n",
       "9                                                           \n",
       "Opinión Diplomado CDD UNAM FES Acatlán G2M5 (Re...  4.827586\n",
       "Opinión Diplomado CDD UNAM FES Acatlán G3M4 (Re...  3.437500\n",
       "Opinión Diplomado Ciencia de Datos UNAM FES Aca...  4.625000\n",
       "Opinión Diplomado Ciencia de Datos UNAM FES Aca...  5.000000\n",
       "Opinión Diplomado Ciencia de Datos UNAM FES Aca...  4.555556\n",
       "Opinión Diplomado Ciencia de Datos UNAM FES Aca...  4.653846\n",
       "Opinión Diplomado Ciencia de Datos UNAM FES Aca...  4.648649\n",
       "Opinión Diplomado Ciencia de Datos UNAM FES Aca...  4.555556\n",
       "Opinión Diplomado Ciencia de Datos UNAM FES Aca...  4.272727\n",
       "Opinión Diplomado Ciencia de Datos UNAM FES Aca...  4.678571\n",
       "Opinión Intermedia Diplomado CDD UNAM FES Acatl...  3.714286"
      ]
     },
     "execution_count": 19,
     "metadata": {},
     "output_type": "execute_result"
    }
   ],
   "source": [
    "df[[7,9]].groupby(9).mean()"
   ]
  },
  {
   "cell_type": "code",
   "execution_count": 20,
   "metadata": {
    "ExecuteTime": {
     "end_time": "2021-04-08T02:29:53.677316Z",
     "start_time": "2021-04-08T02:29:53.672983Z"
    }
   },
   "outputs": [],
   "source": [
    "y = np.array((df[7]>=4).astype(int)) #Positivo para puntuaciones 4 y 5"
   ]
  },
  {
   "cell_type": "code",
   "execution_count": 21,
   "metadata": {
    "ExecuteTime": {
     "end_time": "2021-04-08T02:29:54.150963Z",
     "start_time": "2021-04-08T02:29:54.146799Z"
    }
   },
   "outputs": [
    {
     "data": {
      "text/plain": [
       "0.8979591836734694"
      ]
     },
     "execution_count": 21,
     "metadata": {},
     "output_type": "execute_result"
    }
   ],
   "source": [
    "y.mean()"
   ]
  },
  {
   "cell_type": "markdown",
   "metadata": {},
   "source": [
    "#### Construcción del modelo"
   ]
  },
  {
   "cell_type": "code",
   "execution_count": 22,
   "metadata": {
    "ExecuteTime": {
     "end_time": "2021-04-08T02:31:33.083714Z",
     "start_time": "2021-04-08T02:31:33.080651Z"
    }
   },
   "outputs": [],
   "source": [
    "from sklearn.model_selection import train_test_split"
   ]
  },
  {
   "cell_type": "code",
   "execution_count": 23,
   "metadata": {
    "ExecuteTime": {
     "end_time": "2021-04-08T02:31:33.352431Z",
     "start_time": "2021-04-08T02:31:33.349202Z"
    }
   },
   "outputs": [
    {
     "data": {
      "text/plain": [
       "((205, 155), (89, 155))"
      ]
     },
     "execution_count": 23,
     "metadata": {},
     "output_type": "execute_result"
    }
   ],
   "source": [
    "Xt,Xv,yt,yv = train_test_split(X,y,train_size=0.7)\n",
    "Xt.shape,Xv.shape"
   ]
  },
  {
   "cell_type": "code",
   "execution_count": 24,
   "metadata": {
    "ExecuteTime": {
     "end_time": "2021-04-08T02:32:37.098712Z",
     "start_time": "2021-04-08T02:32:37.091250Z"
    }
   },
   "outputs": [],
   "source": [
    "from tensorflow.keras.models import Sequential\n",
    "from tensorflow.keras.layers import LSTM, Dense, Dropout\n",
    "from tensorflow.keras.layers import SpatialDropout1D\n",
    "from tensorflow.keras.layers import Embedding"
   ]
  },
  {
   "cell_type": "code",
   "execution_count": 27,
   "metadata": {
    "ExecuteTime": {
     "end_time": "2021-04-08T02:34:42.667219Z",
     "start_time": "2021-04-08T02:34:42.481014Z"
    }
   },
   "outputs": [
    {
     "name": "stdout",
     "output_type": "stream",
     "text": [
      "Model: \"sequential\"\n",
      "_________________________________________________________________\n",
      "Layer (type)                 Output Shape              Param #   \n",
      "=================================================================\n",
      "embedding (Embedding)        (None, 155, 24)           40584     \n",
      "_________________________________________________________________\n",
      "spatial_dropout1d (SpatialDr (None, 155, 24)           0         \n",
      "_________________________________________________________________\n",
      "lstm (LSTM)                  (None, 100)               50000     \n",
      "_________________________________________________________________\n",
      "dropout (Dropout)            (None, 100)               0         \n",
      "_________________________________________________________________\n",
      "dense (Dense)                (None, 1)                 101       \n",
      "=================================================================\n",
      "Total params: 90,685\n",
      "Trainable params: 90,685\n",
      "Non-trainable params: 0\n",
      "_________________________________________________________________\n",
      "None\n"
     ]
    }
   ],
   "source": [
    "tam_vector_embed = 24\n",
    "model = Sequential()\n",
    "model.add(Embedding(tam_vocab, tam_vector_embed,     \n",
    "                                     input_length=Xt.shape[1]) )\n",
    "model.add(SpatialDropout1D(0.25))\n",
    "model.add(LSTM(100, dropout=0.5, recurrent_dropout=0.5))\n",
    "model.add(Dropout(0.2))\n",
    "model.add(Dense(1, activation='sigmoid'))\n",
    "model.compile(loss='binary_crossentropy',\n",
    "              optimizer=tf.keras.optimizers.RMSprop(learning_rate=1e-4),\n",
    "              metrics=[tf.keras.metrics.AUC()])\n",
    "print(model.summary())"
   ]
  },
  {
   "cell_type": "code",
   "execution_count": 28,
   "metadata": {
    "ExecuteTime": {
     "end_time": "2021-04-08T02:36:47.013500Z",
     "start_time": "2021-04-08T02:35:11.868541Z"
    },
    "scrolled": true
   },
   "outputs": [
    {
     "name": "stdout",
     "output_type": "stream",
     "text": [
      "Epoch 1/100\n",
      "9/9 [==============================] - 1s 138ms/step - loss: 0.6877 - auc: 0.5436 - val_loss: 0.6799 - val_auc: 0.5000\n",
      "Epoch 2/100\n",
      "9/9 [==============================] - 1s 99ms/step - loss: 0.6763 - auc: 0.5477 - val_loss: 0.6663 - val_auc: 0.6004\n",
      "Epoch 3/100\n",
      "9/9 [==============================] - 1s 98ms/step - loss: 0.6602 - auc: 0.6910 - val_loss: 0.6422 - val_auc: 0.7108\n",
      "Epoch 4/100\n",
      "9/9 [==============================] - 1s 97ms/step - loss: 0.6296 - auc: 0.6552 - val_loss: 0.5794 - val_auc: 0.7711\n",
      "Epoch 5/100\n",
      "9/9 [==============================] - 1s 98ms/step - loss: 0.5023 - auc: 0.5169 - val_loss: 0.2413 - val_auc: 0.7189\n",
      "Epoch 6/100\n",
      "9/9 [==============================] - 1s 105ms/step - loss: 0.3681 - auc: 0.5241 - val_loss: 0.2418 - val_auc: 0.7349\n",
      "Epoch 7/100\n",
      "9/9 [==============================] - 1s 97ms/step - loss: 0.3491 - auc: 0.6093 - val_loss: 0.2409 - val_auc: 0.7289\n",
      "Epoch 8/100\n",
      "9/9 [==============================] - 1s 95ms/step - loss: 0.3681 - auc: 0.4885 - val_loss: 0.2428 - val_auc: 0.7129\n",
      "Epoch 9/100\n",
      "9/9 [==============================] - 1s 95ms/step - loss: 0.3605 - auc: 0.5307 - val_loss: 0.2433 - val_auc: 0.7339\n",
      "Epoch 10/100\n",
      "9/9 [==============================] - 1s 97ms/step - loss: 0.3526 - auc: 0.6046 - val_loss: 0.2421 - val_auc: 0.7560\n",
      "Epoch 11/100\n",
      "9/9 [==============================] - 1s 95ms/step - loss: 0.3605 - auc: 0.5153 - val_loss: 0.2421 - val_auc: 0.6938\n",
      "Epoch 12/100\n",
      "9/9 [==============================] - 1s 94ms/step - loss: 0.3529 - auc: 0.6153 - val_loss: 0.2589 - val_auc: 0.7791\n",
      "Epoch 13/100\n",
      "9/9 [==============================] - 1s 101ms/step - loss: 0.3639 - auc: 0.5204 - val_loss: 0.2409 - val_auc: 0.7008\n",
      "Epoch 14/100\n",
      "9/9 [==============================] - 1s 95ms/step - loss: 0.3487 - auc: 0.6273 - val_loss: 0.2418 - val_auc: 0.7671\n",
      "Epoch 15/100\n",
      "9/9 [==============================] - 1s 93ms/step - loss: 0.3547 - auc: 0.5884 - val_loss: 0.2429 - val_auc: 0.7480\n",
      "Epoch 16/100\n",
      "9/9 [==============================] - 1s 94ms/step - loss: 0.3636 - auc: 0.5116 - val_loss: 0.2439 - val_auc: 0.7440\n",
      "Epoch 17/100\n",
      "9/9 [==============================] - 1s 95ms/step - loss: 0.3474 - auc: 0.6649 - val_loss: 0.2421 - val_auc: 0.7600\n",
      "Epoch 18/100\n",
      "9/9 [==============================] - 1s 99ms/step - loss: 0.3576 - auc: 0.5526 - val_loss: 0.2409 - val_auc: 0.8002\n",
      "Epoch 19/100\n",
      "9/9 [==============================] - 1s 99ms/step - loss: 0.3469 - auc: 0.6439 - val_loss: 0.2416 - val_auc: 0.7349\n",
      "Epoch 20/100\n",
      "9/9 [==============================] - 1s 89ms/step - loss: 0.3541 - auc: 0.5982 - val_loss: 0.2391 - val_auc: 0.7711\n",
      "Epoch 21/100\n",
      "9/9 [==============================] - 1s 99ms/step - loss: 0.3555 - auc: 0.5450 - val_loss: 0.2392 - val_auc: 0.7620\n",
      "Epoch 22/100\n",
      "9/9 [==============================] - 1s 87ms/step - loss: 0.3617 - auc: 0.5394 - val_loss: 0.2396 - val_auc: 0.7550\n",
      "Epoch 23/100\n",
      "9/9 [==============================] - 1s 86ms/step - loss: 0.3505 - auc: 0.6451 - val_loss: 0.2383 - val_auc: 0.7349\n",
      "Epoch 24/100\n",
      "9/9 [==============================] - 1s 85ms/step - loss: 0.3410 - auc: 0.6524 - val_loss: 0.2396 - val_auc: 0.7470\n",
      "Epoch 25/100\n",
      "9/9 [==============================] - 1s 86ms/step - loss: 0.3502 - auc: 0.6242 - val_loss: 0.2386 - val_auc: 0.7841\n",
      "Epoch 26/100\n",
      "9/9 [==============================] - 1s 90ms/step - loss: 0.3480 - auc: 0.6515 - val_loss: 0.2385 - val_auc: 0.7791\n",
      "Epoch 27/100\n",
      "9/9 [==============================] - 1s 93ms/step - loss: 0.3487 - auc: 0.6134 - val_loss: 0.2360 - val_auc: 0.7882\n",
      "Epoch 28/100\n",
      "9/9 [==============================] - 1s 89ms/step - loss: 0.3498 - auc: 0.6213 - val_loss: 0.2365 - val_auc: 0.8062\n",
      "Epoch 29/100\n",
      "9/9 [==============================] - 1s 94ms/step - loss: 0.3419 - auc: 0.6685 - val_loss: 0.2368 - val_auc: 0.7570\n",
      "Epoch 30/100\n",
      "9/9 [==============================] - 1s 98ms/step - loss: 0.3452 - auc: 0.6211 - val_loss: 0.2353 - val_auc: 0.7711\n",
      "Epoch 31/100\n",
      "9/9 [==============================] - 1s 93ms/step - loss: 0.3350 - auc: 0.7064 - val_loss: 0.2373 - val_auc: 0.7741\n",
      "Epoch 32/100\n",
      "9/9 [==============================] - 1s 93ms/step - loss: 0.3466 - auc: 0.6579 - val_loss: 0.2387 - val_auc: 0.7691\n",
      "Epoch 33/100\n",
      "9/9 [==============================] - 1s 96ms/step - loss: 0.3488 - auc: 0.6272 - val_loss: 0.2348 - val_auc: 0.7711\n",
      "Epoch 34/100\n",
      "9/9 [==============================] - 1s 92ms/step - loss: 0.3463 - auc: 0.6450 - val_loss: 0.2332 - val_auc: 0.7691\n",
      "Epoch 35/100\n",
      "9/9 [==============================] - 1s 93ms/step - loss: 0.3398 - auc: 0.6622 - val_loss: 0.2446 - val_auc: 0.7861\n",
      "Epoch 36/100\n",
      "9/9 [==============================] - 1s 92ms/step - loss: 0.3445 - auc: 0.6584 - val_loss: 0.2330 - val_auc: 0.7761\n",
      "Epoch 37/100\n",
      "9/9 [==============================] - 1s 94ms/step - loss: 0.3359 - auc: 0.6911 - val_loss: 0.2312 - val_auc: 0.7972\n",
      "Epoch 38/100\n",
      "9/9 [==============================] - 1s 92ms/step - loss: 0.3363 - auc: 0.6968 - val_loss: 0.2307 - val_auc: 0.7932\n",
      "Epoch 39/100\n",
      "9/9 [==============================] - 1s 91ms/step - loss: 0.3323 - auc: 0.6785 - val_loss: 0.2369 - val_auc: 0.7831\n",
      "Epoch 40/100\n",
      "9/9 [==============================] - 1s 96ms/step - loss: 0.3370 - auc: 0.6873 - val_loss: 0.2306 - val_auc: 0.7871\n",
      "Epoch 41/100\n",
      "9/9 [==============================] - 1s 101ms/step - loss: 0.3286 - auc: 0.7360 - val_loss: 0.2288 - val_auc: 0.7851\n",
      "Epoch 42/100\n",
      "9/9 [==============================] - 1s 97ms/step - loss: 0.3319 - auc: 0.7434 - val_loss: 0.2307 - val_auc: 0.7851\n",
      "Epoch 43/100\n",
      "9/9 [==============================] - 1s 100ms/step - loss: 0.3293 - auc: 0.7310 - val_loss: 0.2286 - val_auc: 0.7902\n",
      "Epoch 44/100\n",
      "9/9 [==============================] - 1s 93ms/step - loss: 0.3372 - auc: 0.6740 - val_loss: 0.2343 - val_auc: 0.7972\n",
      "Epoch 45/100\n",
      "9/9 [==============================] - 1s 87ms/step - loss: 0.3277 - auc: 0.7429 - val_loss: 0.2279 - val_auc: 0.8062\n",
      "Epoch 46/100\n",
      "9/9 [==============================] - 1s 97ms/step - loss: 0.3267 - auc: 0.7384 - val_loss: 0.2416 - val_auc: 0.7992\n",
      "Epoch 47/100\n",
      "9/9 [==============================] - 1s 103ms/step - loss: 0.3180 - auc: 0.8012 - val_loss: 0.2255 - val_auc: 0.7982\n",
      "Epoch 48/100\n",
      "9/9 [==============================] - 1s 100ms/step - loss: 0.3309 - auc: 0.7052 - val_loss: 0.2245 - val_auc: 0.7932\n",
      "Epoch 49/100\n",
      "9/9 [==============================] - 1s 102ms/step - loss: 0.3263 - auc: 0.7401 - val_loss: 0.2238 - val_auc: 0.8133\n",
      "Epoch 50/100\n",
      "9/9 [==============================] - 1s 100ms/step - loss: 0.3214 - auc: 0.7368 - val_loss: 0.2230 - val_auc: 0.8012\n",
      "Epoch 51/100\n",
      "9/9 [==============================] - 1s 100ms/step - loss: 0.3193 - auc: 0.7825 - val_loss: 0.2227 - val_auc: 0.8102\n",
      "Epoch 52/100\n",
      "9/9 [==============================] - 1s 101ms/step - loss: 0.3207 - auc: 0.7459 - val_loss: 0.2262 - val_auc: 0.8133\n",
      "Epoch 53/100\n",
      "9/9 [==============================] - 1s 100ms/step - loss: 0.3134 - auc: 0.7851 - val_loss: 0.2206 - val_auc: 0.7952\n",
      "Epoch 54/100\n",
      "9/9 [==============================] - 1s 97ms/step - loss: 0.3150 - auc: 0.7683 - val_loss: 0.2214 - val_auc: 0.8102\n",
      "Epoch 55/100\n",
      "9/9 [==============================] - 1s 86ms/step - loss: 0.3166 - auc: 0.7698 - val_loss: 0.2243 - val_auc: 0.8022\n",
      "Epoch 56/100\n",
      "9/9 [==============================] - 1s 86ms/step - loss: 0.3172 - auc: 0.7575 - val_loss: 0.2222 - val_auc: 0.8213\n",
      "Epoch 57/100\n",
      "9/9 [==============================] - 1s 87ms/step - loss: 0.3258 - auc: 0.7223 - val_loss: 0.2179 - val_auc: 0.8143\n",
      "Epoch 58/100\n",
      "9/9 [==============================] - 1s 88ms/step - loss: 0.3078 - auc: 0.7733 - val_loss: 0.2218 - val_auc: 0.8112\n",
      "Epoch 59/100\n",
      "9/9 [==============================] - 1s 88ms/step - loss: 0.3110 - auc: 0.7874 - val_loss: 0.2394 - val_auc: 0.8112\n",
      "Epoch 60/100\n",
      "9/9 [==============================] - 1s 86ms/step - loss: 0.2944 - auc: 0.8582 - val_loss: 0.2164 - val_auc: 0.8183\n",
      "Epoch 61/100\n",
      "9/9 [==============================] - 1s 87ms/step - loss: 0.3062 - auc: 0.8100 - val_loss: 0.2158 - val_auc: 0.8233\n",
      "Epoch 62/100\n",
      "9/9 [==============================] - 1s 89ms/step - loss: 0.3008 - auc: 0.7980 - val_loss: 0.2156 - val_auc: 0.8032\n",
      "Epoch 63/100\n"
     ]
    },
    {
     "name": "stdout",
     "output_type": "stream",
     "text": [
      "9/9 [==============================] - 1s 85ms/step - loss: 0.3007 - auc: 0.7996 - val_loss: 0.2219 - val_auc: 0.8233\n",
      "Epoch 64/100\n",
      "9/9 [==============================] - 1s 86ms/step - loss: 0.3158 - auc: 0.7652 - val_loss: 0.2138 - val_auc: 0.8293\n",
      "Epoch 65/100\n",
      "9/9 [==============================] - 1s 86ms/step - loss: 0.2971 - auc: 0.7998 - val_loss: 0.2143 - val_auc: 0.8133\n",
      "Epoch 66/100\n",
      "9/9 [==============================] - 1s 85ms/step - loss: 0.2966 - auc: 0.8085 - val_loss: 0.2177 - val_auc: 0.8193\n",
      "Epoch 67/100\n",
      "9/9 [==============================] - 1s 85ms/step - loss: 0.3119 - auc: 0.7373 - val_loss: 0.2127 - val_auc: 0.8122\n",
      "Epoch 68/100\n",
      "9/9 [==============================] - 1s 86ms/step - loss: 0.2948 - auc: 0.8195 - val_loss: 0.2110 - val_auc: 0.8122\n",
      "Epoch 69/100\n",
      "9/9 [==============================] - 1s 84ms/step - loss: 0.2956 - auc: 0.8155 - val_loss: 0.2109 - val_auc: 0.8313\n",
      "Epoch 70/100\n",
      "9/9 [==============================] - 1s 85ms/step - loss: 0.2977 - auc: 0.8240 - val_loss: 0.2098 - val_auc: 0.8223\n",
      "Epoch 71/100\n",
      "9/9 [==============================] - 1s 84ms/step - loss: 0.2879 - auc: 0.8341 - val_loss: 0.2089 - val_auc: 0.8253\n",
      "Epoch 72/100\n",
      "9/9 [==============================] - 1s 84ms/step - loss: 0.2881 - auc: 0.8202 - val_loss: 0.2168 - val_auc: 0.8283\n",
      "Epoch 73/100\n",
      "9/9 [==============================] - 1s 91ms/step - loss: 0.2900 - auc: 0.8171 - val_loss: 0.2079 - val_auc: 0.8323\n",
      "Epoch 74/100\n",
      "9/9 [==============================] - 1s 92ms/step - loss: 0.2808 - auc: 0.8536 - val_loss: 0.2085 - val_auc: 0.8323\n",
      "Epoch 75/100\n",
      "9/9 [==============================] - 1s 90ms/step - loss: 0.2878 - auc: 0.8515 - val_loss: 0.2238 - val_auc: 0.8333\n",
      "Epoch 76/100\n",
      "9/9 [==============================] - 1s 90ms/step - loss: 0.2868 - auc: 0.8200 - val_loss: 0.2082 - val_auc: 0.8404\n",
      "Epoch 77/100\n",
      "9/9 [==============================] - 1s 91ms/step - loss: 0.2822 - auc: 0.8413 - val_loss: 0.2051 - val_auc: 0.8464\n",
      "Epoch 78/100\n",
      "9/9 [==============================] - 1s 91ms/step - loss: 0.2827 - auc: 0.8336 - val_loss: 0.2042 - val_auc: 0.8414\n",
      "Epoch 79/100\n",
      "9/9 [==============================] - 1s 90ms/step - loss: 0.2780 - auc: 0.8320 - val_loss: 0.2036 - val_auc: 0.8394\n",
      "Epoch 80/100\n",
      "9/9 [==============================] - 1s 91ms/step - loss: 0.2759 - auc: 0.8523 - val_loss: 0.2086 - val_auc: 0.8434\n",
      "Epoch 81/100\n",
      "9/9 [==============================] - 1s 90ms/step - loss: 0.2733 - auc: 0.8695 - val_loss: 0.2020 - val_auc: 0.8474\n",
      "Epoch 82/100\n",
      "9/9 [==============================] - 1s 90ms/step - loss: 0.2666 - auc: 0.8886 - val_loss: 0.2012 - val_auc: 0.8424\n",
      "Epoch 83/100\n",
      "9/9 [==============================] - 1s 91ms/step - loss: 0.2754 - auc: 0.8405 - val_loss: 0.2202 - val_auc: 0.8514\n",
      "Epoch 84/100\n",
      "9/9 [==============================] - 1s 91ms/step - loss: 0.2721 - auc: 0.8713 - val_loss: 0.2009 - val_auc: 0.8474\n",
      "Epoch 85/100\n",
      "9/9 [==============================] - 1s 90ms/step - loss: 0.2754 - auc: 0.8423 - val_loss: 0.1995 - val_auc: 0.8574\n",
      "Epoch 86/100\n",
      "9/9 [==============================] - 1s 91ms/step - loss: 0.2472 - auc: 0.9335 - val_loss: 0.2156 - val_auc: 0.8544\n",
      "Epoch 87/100\n",
      "9/9 [==============================] - 1s 90ms/step - loss: 0.2683 - auc: 0.8480 - val_loss: 0.1976 - val_auc: 0.8544\n",
      "Epoch 88/100\n",
      "9/9 [==============================] - 1s 93ms/step - loss: 0.2575 - auc: 0.8886 - val_loss: 0.1994 - val_auc: 0.8544\n",
      "Epoch 89/100\n",
      "9/9 [==============================] - 1s 91ms/step - loss: 0.2530 - auc: 0.8959 - val_loss: 0.1978 - val_auc: 0.8594\n",
      "Epoch 90/100\n",
      "9/9 [==============================] - 1s 90ms/step - loss: 0.2438 - auc: 0.9151 - val_loss: 0.1952 - val_auc: 0.8574\n",
      "Epoch 91/100\n",
      "9/9 [==============================] - 1s 90ms/step - loss: 0.2511 - auc: 0.8821 - val_loss: 0.1944 - val_auc: 0.8594\n",
      "Epoch 92/100\n",
      "9/9 [==============================] - 1s 91ms/step - loss: 0.2529 - auc: 0.8677 - val_loss: 0.1933 - val_auc: 0.8725\n",
      "Epoch 93/100\n",
      "9/9 [==============================] - 1s 91ms/step - loss: 0.2488 - auc: 0.8902 - val_loss: 0.1923 - val_auc: 0.8685\n",
      "Epoch 94/100\n",
      "9/9 [==============================] - 1s 91ms/step - loss: 0.2673 - auc: 0.8637 - val_loss: 0.2216 - val_auc: 0.8785\n",
      "Epoch 95/100\n",
      "9/9 [==============================] - 1s 91ms/step - loss: 0.2386 - auc: 0.9290 - val_loss: 0.1925 - val_auc: 0.8775\n",
      "Epoch 96/100\n",
      "9/9 [==============================] - 1s 91ms/step - loss: 0.2428 - auc: 0.9044 - val_loss: 0.2022 - val_auc: 0.8835\n",
      "Epoch 97/100\n",
      "9/9 [==============================] - 1s 90ms/step - loss: 0.2519 - auc: 0.8812 - val_loss: 0.1894 - val_auc: 0.8815\n",
      "Epoch 98/100\n",
      "9/9 [==============================] - 1s 91ms/step - loss: 0.2322 - auc: 0.9270 - val_loss: 0.1913 - val_auc: 0.8765\n",
      "Epoch 99/100\n",
      "9/9 [==============================] - 1s 92ms/step - loss: 0.2437 - auc: 0.8939 - val_loss: 0.1889 - val_auc: 0.8785\n",
      "Epoch 100/100\n",
      "9/9 [==============================] - 1s 90ms/step - loss: 0.2388 - auc: 0.9024 - val_loss: 0.1945 - val_auc: 0.8845\n"
     ]
    }
   ],
   "source": [
    "historia = model.fit(X,y,\n",
    "                  validation_split=0.3, \n",
    "                     epochs=100, \n",
    "                     batch_size=25,\n",
    "                     shuffle=True)"
   ]
  },
  {
   "cell_type": "code",
   "execution_count": 29,
   "metadata": {
    "ExecuteTime": {
     "end_time": "2021-04-08T02:36:57.747805Z",
     "start_time": "2021-04-08T02:36:57.741308Z"
    }
   },
   "outputs": [],
   "source": [
    "import matplotlib.pyplot as plt\n",
    "\n",
    "hist = historia.history\n",
    "x_arr = np.arange(len(hist['loss']))+1"
   ]
  },
  {
   "cell_type": "code",
   "execution_count": 30,
   "metadata": {
    "ExecuteTime": {
     "end_time": "2021-04-08T02:36:59.260106Z",
     "start_time": "2021-04-08T02:36:59.031128Z"
    }
   },
   "outputs": [
    {
     "data": {
      "image/png": "[encoded data removed]",
      "text/plain": [
       "<Figure size 864x360 with 2 Axes>"
      ]
     },
     "metadata": {
      "needs_background": "light"
     },
     "output_type": "display_data"
    }
   ],
   "source": [
    "\n",
    "fig = plt.figure(figsize=(12,5))\n",
    "ax = fig.add_subplot(1,2,1)\n",
    "ax.plot(hist['loss'],'-o',label='Pérdida de Entrenamiento')\n",
    "ax.plot(hist['val_loss'],'--<',label='Pérdida de Validación')\n",
    "ax.set_title('Pérdida',size=15)\n",
    "ax.set_xlabel('Época',size=15)\n",
    "ax.tick_params(axis='both',which='major',labelsize=15)\n",
    "ax.legend(fontsize=15)\n",
    "ax = fig.add_subplot(1,2,2)\n",
    "ax.plot(hist['auc'],'-o',label='Precisión Entrenamiento')\n",
    "ax.plot(hist['val_auc'],'--<',label='Precisión Validación')\n",
    "ax.set_title('Precisión',size=15)\n",
    "ax.set_xlabel('Época',size=15)\n",
    "ax.tick_params(axis='both',which='major',labelsize=15)\n",
    "ax.legend(fontsize=15)\n",
    "plt.show()"
   ]
  },
  {
   "cell_type": "markdown",
   "metadata": {},
   "source": [
    "#### Prueba del modelo"
   ]
  },
  {
   "cell_type": "code",
   "execution_count": 31,
   "metadata": {
    "ExecuteTime": {
     "end_time": "2021-04-08T02:37:14.673533Z",
     "start_time": "2021-04-08T02:37:14.667474Z"
    }
   },
   "outputs": [],
   "source": [
    "from sklearn.metrics import accuracy_score,roc_auc_score,confusion_matrix"
   ]
  },
  {
   "cell_type": "code",
   "execution_count": 32,
   "metadata": {
    "ExecuteTime": {
     "end_time": "2021-04-08T02:37:15.375078Z",
     "start_time": "2021-04-08T02:37:15.065386Z"
    }
   },
   "outputs": [],
   "source": [
    "yt_pred = model.predict(Xt)\n",
    "yt_pred = np.array([int(x[0]>=0.5) for x in yt_pred])\n",
    "yv_pred = model.predict(Xv)\n",
    "yv_pred = np.array([int(x[0]>=0.5) for x in yv_pred])"
   ]
  },
  {
   "cell_type": "code",
   "execution_count": 33,
   "metadata": {
    "ExecuteTime": {
     "end_time": "2021-04-08T02:37:26.010995Z",
     "start_time": "2021-04-08T02:37:25.823038Z"
    }
   },
   "outputs": [],
   "source": [
    "yt_score =np.array([x[0] for x in model.predict(Xt)])\n",
    "yv_score =np.array([x[0] for x in model.predict(Xv)])"
   ]
  },
  {
   "cell_type": "code",
   "execution_count": 34,
   "metadata": {
    "ExecuteTime": {
     "end_time": "2021-04-08T02:37:33.087397Z",
     "start_time": "2021-04-08T02:37:33.074967Z"
    }
   },
   "outputs": [
    {
     "data": {
      "text/plain": [
       "(0.9219512195121952, 0.9101123595505618)"
      ]
     },
     "execution_count": 34,
     "metadata": {},
     "output_type": "execute_result"
    }
   ],
   "source": [
    "accuracy_score(y_true=yt,y_pred=yt_pred),accuracy_score(y_true=yv,y_pred=yv_pred)"
   ]
  },
  {
   "cell_type": "code",
   "execution_count": 35,
   "metadata": {
    "ExecuteTime": {
     "end_time": "2021-04-08T02:37:38.407067Z",
     "start_time": "2021-04-08T02:37:38.387003Z"
    }
   },
   "outputs": [
    {
     "data": {
      "text/plain": [
       "(0.951564828614009, 0.8179012345679012)"
      ]
     },
     "execution_count": 35,
     "metadata": {},
     "output_type": "execute_result"
    }
   ],
   "source": [
    "roc_auc_score(y_true=yt,y_score=yt_score),roc_auc_score(y_true=yv,y_score=yv_score)"
   ]
  },
  {
   "cell_type": "code",
   "execution_count": 36,
   "metadata": {
    "ExecuteTime": {
     "end_time": "2021-04-08T02:37:55.551014Z",
     "start_time": "2021-04-08T02:37:55.543721Z"
    }
   },
   "outputs": [
    {
     "data": {
      "text/plain": [
       "(array([[  6,  16],\n",
       "        [  0, 183]]),\n",
       " array([[ 0,  8],\n",
       "        [ 0, 81]]))"
      ]
     },
     "execution_count": 36,
     "metadata": {},
     "output_type": "execute_result"
    }
   ],
   "source": [
    "confusion_matrix(y_true=yt,y_pred=yt_pred),confusion_matrix(y_true=yv,y_pred=yv_pred)"
   ]
  },
  {
   "cell_type": "code",
   "execution_count": 44,
   "metadata": {
    "ExecuteTime": {
     "end_time": "2021-04-08T02:39:28.649247Z",
     "start_time": "2021-04-08T02:39:28.606230Z"
    }
   },
   "outputs": [
    {
     "data": {
      "text/plain": [
       "'modulo completo instructor excelente dispuesta resolver cualquier duda maneja bien temas'"
      ]
     },
     "execution_count": 44,
     "metadata": {},
     "output_type": "execute_result"
    }
   ],
   "source": [
    "tk.sequences_to_texts(X)[4]"
   ]
  },
  {
   "cell_type": "code",
   "execution_count": 45,
   "metadata": {
    "ExecuteTime": {
     "end_time": "2021-04-08T02:39:30.782848Z",
     "start_time": "2021-04-08T02:39:30.771284Z"
    }
   },
   "outputs": [
    {
     "data": {
      "text/plain": [
       "1"
      ]
     },
     "execution_count": 45,
     "metadata": {},
     "output_type": "execute_result"
    }
   ],
   "source": [
    "y[4]"
   ]
  },
  {
   "cell_type": "code",
   "execution_count": 39,
   "metadata": {
    "ExecuteTime": {
     "end_time": "2021-04-08T02:38:27.122692Z",
     "start_time": "2021-04-08T02:38:27.109218Z"
    }
   },
   "outputs": [
    {
     "data": {
      "text/plain": [
       "array([1, 0, 1, 1, 1, 0, 1, 1, 1, 1, 1, 0, 1, 1, 1, 1, 1, 1, 1, 1, 1, 1,\n",
       "       1, 1, 0, 1, 1, 1, 1, 1, 1, 1, 1, 1, 1, 1, 1, 1, 1, 1, 1, 0, 1, 1,\n",
       "       1, 1, 1, 1, 1, 1, 1, 1, 1, 1, 1, 1, 0, 1, 1, 1, 1, 1, 1, 1, 1, 1,\n",
       "       1, 1, 0, 1, 1, 0, 1, 1, 0, 1, 1, 1, 1, 1, 1, 1, 1, 1, 1, 0, 1, 0,\n",
       "       1, 1, 1, 0, 1, 1, 1, 1, 1, 1, 1, 1, 1, 1, 1, 1, 1, 1, 0, 1, 1, 1,\n",
       "       1, 0, 1, 1, 1, 1, 1, 0, 1, 1, 1, 1, 1, 0, 0, 1, 1, 1, 1, 0, 1, 1,\n",
       "       1, 1, 1, 1, 1, 0, 1, 1, 0, 1, 1, 1, 0, 1, 1, 1, 0, 1, 1, 1, 1, 1,\n",
       "       1, 1, 1, 1, 1, 1, 1, 1, 1, 1, 1, 1, 1, 1, 1, 1, 1, 1, 1, 1, 1, 1,\n",
       "       1, 1, 1, 1, 1, 0, 1, 1, 1, 1, 1, 1, 1, 1, 1, 1, 1, 1, 1, 1, 1, 1,\n",
       "       1, 0, 1, 1, 1, 1, 1, 1, 1, 1, 0, 1, 1, 1, 1, 1, 1, 1, 1, 1, 1, 1,\n",
       "       1, 1, 1, 1, 1, 1, 1, 1, 1, 1, 1, 1, 1, 1, 1, 1, 1, 1, 1, 1, 1, 1,\n",
       "       1, 1, 1, 1, 1, 0, 1, 1, 1, 1, 1, 1, 1, 1, 1, 1, 1, 1, 1, 1, 1, 1,\n",
       "       1, 1, 1, 1, 1, 0, 1, 1, 1, 1, 1, 0, 1, 1, 1, 1, 1, 1, 1, 1, 1, 1,\n",
       "       1, 1, 1, 0, 0, 1, 1, 1])"
      ]
     },
     "execution_count": 39,
     "metadata": {},
     "output_type": "execute_result"
    }
   ],
   "source": [
    "y"
   ]
  },
  {
   "cell_type": "code",
   "execution_count": null,
   "metadata": {},
   "outputs": [],
   "source": []
  }
 ],
 "metadata": {
  "kernelspec": {
   "display_name": "ins",
   "language": "python",
   "name": "ins"
  },
  "language_info": {
   "codemirror_mode": {
    "name": "ipython",
    "version": 3
   },
   "file_extension": ".py",
   "mimetype": "text/x-python",
   "name": "python",
   "nbconvert_exporter": "python",
   "pygments_lexer": "ipython3",
   "version": "3.8.5"
  },
  "toc": {
   "base_numbering": 1,
   "nav_menu": {},
   "number_sections": true,
   "sideBar": true,
   "skip_h1_title": false,
   "title_cell": "Table of Contents",
   "title_sidebar": "Contents",
   "toc_cell": false,
   "toc_position": {},
   "toc_section_display": true,
   "toc_window_display": true
  }
 },
 "nbformat": 4,
 "nbformat_minor": 4
}
