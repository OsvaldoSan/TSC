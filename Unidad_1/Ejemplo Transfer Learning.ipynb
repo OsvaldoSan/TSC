{
  "nbformat": 4,
  "nbformat_minor": 5,
  "metadata": {
    "kernelspec": {
      "display_name": "Python 3",
      "language": "python",
      "name": "python3"
    },
    "language_info": {
      "codemirror_mode": {
        "name": "ipython",
        "version": 3
      },
      "file_extension": ".py",
      "mimetype": "text/x-python",
      "name": "python",
      "nbconvert_exporter": "python",
      "pygments_lexer": "ipython3",
      "version": "3.8.5"
    },
    "toc": {
      "base_numbering": 1,
      "nav_menu": {},
      "number_sections": true,
      "sideBar": true,
      "skip_h1_title": false,
      "title_cell": "Table of Contents",
      "title_sidebar": "Contents",
      "toc_cell": false,
      "toc_position": {},
      "toc_section_display": true,
      "toc_window_display": false
    },
    "colab": {
      "name": "Ejemplo Transfer Learning.ipynb",
      "provenance": [],
      "include_colab_link": true
    }
  },
  "cells": [
    {
      "cell_type": "markdown",
      "metadata": {
        "id": "view-in-github",
        "colab_type": "text"
      },
      "source": [
        "<a href=\"https://colab.research.google.com/github/OsvaldoSan/TSC/blob/master/Unidad_1/Ejemplo%20Transfer%20Learning.ipynb\" target=\"_parent\"><img src=\"https://colab.research.google.com/assets/colab-badge.svg\" alt=\"Open In Colab\"/></a>"
      ]
    },
    {
      "cell_type": "markdown",
      "metadata": {
        "id": "coastal-apache"
      },
      "source": [
        "## Dependencias"
      ],
      "id": "coastal-apache"
    },
    {
      "cell_type": "code",
      "metadata": {
        "ExecuteTime": {
          "end_time": "2021-03-11T02:53:58.708591Z",
          "start_time": "2021-03-11T02:53:57.465569Z"
        },
        "id": "alleged-roller"
      },
      "source": [
        "import tensorflow as tf\n",
        "import pandas as pd\n",
        "from keras import models,layers,optimizers\n",
        "from keras.preprocessing.image import ImageDataGenerator\n",
        "from keras.preprocessing import image\n",
        "from keras.applications import VGG16\n",
        "import numpy as np\n",
        "import matplotlib.pyplot as plt\n",
        "import os\n",
        "import shutil"
      ],
      "id": "alleged-roller",
      "execution_count": 1,
      "outputs": []
    },
    {
      "cell_type": "markdown",
      "metadata": {
        "id": "TDLq4aiapxaC"
      },
      "source": [
        "# Descargar dataset"
      ],
      "id": "TDLq4aiapxaC"
    },
    {
      "cell_type": "markdown",
      "metadata": {
        "id": "4BCmaeJJp3QW"
      },
      "source": [
        "### Conectar con API de Kaggle"
      ],
      "id": "4BCmaeJJp3QW"
    },
    {
      "cell_type": "code",
      "metadata": {
        "id": "1pQNZqDwkJi_",
        "outputId": "e892eb80-5f2b-4d45-d912-e1c4f3fc619d",
        "colab": {
          "resources": {
            "http://localhost:8080/nbextensions/google.colab/files.js": {
              "data": "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",
              "ok": true,
              "headers": [
                [
                  "content-type",
                  "application/javascript"
                ]
              ],
              "status": 200,
              "status_text": "OK"
            }
          },
          "base_uri": "https://localhost:8080/",
          "height": 96
        }
      },
      "source": [
        "from google.colab import files\n",
        "\n",
        "uploaded = files.upload()\n",
        "\n",
        "for fn in uploaded.keys():\n",
        "  print('User uploaded file \"{name}\" with length {length} bytes'.format(\n",
        "      name=fn, length=len(uploaded[fn])))\n",
        "  \n",
        "# Then move kaggle.json into the folder where the API expects to find it.\n",
        "!mkdir -p ~/.kaggle/ && mv kaggle.json ~/.kaggle/ && chmod 600 ~/.kaggle/kaggle.json"
      ],
      "id": "1pQNZqDwkJi_",
      "execution_count": 18,
      "outputs": [
        {
          "output_type": "display_data",
          "data": {
            "text/html": [
              "\n",
              "     <input type=\"file\" id=\"files-d0e5e400-4ae8-4545-881b-d79d1898b1ef\" name=\"files[]\" multiple disabled\n",
              "        style=\"border:none\" />\n",
              "     <output id=\"result-d0e5e400-4ae8-4545-881b-d79d1898b1ef\">\n",
              "      Upload widget is only available when the cell has been executed in the\n",
              "      current browser session. Please rerun this cell to enable.\n",
              "      </output>\n",
              "      <script src=\"/nbextensions/google.colab/files.js\"></script> "
            ],
            "text/plain": [
              "<IPython.core.display.HTML object>"
            ]
          },
          "metadata": {
            "tags": []
          }
        },
        {
          "output_type": "stream",
          "text": [
            "Saving kaggle.json to kaggle.json\n",
            "User uploaded file \"kaggle.json\" with length 68 bytes\n"
          ],
          "name": "stdout"
        }
      ]
    },
    {
      "cell_type": "code",
      "metadata": {
        "id": "2CAp_dQRpWbV",
        "outputId": "9c9a42e3-6db4-4ac9-db77-e32b16d7e8a0",
        "colab": {
          "base_uri": "https://localhost:8080/"
        }
      },
      "source": [
        "!kaggle datasets download -d tongpython/cat-and-dog"
      ],
      "id": "2CAp_dQRpWbV",
      "execution_count": 19,
      "outputs": [
        {
          "output_type": "stream",
          "text": [
            "Downloading cat-and-dog.zip to /content\n",
            " 94% 204M/218M [00:01<00:00, 102MB/s]\n",
            "100% 218M/218M [00:01<00:00, 129MB/s]\n"
          ],
          "name": "stdout"
        }
      ]
    },
    {
      "cell_type": "code",
      "metadata": {
        "id": "q5CBUy5gkOuD"
      },
      "source": [
        "!unzip cat-and-dog.zip"
      ],
      "id": "q5CBUy5gkOuD",
      "execution_count": null,
      "outputs": []
    },
    {
      "cell_type": "code",
      "metadata": {
        "id": "xpZy9UH_qPKP"
      },
      "source": [
        "!rm -rf cat_dog\n",
        "!mkdir cat_dog\n",
        "!mv test_set/ cat_dog\n",
        "!mv training_set/ cat_dog "
      ],
      "id": "xpZy9UH_qPKP",
      "execution_count": 27,
      "outputs": []
    },
    {
      "cell_type": "code",
      "metadata": {
        "id": "l45QFMA3qkRL",
        "outputId": "6807e781-6707-4fc5-c3e9-95a4de46576c",
        "colab": {
          "base_uri": "https://localhost:8080/"
        }
      },
      "source": [
        "!ls cat_dog/training_set/training_set/cats/*.jpg | wc -l # 4000 imagenes en test de gatos"
      ],
      "id": "l45QFMA3qkRL",
      "execution_count": 53,
      "outputs": [
        {
          "output_type": "stream",
          "text": [
            "4000\n"
          ],
          "name": "stdout"
        }
      ]
    },
    {
      "cell_type": "code",
      "metadata": {
        "id": "CRzuz4IJtNhy",
        "outputId": "19cf002a-c0f4-4ebc-e438-8e03f4f0af87",
        "colab": {
          "base_uri": "https://localhost:8080/"
        }
      },
      "source": [
        "!ls cat_dog/training_set/training_set/dogs/*.jpg | wc -l # 4005 imagenes de test en perroos"
      ],
      "id": "CRzuz4IJtNhy",
      "execution_count": 54,
      "outputs": [
        {
          "output_type": "stream",
          "text": [
            "4005\n"
          ],
          "name": "stdout"
        }
      ]
    },
    {
      "cell_type": "markdown",
      "metadata": {
        "id": "N9kVAiXQtvgA"
      },
      "source": [
        "## Separar en validación y entrenamiento"
      ],
      "id": "N9kVAiXQtvgA"
    },
    {
      "cell_type": "markdown",
      "metadata": {
        "id": "xnwA-Rs24sth"
      },
      "source": [
        "El conjunto de datos solo trae training y test, por lo que decidi separar training en test y validacióón, esto se hace aleatoriamente con una proporción 70-30"
      ],
      "id": "xnwA-Rs24sth"
    },
    {
      "cell_type": "code",
      "metadata": {
        "ExecuteTime": {
          "end_time": "2021-03-11T02:53:59.282941Z",
          "start_time": "2021-03-11T02:53:59.277638Z"
        },
        "id": "interstate-monthly"
      },
      "source": [
        "ruta_train  = 'cat_dog/training_set/training_set/'\n",
        "ruta_test   = 'cat_dog/test_set/test_set/'"
      ],
      "id": "interstate-monthly",
      "execution_count": 42,
      "outputs": []
    },
    {
      "cell_type": "code",
      "metadata": {
        "id": "Wror2QlbuqlJ",
        "outputId": "fb6ca117-1770-488c-e5b9-b500e5f74f4f",
        "colab": {
          "base_uri": "https://localhost:8080/"
        }
      },
      "source": [
        "# Lista de imagenes\n",
        "lis_cat=[a for a in os.listdir(\"cat_dog/training_set/training_set/cats/\") if a[-3:]=='jpg' ]\n",
        "lis_dog=[a for a in os.listdir(\"cat_dog/training_set/training_set/dogs/\") if a[-3:]=='jpg' ]"
      ],
      "id": "Wror2QlbuqlJ",
      "execution_count": 74,
      "outputs": [
        {
          "output_type": "execute_result",
          "data": {
            "text/plain": [
              "3998"
            ]
          },
          "metadata": {
            "tags": []
          },
          "execution_count": 74
        }
      ]
    },
    {
      "cell_type": "code",
      "metadata": {
        "id": "XSppvvWqwDfd"
      },
      "source": [
        "# Función para crear listas para validación y entrenamiento\n",
        "def partir_conjuntos(lista):\n",
        "  tam_1=len(lista)\n",
        "  tam_train=(tam_1/100)*70\n",
        "  ima_val=[]\n",
        "  while tam_1>tam_train:\n",
        "    ima_val.append(lista.pop(np.random.randint(0,tam_1)))# Modifica directamente a lis_cat\n",
        "    tam_1-=1\n",
        "  return ima_val"
      ],
      "id": "XSppvvWqwDfd",
      "execution_count": 99,
      "outputs": []
    },
    {
      "cell_type": "code",
      "metadata": {
        "id": "RsXGHytixf6z"
      },
      "source": [
        "cat_val=partir_conjuntos(lis_cat)\n",
        "dog_val=partir_conjuntos(lis_dog)"
      ],
      "id": "RsXGHytixf6z",
      "execution_count": 103,
      "outputs": []
    },
    {
      "cell_type": "code",
      "metadata": {
        "id": "QMY9vDC9zyb9"
      },
      "source": [
        "# Crear directorio necesarios para mandar los nuevos archivos ahí\n",
        "!rm -rf cat_dog/train\n",
        "!rm -rf cat_dog/validate\n",
        "!rm -rf cat_dog/train/cats\n",
        "!rm -rf cat_dog/train/dogs\n",
        "!rm -rf cat_dog/validate/cats\n",
        "!rm -rf !mkdir cat_dog/validate/dogs\n",
        "!mkdir cat_dog/train/\n",
        "!mkdir cat_dog/validate/\n",
        "!mkdir cat_dog/train/cats\n",
        "!mkdir cat_dog/train/dogs\n",
        "!mkdir cat_dog/validate/cats\n",
        "!mkdir cat_dog/validate/dogs"
      ],
      "id": "QMY9vDC9zyb9",
      "execution_count": 141,
      "outputs": []
    },
    {
      "cell_type": "code",
      "metadata": {
        "id": "kC8pjRGKyJ5N"
      },
      "source": [
        "# Copiar las imagenes al directorio al que deben pertenecer\n",
        "def crear_datasets(lista,animal,tipo_set):\n",
        "  ruta = ruta_train + animal # 'cats/'\n",
        "  for c in lista:\n",
        "    origen = ruta + c\n",
        "    destino = 'cat_dog/'+ tipo_set + animal +c # 'train/'\n",
        "  \n",
        "    if os.path.exists(origen):\n",
        "      with open(origen, 'rb') as forigen:\n",
        "        with open(destino, 'wb') as fdestino:\n",
        "          shutil.copyfileobj(forigen, fdestino)"
      ],
      "id": "kC8pjRGKyJ5N",
      "execution_count": 140,
      "outputs": []
    },
    {
      "cell_type": "code",
      "metadata": {
        "id": "bNZu3lXy2AY2"
      },
      "source": [
        "crear_datasets(lis_cat,'cats/','train/')\n",
        "crear_datasets(cat_val,'cats/','validate/')\n",
        "crear_datasets(lis_dog,'dogs/','train/')\n",
        "crear_datasets(dog_val,'dogs/','validate/')"
      ],
      "id": "bNZu3lXy2AY2",
      "execution_count": 145,
      "outputs": []
    },
    {
      "cell_type": "code",
      "metadata": {
        "id": "Uk1PgGCD2IaB",
        "outputId": "7566f8c3-80bd-46d0-d9bf-af7b14c9cae1",
        "colab": {
          "base_uri": "https://localhost:8080/"
        }
      },
      "source": [
        "!ls cat_dog/train/cats | wc -l"
      ],
      "id": "Uk1PgGCD2IaB",
      "execution_count": 151,
      "outputs": [
        {
          "output_type": "stream",
          "text": [
            "2800\n"
          ],
          "name": "stdout"
        }
      ]
    },
    {
      "cell_type": "markdown",
      "metadata": {
        "id": "agricultural-poison"
      },
      "source": [
        "## Red profunda desde donde se transferirá el conocimiento"
      ],
      "id": "agricultural-poison"
    },
    {
      "cell_type": "code",
      "metadata": {
        "ExecuteTime": {
          "end_time": "2021-03-11T02:58:09.281317Z",
          "start_time": "2021-03-11T02:58:09.005507Z"
        },
        "id": "rubber-brisbane",
        "outputId": "2785bac7-afa9-4e5b-d1ea-1516a2a213d6",
        "colab": {
          "base_uri": "https://localhost:8080/"
        }
      },
      "source": [
        "base = VGG16(weights='imagenet', #Características aprendidas\n",
        "             include_top=False, #Descartar capa densa final\n",
        "             input_shape=(150,150,3))"
      ],
      "id": "rubber-brisbane",
      "execution_count": 35,
      "outputs": [
        {
          "output_type": "stream",
          "text": [
            "Downloading data from https://storage.googleapis.com/tensorflow/keras-applications/vgg16/vgg16_weights_tf_dim_ordering_tf_kernels_notop.h5\n",
            "58892288/58889256 [==============================] - 0s 0us/step\n"
          ],
          "name": "stdout"
        }
      ]
    },
    {
      "cell_type": "code",
      "metadata": {
        "ExecuteTime": {
          "end_time": "2021-03-11T02:58:12.406857Z",
          "start_time": "2021-03-11T02:58:12.390168Z"
        },
        "id": "signal-chosen",
        "outputId": "a75914ca-acb8-4991-e6ab-917f89d8f640",
        "colab": {
          "base_uri": "https://localhost:8080/"
        }
      },
      "source": [
        "base.summary()"
      ],
      "id": "signal-chosen",
      "execution_count": 37,
      "outputs": [
        {
          "output_type": "stream",
          "text": [
            "Model: \"vgg16\"\n",
            "_________________________________________________________________\n",
            "Layer (type)                 Output Shape              Param #   \n",
            "=================================================================\n",
            "input_1 (InputLayer)         [(None, 150, 150, 3)]     0         \n",
            "_________________________________________________________________\n",
            "block1_conv1 (Conv2D)        (None, 150, 150, 64)      1792      \n",
            "_________________________________________________________________\n",
            "block1_conv2 (Conv2D)        (None, 150, 150, 64)      36928     \n",
            "_________________________________________________________________\n",
            "block1_pool (MaxPooling2D)   (None, 75, 75, 64)        0         \n",
            "_________________________________________________________________\n",
            "block2_conv1 (Conv2D)        (None, 75, 75, 128)       73856     \n",
            "_________________________________________________________________\n",
            "block2_conv2 (Conv2D)        (None, 75, 75, 128)       147584    \n",
            "_________________________________________________________________\n",
            "block2_pool (MaxPooling2D)   (None, 37, 37, 128)       0         \n",
            "_________________________________________________________________\n",
            "block3_conv1 (Conv2D)        (None, 37, 37, 256)       295168    \n",
            "_________________________________________________________________\n",
            "block3_conv2 (Conv2D)        (None, 37, 37, 256)       590080    \n",
            "_________________________________________________________________\n",
            "block3_conv3 (Conv2D)        (None, 37, 37, 256)       590080    \n",
            "_________________________________________________________________\n",
            "block3_pool (MaxPooling2D)   (None, 18, 18, 256)       0         \n",
            "_________________________________________________________________\n",
            "block4_conv1 (Conv2D)        (None, 18, 18, 512)       1180160   \n",
            "_________________________________________________________________\n",
            "block4_conv2 (Conv2D)        (None, 18, 18, 512)       2359808   \n",
            "_________________________________________________________________\n",
            "block4_conv3 (Conv2D)        (None, 18, 18, 512)       2359808   \n",
            "_________________________________________________________________\n",
            "block4_pool (MaxPooling2D)   (None, 9, 9, 512)         0         \n",
            "_________________________________________________________________\n",
            "block5_conv1 (Conv2D)        (None, 9, 9, 512)         2359808   \n",
            "_________________________________________________________________\n",
            "block5_conv2 (Conv2D)        (None, 9, 9, 512)         2359808   \n",
            "_________________________________________________________________\n",
            "block5_conv3 (Conv2D)        (None, 9, 9, 512)         2359808   \n",
            "_________________________________________________________________\n",
            "block5_pool (MaxPooling2D)   (None, 4, 4, 512)         0         \n",
            "=================================================================\n",
            "Total params: 14,714,688\n",
            "Trainable params: 14,714,688\n",
            "Non-trainable params: 0\n",
            "_________________________________________________________________\n"
          ],
          "name": "stdout"
        }
      ]
    },
    {
      "cell_type": "markdown",
      "metadata": {
        "id": "coral-excerpt"
      },
      "source": [
        "## Creación de conjuntos de datos"
      ],
      "id": "coral-excerpt"
    },
    {
      "cell_type": "code",
      "metadata": {
        "ExecuteTime": {
          "end_time": "2021-03-11T02:58:46.845077Z",
          "start_time": "2021-03-11T02:58:46.841770Z"
        },
        "id": "polish-underwear"
      },
      "source": [
        "data = ImageDataGenerator(rescale=1/255)\n",
        "lote =20"
      ],
      "id": "polish-underwear",
      "execution_count": 38,
      "outputs": []
    },
    {
      "cell_type": "code",
      "metadata": {
        "id": "RutTl_4XsEnE",
        "outputId": "2dca4725-df91-4870-97f7-10cf981e88d9",
        "colab": {
          "base_uri": "https://localhost:8080/"
        }
      },
      "source": [
        "np.zeros(2000)"
      ],
      "id": "RutTl_4XsEnE",
      "execution_count": 44,
      "outputs": [
        {
          "output_type": "execute_result",
          "data": {
            "text/plain": [
              "array([0., 0., 0., ..., 0., 0., 0.])"
            ]
          },
          "metadata": {
            "tags": []
          },
          "execution_count": 44
        }
      ]
    },
    {
      "cell_type": "code",
      "metadata": {
        "ExecuteTime": {
          "end_time": "2021-03-11T03:02:35.171905Z",
          "start_time": "2021-03-11T03:02:35.167635Z"
        },
        "id": "linear-input"
      },
      "source": [
        "def extraer_caracteristicas(ruta,tam):\n",
        "    vec_carac = np.zeros(shape=(tam,4,4,512)) # Crea un tensor \n",
        "    etiq = np.zeros(shape=(tam))\n",
        "    print(vec_carac.shape,etiq.shape)\n",
        "    generador = data.flow_from_directory(ruta,\n",
        "                                         target_size=(150,150),\n",
        "                                         batch_size=lote,\n",
        "                                         class_mode='binary')\n",
        "    i = 0\n",
        "    for entradas,etiquetas in generador:\n",
        "        entradas = base.predict(entradas)\n",
        "        vec_carac[i*lote : (i+1)*lote] = entradas\n",
        "        etiq[i*lote : (i+1)*lote] = etiquetas\n",
        "        i+=1\n",
        "        if i*lote>=tam:\n",
        "            break\n",
        "    return vec_carac,etiq"
      ],
      "id": "linear-input",
      "execution_count": null,
      "outputs": []
    },
    {
      "cell_type": "code",
      "metadata": {
        "ExecuteTime": {
          "end_time": "2021-03-11T03:03:50.820261Z",
          "start_time": "2021-03-11T03:02:35.667772Z"
        },
        "id": "supported-sweden",
        "outputId": "79522262-ede2-4444-b66a-fb78c43d5be6"
      },
      "source": [
        "Xt, yt  = extraer_caracteristicas(os.path.join(ruta,'train'),2000)"
      ],
      "id": "supported-sweden",
      "execution_count": null,
      "outputs": [
        {
          "output_type": "stream",
          "text": [
            "(2000, 4, 4, 512) (2000,)\n",
            "Found 2000 images belonging to 2 classes.\n"
          ],
          "name": "stdout"
        }
      ]
    },
    {
      "cell_type": "code",
      "metadata": {
        "ExecuteTime": {
          "end_time": "2021-03-11T03:04:29.733799Z",
          "start_time": "2021-03-11T03:03:50.821852Z"
        },
        "id": "subjective-honolulu",
        "outputId": "30f9c794-f3aa-41a3-9a6b-c395d381238e"
      },
      "source": [
        "Xv, yv  = extraer_caracteristicas(os.path.join(ruta,'validate'),1000)"
      ],
      "id": "subjective-honolulu",
      "execution_count": null,
      "outputs": [
        {
          "output_type": "stream",
          "text": [
            "(1000, 4, 4, 512) (1000,)\n",
            "Found 1000 images belonging to 2 classes.\n"
          ],
          "name": "stdout"
        }
      ]
    },
    {
      "cell_type": "code",
      "metadata": {
        "ExecuteTime": {
          "end_time": "2021-03-11T03:05:08.517018Z",
          "start_time": "2021-03-11T03:04:29.735615Z"
        },
        "id": "front-rocket",
        "outputId": "7cba46bc-bed1-4738-8b09-2d100d2739f9"
      },
      "source": [
        "Xtt, ytt  = extraer_caracteristicas(os.path.join(ruta,'test'),1000)"
      ],
      "id": "front-rocket",
      "execution_count": null,
      "outputs": [
        {
          "output_type": "stream",
          "text": [
            "(1000, 4, 4, 512) (1000,)\n",
            "Found 1000 images belonging to 2 classes.\n"
          ],
          "name": "stdout"
        }
      ]
    },
    {
      "cell_type": "code",
      "metadata": {
        "ExecuteTime": {
          "end_time": "2021-03-11T03:06:51.084223Z",
          "start_time": "2021-03-11T03:06:51.070494Z"
        },
        "id": "liberal-square"
      },
      "source": [
        "Xt = np.reshape(Xt,(2000,4*4*512))\n",
        "Xv = np.reshape(Xv,(1000,4*4*512))\n",
        "Xtt = np.reshape(Xtt,(1000,4*4*512))"
      ],
      "id": "liberal-square",
      "execution_count": null,
      "outputs": []
    },
    {
      "cell_type": "markdown",
      "metadata": {
        "id": "published-budget"
      },
      "source": [
        "## Acoplamiento de capa final para adaptar al clasificador binario"
      ],
      "id": "published-budget"
    },
    {
      "cell_type": "code",
      "metadata": {
        "ExecuteTime": {
          "end_time": "2021-03-11T03:08:23.441430Z",
          "start_time": "2021-03-11T03:07:51.014279Z"
        },
        "id": "least-canal",
        "outputId": "f1f76301-a1ef-4a03-9cdf-9d8417040895"
      },
      "source": [
        "modelo = models.Sequential()\n",
        "modelo.add(layers.Dense(256,activation='relu',input_dim=4*4*512))\n",
        "modelo.add(layers.Dropout(0.5))\n",
        "modelo.add(layers.Dense(1,activation='sigmoid'))\n",
        "modelo.compile(optimizer = optimizers.RMSprop(learning_rate=2e-5),\n",
        "              loss='binary_crossentropy',\n",
        "              metrics=['acc'])\n",
        "history = modelo.fit(Xt,yt,epochs=30,batch_size=lote,validation_data=(Xv,yv))"
      ],
      "id": "least-canal",
      "execution_count": null,
      "outputs": [
        {
          "output_type": "stream",
          "text": [
            "Epoch 1/30\n",
            "100/100 [==============================] - 1s 13ms/step - loss: 0.6911 - acc: 0.6072 - val_loss: 0.4509 - val_acc: 0.8160\n",
            "Epoch 2/30\n",
            "100/100 [==============================] - 1s 10ms/step - loss: 0.4766 - acc: 0.7534 - val_loss: 0.3771 - val_acc: 0.8390\n",
            "Epoch 3/30\n",
            "100/100 [==============================] - 1s 10ms/step - loss: 0.3818 - acc: 0.8264 - val_loss: 0.3343 - val_acc: 0.8670\n",
            "Epoch 4/30\n",
            "100/100 [==============================] - 1s 10ms/step - loss: 0.3309 - acc: 0.8501 - val_loss: 0.3144 - val_acc: 0.8660\n",
            "Epoch 5/30\n",
            "100/100 [==============================] - 1s 10ms/step - loss: 0.2930 - acc: 0.8804 - val_loss: 0.2964 - val_acc: 0.8730\n",
            "Epoch 6/30\n",
            "100/100 [==============================] - 1s 10ms/step - loss: 0.2916 - acc: 0.8809 - val_loss: 0.2831 - val_acc: 0.8850\n",
            "Epoch 7/30\n",
            "100/100 [==============================] - 1s 11ms/step - loss: 0.2725 - acc: 0.8917 - val_loss: 0.2771 - val_acc: 0.8800\n",
            "Epoch 8/30\n",
            "100/100 [==============================] - 1s 11ms/step - loss: 0.2297 - acc: 0.9011 - val_loss: 0.2660 - val_acc: 0.8840\n",
            "Epoch 9/30\n",
            "100/100 [==============================] - 1s 10ms/step - loss: 0.2195 - acc: 0.9098 - val_loss: 0.2638 - val_acc: 0.8840\n",
            "Epoch 10/30\n",
            "100/100 [==============================] - 1s 10ms/step - loss: 0.2169 - acc: 0.9105 - val_loss: 0.2571 - val_acc: 0.8870\n",
            "Epoch 11/30\n",
            "100/100 [==============================] - 1s 11ms/step - loss: 0.2004 - acc: 0.9272 - val_loss: 0.2554 - val_acc: 0.8930\n",
            "Epoch 12/30\n",
            "100/100 [==============================] - 1s 11ms/step - loss: 0.1954 - acc: 0.9308 - val_loss: 0.2526 - val_acc: 0.8930\n",
            "Epoch 13/30\n",
            "100/100 [==============================] - 1s 10ms/step - loss: 0.1872 - acc: 0.9340 - val_loss: 0.2496 - val_acc: 0.8940\n",
            "Epoch 14/30\n",
            "100/100 [==============================] - 1s 11ms/step - loss: 0.1680 - acc: 0.9441 - val_loss: 0.2486 - val_acc: 0.8970\n",
            "Epoch 15/30\n",
            "100/100 [==============================] - 1s 10ms/step - loss: 0.1694 - acc: 0.9389 - val_loss: 0.2471 - val_acc: 0.8950\n",
            "Epoch 16/30\n",
            "100/100 [==============================] - 1s 11ms/step - loss: 0.1548 - acc: 0.9503 - val_loss: 0.2463 - val_acc: 0.8910\n",
            "Epoch 17/30\n",
            "100/100 [==============================] - 1s 11ms/step - loss: 0.1569 - acc: 0.9452 - val_loss: 0.2500 - val_acc: 0.9000\n",
            "Epoch 18/30\n",
            "100/100 [==============================] - 1s 11ms/step - loss: 0.1397 - acc: 0.9529 - val_loss: 0.2425 - val_acc: 0.8900\n",
            "Epoch 19/30\n",
            "100/100 [==============================] - 1s 10ms/step - loss: 0.1319 - acc: 0.9526 - val_loss: 0.2466 - val_acc: 0.8860\n",
            "Epoch 20/30\n",
            "100/100 [==============================] - 1s 11ms/step - loss: 0.1482 - acc: 0.9526 - val_loss: 0.2418 - val_acc: 0.8950\n",
            "Epoch 21/30\n",
            "100/100 [==============================] - 1s 10ms/step - loss: 0.1308 - acc: 0.9544 - val_loss: 0.2430 - val_acc: 0.8910\n",
            "Epoch 22/30\n",
            "100/100 [==============================] - 1s 11ms/step - loss: 0.1303 - acc: 0.9547 - val_loss: 0.2423 - val_acc: 0.8960\n",
            "Epoch 23/30\n",
            "100/100 [==============================] - 1s 11ms/step - loss: 0.1099 - acc: 0.9703 - val_loss: 0.2440 - val_acc: 0.8900\n",
            "Epoch 24/30\n",
            "100/100 [==============================] - 1s 12ms/step - loss: 0.1152 - acc: 0.9666 - val_loss: 0.2438 - val_acc: 0.8890\n",
            "Epoch 25/30\n",
            "100/100 [==============================] - 1s 11ms/step - loss: 0.1182 - acc: 0.9620 - val_loss: 0.2448 - val_acc: 0.8940\n",
            "Epoch 26/30\n",
            "100/100 [==============================] - 1s 11ms/step - loss: 0.1077 - acc: 0.9662 - val_loss: 0.2414 - val_acc: 0.8960\n",
            "Epoch 27/30\n",
            "100/100 [==============================] - 1s 11ms/step - loss: 0.1026 - acc: 0.9712 - val_loss: 0.2444 - val_acc: 0.8930\n",
            "Epoch 28/30\n",
            "100/100 [==============================] - 1s 11ms/step - loss: 0.1055 - acc: 0.9692 - val_loss: 0.2421 - val_acc: 0.8980\n",
            "Epoch 29/30\n",
            "100/100 [==============================] - 1s 10ms/step - loss: 0.0911 - acc: 0.9774 - val_loss: 0.2460 - val_acc: 0.8940\n",
            "Epoch 30/30\n",
            "100/100 [==============================] - 1s 10ms/step - loss: 0.0900 - acc: 0.9731 - val_loss: 0.2470 - val_acc: 0.8890\n"
          ],
          "name": "stdout"
        }
      ]
    },
    {
      "cell_type": "markdown",
      "metadata": {
        "id": "general-bishop"
      },
      "source": [
        "## Resultados"
      ],
      "id": "general-bishop"
    },
    {
      "cell_type": "code",
      "metadata": {
        "ExecuteTime": {
          "end_time": "2021-03-11T03:08:27.494249Z",
          "start_time": "2021-03-11T03:08:27.276630Z"
        },
        "id": "overhead-custody",
        "outputId": "a10c4f32-eb37-482f-8ddf-db0d62087c0f"
      },
      "source": [
        "hist = history.history\n",
        "x_arr = np.arange(len(hist['loss']))+1\n",
        "fig = plt.figure(figsize=(12,5))\n",
        "ax = fig.add_subplot(1,2,1)\n",
        "ax.plot(hist['loss'],'-o',label='Pérdida de Entrenamiento')\n",
        "ax.plot(hist['val_loss'],'--<',label='Pérdida de Validación')\n",
        "ax.set_title('Pérdida',size=15)\n",
        "ax.set_xlabel('Época',size=15)\n",
        "ax.tick_params(axis='both',which='major',labelsize=15)\n",
        "ax.legend(fontsize=15)\n",
        "ax = fig.add_subplot(1,2,2)\n",
        "ax.plot(hist['acc'],'-o',label='Precisión Entrenamiento')\n",
        "ax.plot(hist['val_acc'],'--<',label='Precisión Validación')\n",
        "ax.set_title('Precisión',size=15)\n",
        "ax.set_xlabel('Época',size=15)\n",
        "ax.tick_params(axis='both',which='major',labelsize=15)\n",
        "ax.legend(fontsize=15)\n",
        "plt.show()"
      ],
      "id": "overhead-custody",
      "execution_count": null,
      "outputs": [
        {
          "output_type": "display_data",
          "data": {
            "image/png": "[encoded data removed]",
            "text/plain": [
              "<Figure size 864x360 with 2 Axes>"
            ]
          },
          "metadata": {
            "tags": [],
            "needs_background": "light"
          }
        }
      ]
    },
    {
      "cell_type": "code",
      "metadata": {
        "id": "funky-china"
      },
      "source": [
        ""
      ],
      "id": "funky-china",
      "execution_count": null,
      "outputs": []
    }
  ]
}