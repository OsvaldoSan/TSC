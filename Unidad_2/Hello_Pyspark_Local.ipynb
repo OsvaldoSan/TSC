{
 "cells": [
  {
   "cell_type": "markdown",
   "metadata": {},
   "source": [
    "## 1. Librerias necesarias"
   ]
  },
  {
   "cell_type": "code",
   "execution_count": 6,
   "metadata": {
    "ExecuteTime": {
     "end_time": "2021-05-15T02:24:26.811560Z",
     "start_time": "2021-05-15T02:24:26.496397Z"
    },
    "collapsed": true
   },
   "outputs": [
    {
     "ename": "ValueError",
     "evalue": "Cannot run multiple SparkContexts at once; existing SparkContext(app=myAppName, master=local[*]) created by __init__ at <ipython-input-1-e7a57a5858a2>:5 ",
     "output_type": "error",
     "traceback": [
      "\u001b[0;31m-----------------\u001b[0m",
      "\u001b[0;31mValueError\u001b[0mTraceback (most recent call last)",
      "\u001b[0;32m<ipython-input-6-6304bd04e29e>\u001b[0m in \u001b[0;36m<module>\u001b[0;34m\u001b[0m\n\u001b[1;32m      3\u001b[0m \u001b[0;34m\u001b[0m\u001b[0m\n\u001b[1;32m      4\u001b[0m \u001b[0;32mimport\u001b[0m \u001b[0mpyspark\u001b[0m\u001b[0;34m\u001b[0m\u001b[0;34m\u001b[0m\u001b[0m\n\u001b[0;32m----> 5\u001b[0;31m \u001b[0msc\u001b[0m \u001b[0;34m=\u001b[0m \u001b[0mpyspark\u001b[0m\u001b[0;34m.\u001b[0m\u001b[0mSparkContext\u001b[0m\u001b[0;34m(\u001b[0m\u001b[0mappName\u001b[0m \u001b[0;34m=\u001b[0m \u001b[0;34m\"bigdatita\"\u001b[0m\u001b[0;34m)\u001b[0m\u001b[0;34m\u001b[0m\u001b[0;34m\u001b[0m\u001b[0m\n\u001b[0m",
      "\u001b[0;32m/opt/spark/python/pyspark/context.py\u001b[0m in \u001b[0;36m__init__\u001b[0;34m(self, master, appName, sparkHome, pyFiles, environment, batchSize, serializer, conf, gateway, jsc, profiler_cls)\u001b[0m\n\u001b[1;32m    142\u001b[0m                 \" is not allowed as it is a security risk.\")\n\u001b[1;32m    143\u001b[0m \u001b[0;34m\u001b[0m\u001b[0m\n\u001b[0;32m--> 144\u001b[0;31m         \u001b[0mSparkContext\u001b[0m\u001b[0;34m.\u001b[0m\u001b[0m_ensure_initialized\u001b[0m\u001b[0;34m(\u001b[0m\u001b[0mself\u001b[0m\u001b[0;34m,\u001b[0m \u001b[0mgateway\u001b[0m\u001b[0;34m=\u001b[0m\u001b[0mgateway\u001b[0m\u001b[0;34m,\u001b[0m \u001b[0mconf\u001b[0m\u001b[0;34m=\u001b[0m\u001b[0mconf\u001b[0m\u001b[0;34m)\u001b[0m\u001b[0;34m\u001b[0m\u001b[0;34m\u001b[0m\u001b[0m\n\u001b[0m\u001b[1;32m    145\u001b[0m         \u001b[0;32mtry\u001b[0m\u001b[0;34m:\u001b[0m\u001b[0;34m\u001b[0m\u001b[0;34m\u001b[0m\u001b[0m\n\u001b[1;32m    146\u001b[0m             self._do_init(master, appName, sparkHome, pyFiles, environment, batchSize, serializer,\n",
      "\u001b[0;32m/opt/spark/python/pyspark/context.py\u001b[0m in \u001b[0;36m_ensure_initialized\u001b[0;34m(cls, instance, gateway, conf)\u001b[0m\n\u001b[1;32m    345\u001b[0m                         \u001b[0;34m\" created by %s at %s:%s \"\u001b[0m\u001b[0;34m\u001b[0m\u001b[0;34m\u001b[0m\u001b[0m\n\u001b[1;32m    346\u001b[0m                         % (currentAppName, currentMaster,\n\u001b[0;32m--> 347\u001b[0;31m                             callsite.function, callsite.file, callsite.linenum))\n\u001b[0m\u001b[1;32m    348\u001b[0m                 \u001b[0;32melse\u001b[0m\u001b[0;34m:\u001b[0m\u001b[0;34m\u001b[0m\u001b[0;34m\u001b[0m\u001b[0m\n\u001b[1;32m    349\u001b[0m                     \u001b[0mSparkContext\u001b[0m\u001b[0;34m.\u001b[0m\u001b[0m_active_spark_context\u001b[0m \u001b[0;34m=\u001b[0m \u001b[0minstance\u001b[0m\u001b[0;34m\u001b[0m\u001b[0;34m\u001b[0m\u001b[0m\n",
      "\u001b[0;31mValueError\u001b[0m: Cannot run multiple SparkContexts at once; existing SparkContext(app=myAppName, master=local[*]) created by __init__ at <ipython-input-1-e7a57a5858a2>:5 "
     ]
    }
   ],
   "source": [
    "import findspark \n",
    "findspark.init('/opt/spark')\n",
    "\n",
    "import pyspark \n",
    "sc = pyspark.SparkContext(appName = \"myAppName\")"
   ]
  },
  {
   "cell_type": "code",
   "execution_count": 8,
   "metadata": {
    "ExecuteTime": {
     "end_time": "2021-05-15T02:25:35.464729Z",
     "start_time": "2021-05-15T02:25:29.276617Z"
    }
   },
   "outputs": [],
   "source": [
    "from pyspark import SparkContext,HiveContext\n",
    "from pyspark.sql import SQLContext,SparkSession\n",
    "from pyspark.sql import functions as F\n",
    "import os\n",
    "import subprocess\n",
    "import pandas as pd\n",
    "from datetime import date"
   ]
  },
  {
   "cell_type": "markdown",
   "metadata": {},
   "source": [
    "## 2. Listado de archivos desde hdfs"
   ]
  },
  {
   "cell_type": "code",
   "execution_count": 14,
   "metadata": {
    "ExecuteTime": {
     "end_time": "2021-05-15T02:32:22.576753Z",
     "start_time": "2021-05-15T02:32:22.519703Z"
    }
   },
   "outputs": [],
   "source": [
    "ruta = 'hdfs://localhost:9000/user/hive/warehouse/nyc_taxi_data_2014.csv'"
   ]
  },
  {
   "cell_type": "markdown",
   "metadata": {},
   "source": [
    "## 3. Lectura de archivos desde HDFS a Spark"
   ]
  },
  {
   "cell_type": "code",
   "execution_count": 9,
   "metadata": {
    "ExecuteTime": {
     "end_time": "2021-05-15T02:25:46.845456Z",
     "start_time": "2021-05-15T02:25:38.860806Z"
    }
   },
   "outputs": [],
   "source": [
    "sparkSession = SparkSession.builder.appName(\"myAppName\").getOrCreate()"
   ]
  },
  {
   "cell_type": "code",
   "execution_count": 15,
   "metadata": {
    "ExecuteTime": {
     "end_time": "2021-05-15T02:33:19.532718Z",
     "start_time": "2021-05-15T02:32:26.252408Z"
    }
   },
   "outputs": [],
   "source": [
    "df = sparkSession.read.csv(ruta,inferSchema=False,header=True)"
   ]
  },
  {
   "cell_type": "code",
   "execution_count": 16,
   "metadata": {
    "ExecuteTime": {
     "end_time": "2021-05-15T02:33:30.257523Z",
     "start_time": "2021-05-15T02:33:30.111311Z"
    }
   },
   "outputs": [
    {
     "data": {
      "text/plain": [
       "pyspark.sql.dataframe.DataFrame"
      ]
     },
     "execution_count": 16,
     "metadata": {},
     "output_type": "execute_result"
    }
   ],
   "source": [
    "type(df)"
   ]
  },
  {
   "cell_type": "code",
   "execution_count": 17,
   "metadata": {
    "ExecuteTime": {
     "end_time": "2021-05-15T02:33:32.211259Z",
     "start_time": "2021-05-15T02:33:32.029187Z"
    }
   },
   "outputs": [
    {
     "name": "stdout",
     "output_type": "stream",
     "text": [
      "root\n",
      " |-- vendor_id: string (nullable = true)\n",
      " |-- pickup_datetime: string (nullable = true)\n",
      " |-- dropoff_datetime: string (nullable = true)\n",
      " |-- passenger_count: string (nullable = true)\n",
      " |-- trip_distance: string (nullable = true)\n",
      " |-- pickup_longitude: string (nullable = true)\n",
      " |-- pickup_latitude: string (nullable = true)\n",
      " |-- rate_code: string (nullable = true)\n",
      " |-- store_and_fwd_flag: string (nullable = true)\n",
      " |-- dropoff_longitude: string (nullable = true)\n",
      " |-- dropoff_latitude: string (nullable = true)\n",
      " |-- payment_type: string (nullable = true)\n",
      " |-- fare_amount: string (nullable = true)\n",
      " |-- surcharge: string (nullable = true)\n",
      " |-- mta_tax: string (nullable = true)\n",
      " |-- tip_amount: string (nullable = true)\n",
      " |-- tolls_amount: string (nullable = true)\n",
      " |-- total_amount: string (nullable = true)\n",
      "\n"
     ]
    }
   ],
   "source": [
    "df.printSchema()"
   ]
  },
  {
   "cell_type": "code",
   "execution_count": 18,
   "metadata": {
    "ExecuteTime": {
     "end_time": "2021-05-15T02:35:55.100441Z",
     "start_time": "2021-05-15T02:33:43.275850Z"
    }
   },
   "outputs": [
    {
     "name": "stdout",
     "output_type": "stream",
     "text": [
      "CPU times: user 25.2 ms, sys: 9.81 ms, total: 35 ms\n",
      "Wall time: 2min 11s\n"
     ]
    },
    {
     "data": {
      "text/plain": [
       "14999999"
      ]
     },
     "execution_count": 18,
     "metadata": {},
     "output_type": "execute_result"
    }
   ],
   "source": [
    "%%time\n",
    "df.count()"
   ]
  },
  {
   "cell_type": "code",
   "execution_count": 19,
   "metadata": {
    "ExecuteTime": {
     "end_time": "2021-02-01T10:18:10.548221Z",
     "start_time": "2021-02-01T10:18:10.336030Z"
    }
   },
   "outputs": [
    {
     "name": "stdout",
     "output_type": "stream",
     "text": [
      "CPU times: user 3.87 ms, sys: 271 µs, total: 4.14 ms\n",
      "Wall time: 39.2 ms\n"
     ]
    }
   ],
   "source": [
    "%%time\n",
    "df = df.withColumn('trip_start_timestamp',F.to_timestamp(F.col('trip_start_timestamp')))\n",
    "df = df.withColumn('trip_end_timestamp',F.to_timestamp(F.col('trip_end_timestamp')))"
   ]
  },
  {
   "cell_type": "code",
   "execution_count": 23,
   "metadata": {},
   "outputs": [],
   "source": [
    "var = ['taxi_id',\n",
    "       'trip_start_timestamp',\n",
    "       'trip_seconds',\n",
    "       'trip_miles',\n",
    "       'trip_total',\n",
    "      'payment_type']"
   ]
  },
  {
   "cell_type": "code",
   "execution_count": 25,
   "metadata": {
    "scrolled": true
   },
   "outputs": [],
   "source": [
    "df = df.select(*var)"
   ]
  },
  {
   "cell_type": "code",
   "execution_count": 26,
   "metadata": {},
   "outputs": [
    {
     "name": "stdout",
     "output_type": "stream",
     "text": [
      "root\n",
      " |-- taxi_id: string (nullable = true)\n",
      " |-- trip_start_timestamp: timestamp (nullable = true)\n",
      " |-- trip_seconds: string (nullable = true)\n",
      " |-- trip_miles: string (nullable = true)\n",
      " |-- trip_total: string (nullable = true)\n",
      " |-- payment_type: string (nullable = true)\n",
      "\n"
     ]
    }
   ],
   "source": [
    "df.printSchema()"
   ]
  },
  {
   "cell_type": "code",
   "execution_count": 27,
   "metadata": {
    "ExecuteTime": {
     "end_time": "2021-02-01T10:18:11.173032Z",
     "start_time": "2021-02-01T10:18:10.861204Z"
    }
   },
   "outputs": [],
   "source": [
    "for v in df.columns:\n",
    "    if v in ['trip_seconds','trip_miles','trip_total']:\n",
    "        df = df.withColumn(v,F.col(v).cast('double'))"
   ]
  },
  {
   "cell_type": "code",
   "execution_count": 28,
   "metadata": {},
   "outputs": [
    {
     "name": "stdout",
     "output_type": "stream",
     "text": [
      "root\n",
      " |-- taxi_id: string (nullable = true)\n",
      " |-- trip_start_timestamp: timestamp (nullable = true)\n",
      " |-- trip_seconds: double (nullable = true)\n",
      " |-- trip_miles: double (nullable = true)\n",
      " |-- trip_total: double (nullable = true)\n",
      " |-- payment_type: string (nullable = true)\n",
      "\n"
     ]
    }
   ],
   "source": [
    "df.printSchema()"
   ]
  },
  {
   "cell_type": "markdown",
   "metadata": {},
   "source": [
    "## 4. Operaciones básicas"
   ]
  },
  {
   "cell_type": "code",
   "execution_count": 29,
   "metadata": {},
   "outputs": [
    {
     "name": "stdout",
     "output_type": "stream",
     "text": [
      "CPU times: user 4.42 ms, sys: 315 µs, total: 4.74 ms\n",
      "Wall time: 15.7 s\n"
     ]
    },
    {
     "data": {
      "text/plain": [
       "19866157"
      ]
     },
     "execution_count": 29,
     "metadata": {},
     "output_type": "execute_result"
    }
   ],
   "source": [
    "%%time\n",
    "df.count()"
   ]
  },
  {
   "cell_type": "code",
   "execution_count": 30,
   "metadata": {},
   "outputs": [
    {
     "name": "stdout",
     "output_type": "stream",
     "text": [
      "+-------+----------+\n",
      "|taxi_id|trip_total|\n",
      "+-------+----------+\n",
      "|     85|       4.5|\n",
      "|   2776|       8.9|\n",
      "|   3168|     47.75|\n",
      "|   4237|       7.0|\n",
      "|   5710|     10.25|\n",
      "|   1987|     17.75|\n",
      "+-------+----------+\n",
      "only showing top 6 rows\n",
      "\n"
     ]
    }
   ],
   "source": [
    "df.select('taxi_id','trip_total').show(6)"
   ]
  },
  {
   "cell_type": "code",
   "execution_count": 32,
   "metadata": {},
   "outputs": [
    {
     "name": "stdout",
     "output_type": "stream",
     "text": [
      "+-------+------------------+\n",
      "|summary|        trip_total|\n",
      "+-------+------------------+\n",
      "|  count|          19865857|\n",
      "|   mean| 16.62857499528094|\n",
      "| stddev|34.139991307069685|\n",
      "|    min|               0.0|\n",
      "|    max|            9999.0|\n",
      "+-------+------------------+\n",
      "\n",
      "CPU times: user 4.93 ms, sys: 61 µs, total: 5 ms\n",
      "Wall time: 7.61 s\n"
     ]
    }
   ],
   "source": [
    "%%time\n",
    "df.describe('trip_total').show()"
   ]
  },
  {
   "cell_type": "code",
   "execution_count": 33,
   "metadata": {},
   "outputs": [
    {
     "name": "stdout",
     "output_type": "stream",
     "text": [
      "CPU times: user 4.33 ms, sys: 0 ns, total: 4.33 ms\n",
      "Wall time: 31.3 ms\n"
     ]
    }
   ],
   "source": [
    "%%time\n",
    "df2=df.filter((df.trip_total>100)&(df['payment_type']=='Credit Card'))"
   ]
  },
  {
   "cell_type": "code",
   "execution_count": 34,
   "metadata": {},
   "outputs": [
    {
     "name": "stdout",
     "output_type": "stream",
     "text": [
      "CPU times: user 4.32 ms, sys: 317 µs, total: 4.63 ms\n",
      "Wall time: 17.2 s\n"
     ]
    },
    {
     "data": {
      "text/plain": [
       "36045"
      ]
     },
     "execution_count": 34,
     "metadata": {},
     "output_type": "execute_result"
    }
   ],
   "source": [
    "%%time\n",
    "df2.count()"
   ]
  },
  {
   "cell_type": "code",
   "execution_count": 35,
   "metadata": {},
   "outputs": [
    {
     "name": "stdout",
     "output_type": "stream",
     "text": [
      "+-------+----------+------------+\n",
      "|taxi_id|trip_total|payment_type|\n",
      "+-------+----------+------------+\n",
      "|   6172|    102.75| Credit Card|\n",
      "|   7555|    103.75| Credit Card|\n",
      "|   3788|     114.0| Credit Card|\n",
      "|   5254|    190.45| Credit Card|\n",
      "|    392|     159.0| Credit Card|\n",
      "+-------+----------+------------+\n",
      "only showing top 5 rows\n",
      "\n",
      "CPU times: user 0 ns, sys: 5.69 ms, total: 5.69 ms\n",
      "Wall time: 3.07 s\n"
     ]
    }
   ],
   "source": [
    "%%time\n",
    "df2.select('taxi_id','trip_total','payment_type').show(5)"
   ]
  },
  {
   "cell_type": "markdown",
   "metadata": {},
   "source": [
    "## 5. Funciones definidas por el usuario"
   ]
  },
  {
   "cell_type": "code",
   "execution_count": 36,
   "metadata": {},
   "outputs": [],
   "source": [
    "func_mes = F.udf(lambda x:int(x.strftime('%Y%m')))"
   ]
  },
  {
   "cell_type": "code",
   "execution_count": 37,
   "metadata": {},
   "outputs": [
    {
     "name": "stdout",
     "output_type": "stream",
     "text": [
      "+--------------------+------+\n",
      "|trip_start_timestamp|   mes|\n",
      "+--------------------+------+\n",
      "| 2016-01-13 06:15:00|201601|\n",
      "| 2016-01-22 09:30:00|201601|\n",
      "| 2016-01-31 21:30:00|201601|\n",
      "| 2016-01-23 17:30:00|201601|\n",
      "| 2016-01-14 05:45:00|201601|\n",
      "+--------------------+------+\n",
      "only showing top 5 rows\n",
      "\n",
      "CPU times: user 8.8 ms, sys: 4.45 ms, total: 13.3 ms\n",
      "Wall time: 2.24 s\n"
     ]
    }
   ],
   "source": [
    "%%time\n",
    "df.withColumn('mes',func_mes(F.col('trip_start_timestamp'))).select('trip_start_timestamp','mes').show(5)"
   ]
  },
  {
   "cell_type": "code",
   "execution_count": 38,
   "metadata": {},
   "outputs": [
    {
     "name": "stdout",
     "output_type": "stream",
     "text": [
      "CPU times: user 3.63 ms, sys: 0 ns, total: 3.63 ms\n",
      "Wall time: 12.1 ms\n"
     ]
    }
   ],
   "source": [
    "%%time\n",
    "df = df.withColumn('mes',func_mes(F.col('trip_start_timestamp')).cast('integer'))"
   ]
  },
  {
   "cell_type": "code",
   "execution_count": 39,
   "metadata": {},
   "outputs": [
    {
     "name": "stdout",
     "output_type": "stream",
     "text": [
      "root\n",
      " |-- taxi_id: string (nullable = true)\n",
      " |-- trip_start_timestamp: timestamp (nullable = true)\n",
      " |-- trip_seconds: double (nullable = true)\n",
      " |-- trip_miles: double (nullable = true)\n",
      " |-- trip_total: double (nullable = true)\n",
      " |-- payment_type: string (nullable = true)\n",
      " |-- mes: integer (nullable = true)\n",
      "\n"
     ]
    }
   ],
   "source": [
    "df.printSchema()"
   ]
  },
  {
   "cell_type": "code",
   "execution_count": 41,
   "metadata": {},
   "outputs": [
    {
     "name": "stdout",
     "output_type": "stream",
     "text": [
      "+------+-------------------+------------------+-------------------+-------------------+------------------+-------------------+---------------------+--------------------+---------------------+\n",
      "|   mes|v_trip_total_minimo|v_trip_total_media|v_trip_total_maximo|v_trip_miles_minimo|v_trip_miles_media|v_trip_miles_maximo|v_trip_seconds_minimo|v_trip_seconds_media|v_trip_seconds_maximo|\n",
      "+------+-------------------+------------------+-------------------+-------------------+------------------+-------------------+---------------------+--------------------+---------------------+\n",
      "|201609|                0.0|17.133133092684762|             9550.5|                0.0|3.1642990042489623|              932.4|                  0.0|   847.7482997666043|              86399.0|\n",
      "|201604|                0.0|16.760364944398116|            9901.05|                0.0| 4.035661179188304|             3300.0|                  0.0|   732.3746028426701|              86388.0|\n",
      "|201611|                0.0| 16.96932620737217|            9276.69|                0.0|3.2679548288922025|              687.6|                  0.0|   843.7877293050016|              86399.0|\n",
      "|201603|                0.0|16.309178712508384|            9819.61|                0.0|3.3174692522541602|             3100.0|                  0.0|   700.4067946990288|              86340.0|\n",
      "|201607|                0.0|16.904687696236344|            9893.31|                0.0|3.5605283051315095|             3353.1|                  0.0|   803.4312394286789|              86382.0|\n",
      "|201610|                0.0| 17.29875280717683|            9052.37|                0.0|3.3454219056634766|              804.9|                  0.0|   862.4213657152878|              86398.0|\n",
      "|201606|                0.0|17.500222213722733|            9752.13|                0.0|3.3086379656897025|             2427.4|                  0.0|   806.2703951303669|              86394.0|\n",
      "|201601|                0.0|15.621889226697071|            9997.16|                0.0|2.8727017026136483|             3280.0|                  0.0|    653.442181752938|              86340.0|\n",
      "|201605|                0.0|17.448152581390513|             9999.0|                0.0| 4.543679375417363|             3210.0|                  0.0|   778.1057241046101|              86394.0|\n",
      "|201608|                0.0|  16.6448501464325|            9453.33|                0.0|3.0963941569168605|              990.4|                  0.0|   812.4606840523408|              86381.0|\n",
      "|201612|                0.0|14.816015795275717|            9026.31|                0.0|2.7226391237000778|              900.0|                  0.0|    756.562258452458|              86340.0|\n",
      "|201602|                0.0|15.751230300449333|            8956.09|                0.0|2.9692281815400845|             3220.0|                  0.0|   669.1474304354679|              86340.0|\n",
      "+------+-------------------+------------------+-------------------+-------------------+------------------+-------------------+---------------------+--------------------+---------------------+\n",
      "\n",
      "CPU times: user 38.7 ms, sys: 5.83 ms, total: 44.5 ms\n",
      "Wall time: 57.9 s\n"
     ]
    }
   ],
   "source": [
    "%%time\n",
    "\n",
    "expr = [y(x).alias(\"v_%s_%s\"%(x,z)) for x in ['trip_total','trip_miles','trip_seconds'] for y,z in zip([F.min,F.mean,F.max],\n",
    "                                                               ['minimo','media','maximo'])]\n",
    "df.groupby('mes').agg(*expr).show()"
   ]
  },
  {
   "cell_type": "markdown",
   "metadata": {},
   "source": [
    "## 6. Uso de SQL "
   ]
  },
  {
   "cell_type": "code",
   "execution_count": 42,
   "metadata": {},
   "outputs": [],
   "source": [
    "sqlContext = SQLContext(sc)"
   ]
  },
  {
   "cell_type": "code",
   "execution_count": 43,
   "metadata": {},
   "outputs": [],
   "source": [
    "df.registerTempTable(\"chicago\")"
   ]
  },
  {
   "cell_type": "code",
   "execution_count": 46,
   "metadata": {},
   "outputs": [],
   "source": [
    "query = \"\"\"\n",
    "SELECT year(trip_start_timestamp)*100+month(trip_start_timestamp) AS FH, \n",
    "COUNT(*) AS CASOS FROM chicago GROUP BY \n",
    "year(trip_start_timestamp)*100+month(trip_start_timestamp)  ORDER BY FH\n",
    "\"\"\""
   ]
  },
  {
   "cell_type": "code",
   "execution_count": 47,
   "metadata": {},
   "outputs": [
    {
     "name": "stdout",
     "output_type": "stream",
     "text": [
      "+------+-------+\n",
      "|    FH|  CASOS|\n",
      "+------+-------+\n",
      "|201601|1705805|\n",
      "|201602|1751192|\n",
      "|201603|1975108|\n",
      "|201604|1952152|\n",
      "|201605|1943584|\n",
      "|201606|1934479|\n",
      "|201607|1745387|\n",
      "|201608|1523947|\n",
      "|201609|1294020|\n",
      "|201610|1499771|\n",
      "|201611|1295000|\n",
      "|201612|1245712|\n",
      "+------+-------+\n",
      "\n",
      "CPU times: user 4.84 ms, sys: 371 µs, total: 5.21 ms\n",
      "Wall time: 23 s\n"
     ]
    }
   ],
   "source": [
    "%%time\n",
    "sqlContext.sql(query).show()"
   ]
  },
  {
   "cell_type": "code",
   "execution_count": 48,
   "metadata": {},
   "outputs": [
    {
     "data": {
      "text/plain": [
       "pyspark.sql.dataframe.DataFrame"
      ]
     },
     "execution_count": 48,
     "metadata": {},
     "output_type": "execute_result"
    }
   ],
   "source": [
    "tabla = sqlContext.sql(query)\n",
    "type(tabla)"
   ]
  },
  {
   "cell_type": "markdown",
   "metadata": {},
   "source": [
    "## 7. Leer tabla desde Hive"
   ]
  },
  {
   "cell_type": "code",
   "execution_count": 49,
   "metadata": {},
   "outputs": [
    {
     "name": "stdout",
     "output_type": "stream",
     "text": [
      "CPU times: user 296 µs, sys: 4.17 ms, total: 4.46 ms\n",
      "Wall time: 146 ms\n"
     ]
    }
   ],
   "source": [
    "%%time\n",
    "hive_context = HiveContext(sc)\n",
    "tabla = hive_context.table(\"taxis.chicago\")"
   ]
  },
  {
   "cell_type": "code",
   "execution_count": 50,
   "metadata": {},
   "outputs": [
    {
     "data": {
      "text/plain": [
       "pyspark.sql.dataframe.DataFrame"
      ]
     },
     "execution_count": 50,
     "metadata": {},
     "output_type": "execute_result"
    }
   ],
   "source": [
    "type(tabla)"
   ]
  },
  {
   "cell_type": "code",
   "execution_count": 51,
   "metadata": {},
   "outputs": [
    {
     "name": "stdout",
     "output_type": "stream",
     "text": [
      "CPU times: user 496 µs, sys: 3.82 ms, total: 4.31 ms\n",
      "Wall time: 18.3 s\n"
     ]
    },
    {
     "data": {
      "text/plain": [
       "19866169"
      ]
     },
     "execution_count": 51,
     "metadata": {},
     "output_type": "execute_result"
    }
   ],
   "source": [
    "%%time\n",
    "tabla.count()"
   ]
  },
  {
   "cell_type": "code",
   "execution_count": 52,
   "metadata": {},
   "outputs": [
    {
     "name": "stdout",
     "output_type": "stream",
     "text": [
      "CPU times: user 4.22 ms, sys: 6 µs, total: 4.22 ms\n",
      "Wall time: 18.2 ms\n"
     ]
    }
   ],
   "source": [
    "%%time\n",
    "tabla = tabla.groupby('payment_type').agg({'trip_total':'mean'})"
   ]
  },
  {
   "cell_type": "code",
   "execution_count": 53,
   "metadata": {},
   "outputs": [
    {
     "name": "stdout",
     "output_type": "stream",
     "text": [
      "+------------+------------------+\n",
      "|payment_type|   avg(trip_total)|\n",
      "+------------+------------------+\n",
      "| Credit Card| 21.34001686077414|\n",
      "|   No Charge|18.013121714062898|\n",
      "|     Unknown|11.577861055469077|\n",
      "|      Prcard|11.211451040555353|\n",
      "+------------+------------------+\n",
      "only showing top 4 rows\n",
      "\n"
     ]
    }
   ],
   "source": [
    "tabla.show(4)"
   ]
  },
  {
   "cell_type": "markdown",
   "metadata": {},
   "source": [
    "## 8. Escribir en Hive y HDFS"
   ]
  },
  {
   "cell_type": "code",
   "execution_count": 56,
   "metadata": {},
   "outputs": [],
   "source": [
    "tabla.createOrReplaceTempView('grupo_taxis')"
   ]
  },
  {
   "cell_type": "code",
   "execution_count": 57,
   "metadata": {},
   "outputs": [
    {
     "name": "stdout",
     "output_type": "stream",
     "text": [
      "CPU times: user 4.95 ms, sys: 386 µs, total: 5.33 ms\n",
      "Wall time: 23.5 s\n"
     ]
    },
    {
     "data": {
      "text/plain": [
       "DataFrame[]"
      ]
     },
     "execution_count": 57,
     "metadata": {},
     "output_type": "execute_result"
    }
   ],
   "source": [
    "%%time\n",
    "hive_context.sql('create table taxis.grupo as select * from grupo_taxis')"
   ]
  },
  {
   "cell_type": "code",
   "execution_count": 60,
   "metadata": {},
   "outputs": [],
   "source": [
    "#hive_context.sql('create table taxis.xxx as select taxi_id from chicago')"
   ]
  },
  {
   "cell_type": "code",
   "execution_count": 64,
   "metadata": {
    "scrolled": true
   },
   "outputs": [
    {
     "name": "stdout",
     "output_type": "stream",
     "text": [
      "CPU times: user 4.63 ms, sys: 35 µs, total: 4.66 ms\n",
      "Wall time: 21.5 s\n"
     ]
    }
   ],
   "source": [
    "%%time\n",
    "'hdfs://%s'%ruta\n",
    "tabla.write.format('csv').save('hdfs://%s/agrupado.csv'%ruta)\n",
    "#tabla.write.format('parquet').save('hdfs://%s/agrupado.parquet'%ruta)"
   ]
  },
  {
   "cell_type": "code",
   "execution_count": 66,
   "metadata": {},
   "outputs": [
    {
     "data": {
      "text/plain": [
       "0"
      ]
     },
     "execution_count": 66,
     "metadata": {},
     "output_type": "execute_result"
    }
   ],
   "source": [
    "df3 = sparkSession.read.csv('hdfs://%s/agrupado.csv'%ruta,header=True,inferSchema=False)\n",
    "df3.count()"
   ]
  },
  {
   "cell_type": "code",
   "execution_count": 68,
   "metadata": {},
   "outputs": [
    {
     "name": "stdout",
     "output_type": "stream",
     "text": [
      "+-----------+-----------------+\n",
      "|Credit Card|21.34001686077414|\n",
      "+-----------+-----------------+\n",
      "+-----------+-----------------+\n",
      "\n"
     ]
    }
   ],
   "source": [
    "df3.show()"
   ]
  },
  {
   "cell_type": "markdown",
   "metadata": {},
   "source": [
    "## 9. Cruces"
   ]
  },
  {
   "cell_type": "code",
   "execution_count": 71,
   "metadata": {},
   "outputs": [
    {
     "name": "stdout",
     "output_type": "stream",
     "text": [
      "CPU times: user 0 ns, sys: 2.85 ms, total: 2.85 ms\n",
      "Wall time: 48.7 ms\n"
     ]
    }
   ],
   "source": [
    "%%time\n",
    "df =  hive_context.table(\"taxis.grupo\")\n",
    "df2 = df.filter(df['payment_type']=='Credit Card')"
   ]
  },
  {
   "cell_type": "code",
   "execution_count": 72,
   "metadata": {},
   "outputs": [
    {
     "name": "stdout",
     "output_type": "stream",
     "text": [
      "+------------+------------------+\n",
      "|payment_type|   avg(trip_total)|\n",
      "+------------+------------------+\n",
      "| Credit Card| 21.34001686077414|\n",
      "|   No Charge|18.013121714062898|\n",
      "|     Unknown|11.577861055469077|\n",
      "|      Prcard|11.211451040555353|\n",
      "|        Cash|12.465961928839715|\n",
      "|     Dispute|15.169767331415997|\n",
      "|    Way2ride| 5.160909078337929|\n",
      "|       Pcard|10.120076191856748|\n",
      "|payment_type|              null|\n",
      "+------------+------------------+\n",
      "\n"
     ]
    }
   ],
   "source": [
    "df.show()"
   ]
  },
  {
   "cell_type": "code",
   "execution_count": 73,
   "metadata": {},
   "outputs": [
    {
     "name": "stdout",
     "output_type": "stream",
     "text": [
      "+------------+-----------------+\n",
      "|payment_type|  avg(trip_total)|\n",
      "+------------+-----------------+\n",
      "| Credit Card|21.34001686077414|\n",
      "+------------+-----------------+\n",
      "\n"
     ]
    }
   ],
   "source": [
    "df2.show()"
   ]
  },
  {
   "cell_type": "code",
   "execution_count": 75,
   "metadata": {},
   "outputs": [
    {
     "name": "stdout",
     "output_type": "stream",
     "text": [
      "CPU times: user 3.08 ms, sys: 0 ns, total: 3.08 ms\n",
      "Wall time: 14.7 ms\n"
     ]
    }
   ],
   "source": [
    "%%time\n",
    "df = df.join(df2, ['payment_type'],'inner')"
   ]
  },
  {
   "cell_type": "markdown",
   "metadata": {},
   "source": [
    "## 10. Convertir a pandas"
   ]
  },
  {
   "cell_type": "code",
   "execution_count": 76,
   "metadata": {},
   "outputs": [
    {
     "name": "stdout",
     "output_type": "stream",
     "text": [
      "CPU times: user 13.1 ms, sys: 3.75 ms, total: 16.8 ms\n",
      "Wall time: 1 s\n"
     ]
    }
   ],
   "source": [
    "%%time\n",
    "df = df.toPandas()"
   ]
  },
  {
   "cell_type": "code",
   "execution_count": 78,
   "metadata": {},
   "outputs": [
    {
     "data": {
      "text/html": [
       "<div>\n",
       "<style scoped>\n",
       "    .dataframe tbody tr th:only-of-type {\n",
       "        vertical-align: middle;\n",
       "    }\n",
       "\n",
       "    .dataframe tbody tr th {\n",
       "        vertical-align: top;\n",
       "    }\n",
       "\n",
       "    .dataframe thead th {\n",
       "        text-align: right;\n",
       "    }\n",
       "</style>\n",
       "<table border=\"1\" class=\"dataframe\">\n",
       "  <thead>\n",
       "    <tr style=\"text-align: right;\">\n",
       "      <th></th>\n",
       "      <th>payment_type</th>\n",
       "      <th>avg(trip_total)</th>\n",
       "      <th>avg(trip_total)</th>\n",
       "    </tr>\n",
       "  </thead>\n",
       "  <tbody>\n",
       "    <tr>\n",
       "      <th>0</th>\n",
       "      <td>Credit Card</td>\n",
       "      <td>21.340017</td>\n",
       "      <td>21.340017</td>\n",
       "    </tr>\n",
       "  </tbody>\n",
       "</table>\n",
       "</div>"
      ],
      "text/plain": [
       "  payment_type  avg(trip_total)  avg(trip_total)\n",
       "0  Credit Card        21.340017        21.340017"
      ]
     },
     "execution_count": 78,
     "metadata": {},
     "output_type": "execute_result"
    }
   ],
   "source": [
    "df"
   ]
  },
  {
   "cell_type": "code",
   "execution_count": 77,
   "metadata": {},
   "outputs": [
    {
     "data": {
      "text/html": [
       "<div>\n",
       "<style scoped>\n",
       "    .dataframe tbody tr th:only-of-type {\n",
       "        vertical-align: middle;\n",
       "    }\n",
       "\n",
       "    .dataframe tbody tr th {\n",
       "        vertical-align: top;\n",
       "    }\n",
       "\n",
       "    .dataframe thead th {\n",
       "        text-align: right;\n",
       "    }\n",
       "</style>\n",
       "<table border=\"1\" class=\"dataframe\">\n",
       "  <thead>\n",
       "    <tr style=\"text-align: right;\">\n",
       "      <th></th>\n",
       "      <th>avg(trip_total)</th>\n",
       "      <th>avg(trip_total)</th>\n",
       "    </tr>\n",
       "  </thead>\n",
       "  <tbody>\n",
       "    <tr>\n",
       "      <th>count</th>\n",
       "      <td>1.000000</td>\n",
       "      <td>1.000000</td>\n",
       "    </tr>\n",
       "    <tr>\n",
       "      <th>mean</th>\n",
       "      <td>21.340017</td>\n",
       "      <td>21.340017</td>\n",
       "    </tr>\n",
       "    <tr>\n",
       "      <th>std</th>\n",
       "      <td>NaN</td>\n",
       "      <td>NaN</td>\n",
       "    </tr>\n",
       "    <tr>\n",
       "      <th>min</th>\n",
       "      <td>21.340017</td>\n",
       "      <td>21.340017</td>\n",
       "    </tr>\n",
       "    <tr>\n",
       "      <th>25%</th>\n",
       "      <td>21.340017</td>\n",
       "      <td>21.340017</td>\n",
       "    </tr>\n",
       "    <tr>\n",
       "      <th>50%</th>\n",
       "      <td>21.340017</td>\n",
       "      <td>21.340017</td>\n",
       "    </tr>\n",
       "    <tr>\n",
       "      <th>75%</th>\n",
       "      <td>21.340017</td>\n",
       "      <td>21.340017</td>\n",
       "    </tr>\n",
       "    <tr>\n",
       "      <th>max</th>\n",
       "      <td>21.340017</td>\n",
       "      <td>21.340017</td>\n",
       "    </tr>\n",
       "  </tbody>\n",
       "</table>\n",
       "</div>"
      ],
      "text/plain": [
       "       avg(trip_total)  avg(trip_total)\n",
       "count         1.000000         1.000000\n",
       "mean         21.340017        21.340017\n",
       "std                NaN              NaN\n",
       "min          21.340017        21.340017\n",
       "25%          21.340017        21.340017\n",
       "50%          21.340017        21.340017\n",
       "75%          21.340017        21.340017\n",
       "max          21.340017        21.340017"
      ]
     },
     "execution_count": 77,
     "metadata": {},
     "output_type": "execute_result"
    }
   ],
   "source": [
    "df.describe()"
   ]
  },
  {
   "cell_type": "code",
   "execution_count": null,
   "metadata": {},
   "outputs": [],
   "source": []
  }
 ],
 "metadata": {
  "kernelspec": {
   "display_name": "env",
   "language": "python",
   "name": "env"
  },
  "language_info": {
   "codemirror_mode": {
    "name": "ipython",
    "version": 3
   },
   "file_extension": ".py",
   "mimetype": "text/x-python",
   "name": "python",
   "nbconvert_exporter": "python",
   "pygments_lexer": "ipython3",
   "version": "3.7.3"
  },
  "toc": {
   "base_numbering": 1,
   "nav_menu": {},
   "number_sections": true,
   "sideBar": true,
   "skip_h1_title": false,
   "title_cell": "Table of Contents",
   "title_sidebar": "Contents",
   "toc_cell": false,
   "toc_position": {},
   "toc_section_display": true,
   "toc_window_display": false
  }
 },
 "nbformat": 4,
 "nbformat_minor": 2
}
