{
 "cells": [
  {
   "cell_type": "code",
   "execution_count": 54,
   "metadata": {
    "ExecuteTime": {
     "end_time": "2021-05-27T01:08:29.381605Z",
     "start_time": "2021-05-27T01:08:29.376695Z"
    }
   },
   "outputs": [],
   "source": [
    "from pyspark import SparkContext\n",
    "from pyspark.sql import SQLContext,SparkSession\n",
    "from pyspark.sql import functions as F\n",
    "\n",
    "import os\n",
    "import subprocess\n",
    "import pandas as pd\n",
    "\n",
    "from functools import reduce\n",
    "from datetime import date\n",
    "\n",
    "import findspark"
   ]
  },
  {
   "cell_type": "code",
   "execution_count": 55,
   "metadata": {
    "ExecuteTime": {
     "end_time": "2021-05-27T01:08:29.507146Z",
     "start_time": "2021-05-27T01:08:29.383217Z"
    }
   },
   "outputs": [],
   "source": [
    "findspark.init('/opt/spark')"
   ]
  },
  {
   "cell_type": "code",
   "execution_count": 56,
   "metadata": {
    "ExecuteTime": {
     "end_time": "2021-05-27T01:08:29.846447Z",
     "start_time": "2021-05-27T01:08:29.509591Z"
    }
   },
   "outputs": [],
   "source": [
    "ruta = '/home/jose/Documentos/bd/aire_csv/'"
   ]
  },
  {
   "cell_type": "code",
   "execution_count": 57,
   "metadata": {
    "ExecuteTime": {
     "end_time": "2021-05-27T01:08:30.002775Z",
     "start_time": "2021-05-27T01:08:29.853673Z"
    }
   },
   "outputs": [],
   "source": [
    "spark = SparkSession.builder.appName(\"bigdatita\").getOrCreate()"
   ]
  },
  {
   "cell_type": "code",
   "execution_count": 58,
   "metadata": {
    "ExecuteTime": {
     "end_time": "2021-05-27T01:08:30.128329Z",
     "start_time": "2021-05-27T01:08:30.003963Z"
    }
   },
   "outputs": [
    {
     "name": "stdout",
     "output_type": "stream",
     "text": [
      "107\n"
     ]
    },
    {
     "data": {
      "text/plain": [
       "['file:///home/jose/Documentos/bd/aire_csv/2018NO.csv',\n",
       " 'file:///home/jose/Documentos/bd/aire_csv/2019NO.csv']"
      ]
     },
     "execution_count": 58,
     "metadata": {},
     "output_type": "execute_result"
    }
   ],
   "source": [
    "lst = ['file://'+os.path.join(ruta,x) for x in os.listdir(ruta)]\n",
    "print(len(lst))\n",
    "lst[:2]"
   ]
  },
  {
   "cell_type": "code",
   "execution_count": 59,
   "metadata": {
    "ExecuteTime": {
     "end_time": "2021-05-27T01:08:30.563122Z",
     "start_time": "2021-05-27T01:08:30.130037Z"
    }
   },
   "outputs": [],
   "source": [
    "df = spark.read.csv(lst,inferSchema=False,header=True)"
   ]
  },
  {
   "cell_type": "code",
   "execution_count": 60,
   "metadata": {
    "ExecuteTime": {
     "end_time": "2021-05-27T01:08:30.567622Z",
     "start_time": "2021-05-27T01:08:30.564743Z"
    }
   },
   "outputs": [
    {
     "name": "stdout",
     "output_type": "stream",
     "text": [
      "root\n",
      " |-- FECHA: string (nullable = true)\n",
      " |-- HORA: string (nullable = true)\n",
      " |-- ESTACION: string (nullable = true)\n",
      " |-- VALOR: string (nullable = true)\n",
      " |-- CONTAMINANTE: string (nullable = true)\n",
      "\n"
     ]
    }
   ],
   "source": [
    "df.printSchema()"
   ]
  },
  {
   "cell_type": "code",
   "execution_count": 61,
   "metadata": {
    "ExecuteTime": {
     "end_time": "2021-05-27T01:08:30.820610Z",
     "start_time": "2021-05-27T01:08:30.568787Z"
    }
   },
   "outputs": [],
   "source": [
    "df = df.withColumn('FECHA',F.to_timestamp(F.col('FECHA')))\n",
    "df = df.withColumn('HORA',F.col('HORA').cast('int'))\n",
    "df = df.withColumn('VALOR',F.col('VALOR').cast('double'))"
   ]
  },
  {
   "cell_type": "code",
   "execution_count": 62,
   "metadata": {
    "ExecuteTime": {
     "end_time": "2021-05-27T01:08:30.877013Z",
     "start_time": "2021-05-27T01:08:30.823075Z"
    }
   },
   "outputs": [
    {
     "name": "stdout",
     "output_type": "stream",
     "text": [
      "root\n",
      " |-- FECHA: timestamp (nullable = true)\n",
      " |-- HORA: integer (nullable = true)\n",
      " |-- ESTACION: string (nullable = true)\n",
      " |-- VALOR: double (nullable = true)\n",
      " |-- CONTAMINANTE: string (nullable = true)\n",
      "\n"
     ]
    }
   ],
   "source": [
    "df.printSchema()"
   ]
  },
  {
   "cell_type": "code",
   "execution_count": 63,
   "metadata": {
    "ExecuteTime": {
     "end_time": "2021-05-27T01:08:37.023225Z",
     "start_time": "2021-05-27T01:08:30.878180Z"
    }
   },
   "outputs": [],
   "source": [
    "catfh = df.select('FECHA').drop_duplicates().toPandas()\n",
    "catfh = catfh.sort_values(by=['FECHA']).reset_index(drop=True)\n",
    "catfh['id'] = catfh.index+1\n",
    "anclai,anclaf = catfh['id'].min(), catfh['id'].max()\n",
    "catfh = spark.createDataFrame(catfh)"
   ]
  },
  {
   "cell_type": "code",
   "execution_count": 64,
   "metadata": {
    "ExecuteTime": {
     "end_time": "2021-05-27T01:08:37.029786Z",
     "start_time": "2021-05-27T01:08:37.024329Z"
    }
   },
   "outputs": [],
   "source": [
    "df = df.join(catfh,['FECHA'],'inner')"
   ]
  },
  {
   "cell_type": "code",
   "execution_count": 65,
   "metadata": {
    "ExecuteTime": {
     "end_time": "2021-05-27T01:08:37.208672Z",
     "start_time": "2021-05-27T01:08:37.030875Z"
    }
   },
   "outputs": [],
   "source": [
    "df = df.drop('FECHA','HORA')"
   ]
  },
  {
   "cell_type": "code",
   "execution_count": 66,
   "metadata": {
    "ExecuteTime": {
     "end_time": "2021-05-27T01:08:37.325454Z",
     "start_time": "2021-05-27T01:08:37.214166Z"
    },
    "scrolled": true
   },
   "outputs": [
    {
     "name": "stdout",
     "output_type": "stream",
     "text": [
      "root\n",
      " |-- ESTACION: string (nullable = true)\n",
      " |-- VALOR: double (nullable = true)\n",
      " |-- CONTAMINANTE: string (nullable = true)\n",
      " |-- id: long (nullable = true)\n",
      "\n"
     ]
    }
   ],
   "source": [
    "df.printSchema()"
   ]
  },
  {
   "cell_type": "code",
   "execution_count": 67,
   "metadata": {
    "ExecuteTime": {
     "end_time": "2021-05-27T01:08:37.426294Z",
     "start_time": "2021-05-27T01:08:37.328213Z"
    }
   },
   "outputs": [
    {
     "data": {
      "text/plain": [
       "(3977, 4047)"
      ]
     },
     "execution_count": 67,
     "metadata": {},
     "output_type": "execute_result"
    }
   ],
   "source": [
    "vobs = 30\n",
    "vdes =  1\n",
    "anclai,anclaf = anclai+vobs-1,anclaf-vdes\n",
    "anclai, anclaf = 3977,3977+70\n",
    "anclai,anclaf"
   ]
  },
  {
   "cell_type": "code",
   "execution_count": 68,
   "metadata": {
    "ExecuteTime": {
     "end_time": "2021-05-27T01:08:47.341321Z",
     "start_time": "2021-05-27T01:08:37.431288Z"
    }
   },
   "outputs": [
    {
     "name": "stdout",
     "output_type": "stream",
     "text": [
      "+--------+-----+------------+---+\n",
      "|ESTACION|VALOR|CONTAMINANTE| id|\n",
      "+--------+-----+------------+---+\n",
      "|     VAL|  2.0|         SO2| 50|\n",
      "|     VAL|  2.0|         SO2| 50|\n",
      "|     VAL|  1.0|         SO2| 50|\n",
      "|     VAL|  1.0|         SO2| 50|\n",
      "|     VAL|  2.0|         SO2| 50|\n",
      "+--------+-----+------------+---+\n",
      "only showing top 5 rows\n",
      "\n"
     ]
    }
   ],
   "source": [
    "df.show(5)"
   ]
  },
  {
   "cell_type": "code",
   "execution_count": 69,
   "metadata": {
    "ExecuteTime": {
     "end_time": "2021-05-27T01:08:47.345732Z",
     "start_time": "2021-05-27T01:08:47.342295Z"
    }
   },
   "outputs": [],
   "source": [
    "def ing(df,k,ancla):\n",
    "    aux = df.filter((df['id']>=(ancla-k+1))&(df['id']<=ancla))\n",
    "    expr = [y(F.col('VALOR')).alias(f'x_{z}_{k}') for y,z in zip([F.min,F.max,F.mean,F.stddev],\n",
    "                                                             ['minimo','maximo','media','desv'])]\n",
    "    aux = aux.groupBy('ESTACION').pivot('CONTAMINANTE').agg(*expr).withColumn('ancla',F.lit(ancla))\n",
    "    return aux"
   ]
  },
  {
   "cell_type": "code",
   "execution_count": 70,
   "metadata": {
    "ExecuteTime": {
     "end_time": "2021-05-27T01:08:47.478201Z",
     "start_time": "2021-05-27T01:08:47.346730Z"
    }
   },
   "outputs": [],
   "source": [
    "def tgt(df,ancla):\n",
    "    aux = df.filter((df['id']==(ancla+vdes))&(df['CONTAMINANTE']=='O3'))\n",
    "    expr = [F.mean(F.col('VALOR')).alias('y')]\n",
    "    aux = aux.select('ESTACION','VALOR').groupby('ESTACION').agg(*expr)\n",
    "    aux = aux.withColumn('ancla',F.lit(ancla))\n",
    "    return aux"
   ]
  },
  {
   "cell_type": "code",
   "execution_count": 71,
   "metadata": {
    "ExecuteTime": {
     "end_time": "2021-05-27T01:08:47.578326Z",
     "start_time": "2021-05-27T01:08:47.479792Z"
    }
   },
   "outputs": [],
   "source": [
    "um = ['ESTACION','ancla']"
   ]
  },
  {
   "cell_type": "code",
   "execution_count": 72,
   "metadata": {
    "ExecuteTime": {
     "end_time": "2021-05-27T01:09:15.968746Z",
     "start_time": "2021-05-27T01:08:47.584552Z"
    }
   },
   "outputs": [],
   "source": [
    "step = 10\n",
    "aux = reduce(lambda x,y:x.join(y,um,'outer'),map(lambda k:ing(df,k,3977),\n",
    "                                                 range(step,vobs+step,step))).join(tgt(df,3977),um,how='inner') "
   ]
  },
  {
   "cell_type": "code",
   "execution_count": 73,
   "metadata": {
    "ExecuteTime": {
     "end_time": "2021-05-27T01:44:32.626132Z",
     "start_time": "2021-05-27T01:09:15.969821Z"
    }
   },
   "outputs": [],
   "source": [
    "tad = reduce(lambda x,y:x.union(y),\n",
    "             map(lambda ancla:reduce(lambda x,y:x.join(y,um,'outer'),\n",
    "             map(lambda k:ing(df,k,ancla),\n",
    "                 range(step,vobs+step,step))).join(tgt(df,ancla),\n",
    "                                                   um,\n",
    "                                                   how='inner'),range(anclai,anclaf+1)))"
   ]
  },
  {
   "cell_type": "code",
   "execution_count": 74,
   "metadata": {
    "ExecuteTime": {
     "end_time": "2021-05-27T01:44:32.629608Z",
     "start_time": "2021-05-27T01:44:32.627291Z"
    }
   },
   "outputs": [
    {
     "name": "stdout",
     "output_type": "stream",
     "text": [
      "root\n",
      " |-- ESTACION: string (nullable = true)\n",
      " |-- ancla: integer (nullable = true)\n",
      " |-- CO_x_minimo_10: double (nullable = true)\n",
      " |-- CO_x_maximo_10: double (nullable = true)\n",
      " |-- CO_x_media_10: double (nullable = true)\n",
      " |-- CO_x_desv_10: double (nullable = true)\n",
      " |-- NO_x_minimo_10: double (nullable = true)\n",
      " |-- NO_x_maximo_10: double (nullable = true)\n",
      " |-- NO_x_media_10: double (nullable = true)\n",
      " |-- NO_x_desv_10: double (nullable = true)\n",
      " |-- NO2_x_minimo_10: double (nullable = true)\n",
      " |-- NO2_x_maximo_10: double (nullable = true)\n",
      " |-- NO2_x_media_10: double (nullable = true)\n",
      " |-- NO2_x_desv_10: double (nullable = true)\n",
      " |-- NOX_x_minimo_10: double (nullable = true)\n",
      " |-- NOX_x_maximo_10: double (nullable = true)\n",
      " |-- NOX_x_media_10: double (nullable = true)\n",
      " |-- NOX_x_desv_10: double (nullable = true)\n",
      " |-- O3_x_minimo_10: double (nullable = true)\n",
      " |-- O3_x_maximo_10: double (nullable = true)\n",
      " |-- O3_x_media_10: double (nullable = true)\n",
      " |-- O3_x_desv_10: double (nullable = true)\n",
      " |-- PM10_x_minimo_10: double (nullable = true)\n",
      " |-- PM10_x_maximo_10: double (nullable = true)\n",
      " |-- PM10_x_media_10: double (nullable = true)\n",
      " |-- PM10_x_desv_10: double (nullable = true)\n",
      " |-- PM25_x_minimo_10: double (nullable = true)\n",
      " |-- PM25_x_maximo_10: double (nullable = true)\n",
      " |-- PM25_x_media_10: double (nullable = true)\n",
      " |-- PM25_x_desv_10: double (nullable = true)\n",
      " |-- PMCO_x_minimo_10: double (nullable = true)\n",
      " |-- PMCO_x_maximo_10: double (nullable = true)\n",
      " |-- PMCO_x_media_10: double (nullable = true)\n",
      " |-- PMCO_x_desv_10: double (nullable = true)\n",
      " |-- SO2_x_minimo_10: double (nullable = true)\n",
      " |-- SO2_x_maximo_10: double (nullable = true)\n",
      " |-- SO2_x_media_10: double (nullable = true)\n",
      " |-- SO2_x_desv_10: double (nullable = true)\n",
      " |-- CO_x_minimo_20: double (nullable = true)\n",
      " |-- CO_x_maximo_20: double (nullable = true)\n",
      " |-- CO_x_media_20: double (nullable = true)\n",
      " |-- CO_x_desv_20: double (nullable = true)\n",
      " |-- NO_x_minimo_20: double (nullable = true)\n",
      " |-- NO_x_maximo_20: double (nullable = true)\n",
      " |-- NO_x_media_20: double (nullable = true)\n",
      " |-- NO_x_desv_20: double (nullable = true)\n",
      " |-- NO2_x_minimo_20: double (nullable = true)\n",
      " |-- NO2_x_maximo_20: double (nullable = true)\n",
      " |-- NO2_x_media_20: double (nullable = true)\n",
      " |-- NO2_x_desv_20: double (nullable = true)\n",
      " |-- NOX_x_minimo_20: double (nullable = true)\n",
      " |-- NOX_x_maximo_20: double (nullable = true)\n",
      " |-- NOX_x_media_20: double (nullable = true)\n",
      " |-- NOX_x_desv_20: double (nullable = true)\n",
      " |-- O3_x_minimo_20: double (nullable = true)\n",
      " |-- O3_x_maximo_20: double (nullable = true)\n",
      " |-- O3_x_media_20: double (nullable = true)\n",
      " |-- O3_x_desv_20: double (nullable = true)\n",
      " |-- PM10_x_minimo_20: double (nullable = true)\n",
      " |-- PM10_x_maximo_20: double (nullable = true)\n",
      " |-- PM10_x_media_20: double (nullable = true)\n",
      " |-- PM10_x_desv_20: double (nullable = true)\n",
      " |-- PM25_x_minimo_20: double (nullable = true)\n",
      " |-- PM25_x_maximo_20: double (nullable = true)\n",
      " |-- PM25_x_media_20: double (nullable = true)\n",
      " |-- PM25_x_desv_20: double (nullable = true)\n",
      " |-- PMCO_x_minimo_20: double (nullable = true)\n",
      " |-- PMCO_x_maximo_20: double (nullable = true)\n",
      " |-- PMCO_x_media_20: double (nullable = true)\n",
      " |-- PMCO_x_desv_20: double (nullable = true)\n",
      " |-- SO2_x_minimo_20: double (nullable = true)\n",
      " |-- SO2_x_maximo_20: double (nullable = true)\n",
      " |-- SO2_x_media_20: double (nullable = true)\n",
      " |-- SO2_x_desv_20: double (nullable = true)\n",
      " |-- CO_x_minimo_30: double (nullable = true)\n",
      " |-- CO_x_maximo_30: double (nullable = true)\n",
      " |-- CO_x_media_30: double (nullable = true)\n",
      " |-- CO_x_desv_30: double (nullable = true)\n",
      " |-- NO_x_minimo_30: double (nullable = true)\n",
      " |-- NO_x_maximo_30: double (nullable = true)\n",
      " |-- NO_x_media_30: double (nullable = true)\n",
      " |-- NO_x_desv_30: double (nullable = true)\n",
      " |-- NO2_x_minimo_30: double (nullable = true)\n",
      " |-- NO2_x_maximo_30: double (nullable = true)\n",
      " |-- NO2_x_media_30: double (nullable = true)\n",
      " |-- NO2_x_desv_30: double (nullable = true)\n",
      " |-- NOX_x_minimo_30: double (nullable = true)\n",
      " |-- NOX_x_maximo_30: double (nullable = true)\n",
      " |-- NOX_x_media_30: double (nullable = true)\n",
      " |-- NOX_x_desv_30: double (nullable = true)\n",
      " |-- O3_x_minimo_30: double (nullable = true)\n",
      " |-- O3_x_maximo_30: double (nullable = true)\n",
      " |-- O3_x_media_30: double (nullable = true)\n",
      " |-- O3_x_desv_30: double (nullable = true)\n",
      " |-- PM10_x_minimo_30: double (nullable = true)\n",
      " |-- PM10_x_maximo_30: double (nullable = true)\n",
      " |-- PM10_x_media_30: double (nullable = true)\n",
      " |-- PM10_x_desv_30: double (nullable = true)\n",
      " |-- PM25_x_minimo_30: double (nullable = true)\n",
      " |-- PM25_x_maximo_30: double (nullable = true)\n",
      " |-- PM25_x_media_30: double (nullable = true)\n",
      " |-- PM25_x_desv_30: double (nullable = true)\n",
      " |-- PMCO_x_minimo_30: double (nullable = true)\n",
      " |-- PMCO_x_maximo_30: double (nullable = true)\n",
      " |-- PMCO_x_media_30: double (nullable = true)\n",
      " |-- PMCO_x_desv_30: double (nullable = true)\n",
      " |-- SO2_x_minimo_30: double (nullable = true)\n",
      " |-- SO2_x_maximo_30: double (nullable = true)\n",
      " |-- SO2_x_media_30: double (nullable = true)\n",
      " |-- SO2_x_desv_30: double (nullable = true)\n",
      " |-- y: double (nullable = true)\n",
      "\n"
     ]
    }
   ],
   "source": [
    "tad.printSchema()"
   ]
  },
  {
   "cell_type": "code",
   "execution_count": 75,
   "metadata": {
    "ExecuteTime": {
     "end_time": "2021-05-27T02:04:58.422992Z",
     "start_time": "2021-05-27T01:44:32.630752Z"
    }
   },
   "outputs": [],
   "source": [
    "df = tad.toPandas()"
   ]
  },
  {
   "cell_type": "code",
   "execution_count": 76,
   "metadata": {
    "ExecuteTime": {
     "end_time": "2021-05-27T02:04:58.447565Z",
     "start_time": "2021-05-27T02:04:58.424316Z"
    }
   },
   "outputs": [
    {
     "data": {
      "text/html": [
       "<div>\n",
       "<style scoped>\n",
       "    .dataframe tbody tr th:only-of-type {\n",
       "        vertical-align: middle;\n",
       "    }\n",
       "\n",
       "    .dataframe tbody tr th {\n",
       "        vertical-align: top;\n",
       "    }\n",
       "\n",
       "    .dataframe thead th {\n",
       "        text-align: right;\n",
       "    }\n",
       "</style>\n",
       "<table border=\"1\" class=\"dataframe\">\n",
       "  <thead>\n",
       "    <tr style=\"text-align: right;\">\n",
       "      <th></th>\n",
       "      <th>ESTACION</th>\n",
       "      <th>ancla</th>\n",
       "      <th>CO_x_minimo_10</th>\n",
       "      <th>CO_x_maximo_10</th>\n",
       "      <th>CO_x_media_10</th>\n",
       "      <th>CO_x_desv_10</th>\n",
       "      <th>NO_x_minimo_10</th>\n",
       "      <th>NO_x_maximo_10</th>\n",
       "      <th>NO_x_media_10</th>\n",
       "      <th>NO_x_desv_10</th>\n",
       "      <th>...</th>\n",
       "      <th>PM25_x_desv_30</th>\n",
       "      <th>PMCO_x_minimo_30</th>\n",
       "      <th>PMCO_x_maximo_30</th>\n",
       "      <th>PMCO_x_media_30</th>\n",
       "      <th>PMCO_x_desv_30</th>\n",
       "      <th>SO2_x_minimo_30</th>\n",
       "      <th>SO2_x_maximo_30</th>\n",
       "      <th>SO2_x_media_30</th>\n",
       "      <th>SO2_x_desv_30</th>\n",
       "      <th>y</th>\n",
       "    </tr>\n",
       "  </thead>\n",
       "  <tbody>\n",
       "    <tr>\n",
       "      <th>0</th>\n",
       "      <td>TLI</td>\n",
       "      <td>3977</td>\n",
       "      <td>NaN</td>\n",
       "      <td>NaN</td>\n",
       "      <td>NaN</td>\n",
       "      <td>NaN</td>\n",
       "      <td>NaN</td>\n",
       "      <td>NaN</td>\n",
       "      <td>NaN</td>\n",
       "      <td>NaN</td>\n",
       "      <td>...</td>\n",
       "      <td>NaN</td>\n",
       "      <td>NaN</td>\n",
       "      <td>NaN</td>\n",
       "      <td>NaN</td>\n",
       "      <td>NaN</td>\n",
       "      <td>NaN</td>\n",
       "      <td>NaN</td>\n",
       "      <td>NaN</td>\n",
       "      <td>NaN</td>\n",
       "      <td>NaN</td>\n",
       "    </tr>\n",
       "    <tr>\n",
       "      <th>1</th>\n",
       "      <td>LLA</td>\n",
       "      <td>3977</td>\n",
       "      <td>NaN</td>\n",
       "      <td>NaN</td>\n",
       "      <td>NaN</td>\n",
       "      <td>NaN</td>\n",
       "      <td>NaN</td>\n",
       "      <td>NaN</td>\n",
       "      <td>NaN</td>\n",
       "      <td>NaN</td>\n",
       "      <td>...</td>\n",
       "      <td>NaN</td>\n",
       "      <td>NaN</td>\n",
       "      <td>NaN</td>\n",
       "      <td>NaN</td>\n",
       "      <td>NaN</td>\n",
       "      <td>NaN</td>\n",
       "      <td>NaN</td>\n",
       "      <td>NaN</td>\n",
       "      <td>NaN</td>\n",
       "      <td>NaN</td>\n",
       "    </tr>\n",
       "    <tr>\n",
       "      <th>2</th>\n",
       "      <td>AJM</td>\n",
       "      <td>3977</td>\n",
       "      <td>NaN</td>\n",
       "      <td>NaN</td>\n",
       "      <td>NaN</td>\n",
       "      <td>NaN</td>\n",
       "      <td>NaN</td>\n",
       "      <td>NaN</td>\n",
       "      <td>NaN</td>\n",
       "      <td>NaN</td>\n",
       "      <td>...</td>\n",
       "      <td>NaN</td>\n",
       "      <td>NaN</td>\n",
       "      <td>NaN</td>\n",
       "      <td>NaN</td>\n",
       "      <td>NaN</td>\n",
       "      <td>NaN</td>\n",
       "      <td>NaN</td>\n",
       "      <td>NaN</td>\n",
       "      <td>NaN</td>\n",
       "      <td>NaN</td>\n",
       "    </tr>\n",
       "    <tr>\n",
       "      <th>3</th>\n",
       "      <td>SAG</td>\n",
       "      <td>3977</td>\n",
       "      <td>0.0</td>\n",
       "      <td>2.0</td>\n",
       "      <td>0.418103</td>\n",
       "      <td>0.300389</td>\n",
       "      <td>1.0</td>\n",
       "      <td>178.0</td>\n",
       "      <td>14.831897</td>\n",
       "      <td>23.742709</td>\n",
       "      <td>...</td>\n",
       "      <td>13.210507</td>\n",
       "      <td>4.0</td>\n",
       "      <td>175.0</td>\n",
       "      <td>38.13093</td>\n",
       "      <td>19.44046</td>\n",
       "      <td>1.0</td>\n",
       "      <td>109.0</td>\n",
       "      <td>4.057803</td>\n",
       "      <td>6.807428</td>\n",
       "      <td>14.095238</td>\n",
       "    </tr>\n",
       "    <tr>\n",
       "      <th>4</th>\n",
       "      <td>FAR</td>\n",
       "      <td>3977</td>\n",
       "      <td>0.0</td>\n",
       "      <td>1.0</td>\n",
       "      <td>0.281435</td>\n",
       "      <td>0.185928</td>\n",
       "      <td>NaN</td>\n",
       "      <td>NaN</td>\n",
       "      <td>NaN</td>\n",
       "      <td>NaN</td>\n",
       "      <td>...</td>\n",
       "      <td>9.985451</td>\n",
       "      <td>NaN</td>\n",
       "      <td>NaN</td>\n",
       "      <td>NaN</td>\n",
       "      <td>NaN</td>\n",
       "      <td>0.0</td>\n",
       "      <td>46.0</td>\n",
       "      <td>2.893895</td>\n",
       "      <td>4.974938</td>\n",
       "      <td>21.857143</td>\n",
       "    </tr>\n",
       "  </tbody>\n",
       "</table>\n",
       "<p>5 rows × 111 columns</p>\n",
       "</div>"
      ],
      "text/plain": [
       "  ESTACION  ancla  CO_x_minimo_10  CO_x_maximo_10  CO_x_media_10  \\\n",
       "0      TLI   3977             NaN             NaN            NaN   \n",
       "1      LLA   3977             NaN             NaN            NaN   \n",
       "2      AJM   3977             NaN             NaN            NaN   \n",
       "3      SAG   3977             0.0             2.0       0.418103   \n",
       "4      FAR   3977             0.0             1.0       0.281435   \n",
       "\n",
       "   CO_x_desv_10  NO_x_minimo_10  NO_x_maximo_10  NO_x_media_10  NO_x_desv_10  \\\n",
       "0           NaN             NaN             NaN            NaN           NaN   \n",
       "1           NaN             NaN             NaN            NaN           NaN   \n",
       "2           NaN             NaN             NaN            NaN           NaN   \n",
       "3      0.300389             1.0           178.0      14.831897     23.742709   \n",
       "4      0.185928             NaN             NaN            NaN           NaN   \n",
       "\n",
       "   ...  PM25_x_desv_30  PMCO_x_minimo_30  PMCO_x_maximo_30  PMCO_x_media_30  \\\n",
       "0  ...             NaN               NaN               NaN              NaN   \n",
       "1  ...             NaN               NaN               NaN              NaN   \n",
       "2  ...             NaN               NaN               NaN              NaN   \n",
       "3  ...       13.210507               4.0             175.0         38.13093   \n",
       "4  ...        9.985451               NaN               NaN              NaN   \n",
       "\n",
       "   PMCO_x_desv_30  SO2_x_minimo_30  SO2_x_maximo_30  SO2_x_media_30  \\\n",
       "0             NaN              NaN              NaN             NaN   \n",
       "1             NaN              NaN              NaN             NaN   \n",
       "2             NaN              NaN              NaN             NaN   \n",
       "3        19.44046              1.0            109.0        4.057803   \n",
       "4             NaN              0.0             46.0        2.893895   \n",
       "\n",
       "   SO2_x_desv_30          y  \n",
       "0            NaN        NaN  \n",
       "1            NaN        NaN  \n",
       "2            NaN        NaN  \n",
       "3       6.807428  14.095238  \n",
       "4       4.974938  21.857143  \n",
       "\n",
       "[5 rows x 111 columns]"
      ]
     },
     "execution_count": 76,
     "metadata": {},
     "output_type": "execute_result"
    }
   ],
   "source": [
    "df.head()"
   ]
  },
  {
   "cell_type": "code",
   "execution_count": 77,
   "metadata": {
    "ExecuteTime": {
     "end_time": "2021-05-27T02:04:58.543844Z",
     "start_time": "2021-05-27T02:04:58.449288Z"
    }
   },
   "outputs": [],
   "source": [
    "df.to_pickle('tad_aire.pkl')"
   ]
  },
  {
   "cell_type": "code",
   "execution_count": 78,
   "metadata": {
    "ExecuteTime": {
     "end_time": "2021-05-27T02:08:22.560629Z",
     "start_time": "2021-05-27T02:08:22.555809Z"
    }
   },
   "outputs": [
    {
     "data": {
      "text/plain": [
       "(2556, 111)"
      ]
     },
     "execution_count": 78,
     "metadata": {},
     "output_type": "execute_result"
    }
   ],
   "source": [
    "df.shape"
   ]
  },
  {
   "cell_type": "code",
   "execution_count": null,
   "metadata": {},
   "outputs": [],
   "source": []
  }
 ],
 "metadata": {
  "kernelspec": {
   "display_name": "env",
   "language": "python",
   "name": "env"
  },
  "language_info": {
   "codemirror_mode": {
    "name": "ipython",
    "version": 3
   },
   "file_extension": ".py",
   "mimetype": "text/x-python",
   "name": "python",
   "nbconvert_exporter": "python",
   "pygments_lexer": "ipython3",
   "version": "3.7.3"
  },
  "toc": {
   "base_numbering": 1,
   "nav_menu": {},
   "number_sections": true,
   "sideBar": true,
   "skip_h1_title": false,
   "title_cell": "Table of Contents",
   "title_sidebar": "Contents",
   "toc_cell": false,
   "toc_position": {},
   "toc_section_display": true,
   "toc_window_display": false
  }
 },
 "nbformat": 4,
 "nbformat_minor": 2
}
