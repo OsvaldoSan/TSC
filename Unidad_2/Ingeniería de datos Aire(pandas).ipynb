{
 "cells": [
  {
   "cell_type": "code",
   "execution_count": 103,
   "metadata": {
    "ExecuteTime": {
     "end_time": "2021-06-05T02:29:51.572180Z",
     "start_time": "2021-06-05T02:29:51.553767Z"
    }
   },
   "outputs": [],
   "source": [
    "import pandas as pd\n",
    "import numpy as np\n",
    "\n",
    "from functools import reduce\n",
    "\n",
    "import os"
   ]
  },
  {
   "cell_type": "markdown",
   "metadata": {},
   "source": [
    "# Ingeniería de datos Aire CDMX"
   ]
  },
  {
   "cell_type": "code",
   "execution_count": 104,
   "metadata": {
    "ExecuteTime": {
     "end_time": "2021-06-05T02:29:51.661820Z",
     "start_time": "2021-06-05T02:29:51.613760Z"
    }
   },
   "outputs": [],
   "source": [
    "ruta=\"bigdatita/Aire_cdmx\"\n",
    "lista=[ os.path.join(ruta,arch) for arch in os.listdir(ruta) ]\n",
    "lista.sort()"
   ]
  },
  {
   "cell_type": "code",
   "execution_count": 105,
   "metadata": {
    "ExecuteTime": {
     "end_time": "2021-06-05T02:30:00.364430Z",
     "start_time": "2021-06-05T02:29:51.683380Z"
    }
   },
   "outputs": [],
   "source": [
    "df=reduce(lambda x,y:pd.concat([x,y]),map(lambda x:pd.read_excel(x).assign(CONTAMINANTE=x.split('.')[0][24:]),lista[0:2]))"
   ]
  },
  {
   "cell_type": "code",
   "execution_count": 106,
   "metadata": {
    "ExecuteTime": {
     "end_time": "2021-06-05T02:30:00.522263Z",
     "start_time": "2021-06-05T02:30:00.372309Z"
    }
   },
   "outputs": [
    {
     "data": {
      "text/html": [
       "<div>\n",
       "<style scoped>\n",
       "    .dataframe tbody tr th:only-of-type {\n",
       "        vertical-align: middle;\n",
       "    }\n",
       "\n",
       "    .dataframe tbody tr th {\n",
       "        vertical-align: top;\n",
       "    }\n",
       "\n",
       "    .dataframe thead th {\n",
       "        text-align: right;\n",
       "    }\n",
       "</style>\n",
       "<table border=\"1\" class=\"dataframe\">\n",
       "  <thead>\n",
       "    <tr style=\"text-align: right;\">\n",
       "      <th></th>\n",
       "      <th>FECHA</th>\n",
       "      <th>HORA</th>\n",
       "      <th>LAG</th>\n",
       "      <th>TAC</th>\n",
       "      <th>FAC</th>\n",
       "      <th>TLA</th>\n",
       "      <th>XAL</th>\n",
       "      <th>MER</th>\n",
       "      <th>PED</th>\n",
       "      <th>CES</th>\n",
       "      <th>...</th>\n",
       "      <th>TAX</th>\n",
       "      <th>MIN</th>\n",
       "      <th>TLI</th>\n",
       "      <th>ATI</th>\n",
       "      <th>VIF</th>\n",
       "      <th>SAG</th>\n",
       "      <th>VAL</th>\n",
       "      <th>AZC</th>\n",
       "      <th>SUR</th>\n",
       "      <th>CONTAMINANTE</th>\n",
       "    </tr>\n",
       "  </thead>\n",
       "  <tbody>\n",
       "    <tr>\n",
       "      <th>0</th>\n",
       "      <td>2000-01-01</td>\n",
       "      <td>1</td>\n",
       "      <td>2.3</td>\n",
       "      <td>1.0</td>\n",
       "      <td>-99.0</td>\n",
       "      <td>3.7</td>\n",
       "      <td>6.2</td>\n",
       "      <td>2.8</td>\n",
       "      <td>1.6</td>\n",
       "      <td>2.6</td>\n",
       "      <td>...</td>\n",
       "      <td>4.1</td>\n",
       "      <td>3.4</td>\n",
       "      <td>3.1</td>\n",
       "      <td>1.5</td>\n",
       "      <td>2.6</td>\n",
       "      <td>2.5</td>\n",
       "      <td>1.3</td>\n",
       "      <td>3.5</td>\n",
       "      <td>-99.0</td>\n",
       "      <td>CO</td>\n",
       "    </tr>\n",
       "    <tr>\n",
       "      <th>1</th>\n",
       "      <td>2000-01-01</td>\n",
       "      <td>2</td>\n",
       "      <td>2.3</td>\n",
       "      <td>2.0</td>\n",
       "      <td>-99.0</td>\n",
       "      <td>2.6</td>\n",
       "      <td>6.5</td>\n",
       "      <td>2.8</td>\n",
       "      <td>1.3</td>\n",
       "      <td>2.9</td>\n",
       "      <td>...</td>\n",
       "      <td>6.3</td>\n",
       "      <td>4.1</td>\n",
       "      <td>2.7</td>\n",
       "      <td>1.4</td>\n",
       "      <td>3.5</td>\n",
       "      <td>2.7</td>\n",
       "      <td>3.5</td>\n",
       "      <td>3.2</td>\n",
       "      <td>-99.0</td>\n",
       "      <td>CO</td>\n",
       "    </tr>\n",
       "    <tr>\n",
       "      <th>2</th>\n",
       "      <td>2000-01-01</td>\n",
       "      <td>3</td>\n",
       "      <td>1.8</td>\n",
       "      <td>1.8</td>\n",
       "      <td>-99.0</td>\n",
       "      <td>3.1</td>\n",
       "      <td>6.3</td>\n",
       "      <td>2.9</td>\n",
       "      <td>1.4</td>\n",
       "      <td>3.1</td>\n",
       "      <td>...</td>\n",
       "      <td>6.4</td>\n",
       "      <td>4.5</td>\n",
       "      <td>2.9</td>\n",
       "      <td>2.0</td>\n",
       "      <td>3.6</td>\n",
       "      <td>3.2</td>\n",
       "      <td>4.7</td>\n",
       "      <td>3.1</td>\n",
       "      <td>-99.0</td>\n",
       "      <td>CO</td>\n",
       "    </tr>\n",
       "    <tr>\n",
       "      <th>3</th>\n",
       "      <td>2000-01-01</td>\n",
       "      <td>4</td>\n",
       "      <td>2.3</td>\n",
       "      <td>1.7</td>\n",
       "      <td>-99.0</td>\n",
       "      <td>3.4</td>\n",
       "      <td>6.6</td>\n",
       "      <td>2.8</td>\n",
       "      <td>1.9</td>\n",
       "      <td>2.8</td>\n",
       "      <td>...</td>\n",
       "      <td>7.1</td>\n",
       "      <td>5.9</td>\n",
       "      <td>4.1</td>\n",
       "      <td>1.9</td>\n",
       "      <td>3.3</td>\n",
       "      <td>3.5</td>\n",
       "      <td>5.4</td>\n",
       "      <td>4.2</td>\n",
       "      <td>-99.0</td>\n",
       "      <td>CO</td>\n",
       "    </tr>\n",
       "    <tr>\n",
       "      <th>4</th>\n",
       "      <td>2000-01-01</td>\n",
       "      <td>5</td>\n",
       "      <td>3.1</td>\n",
       "      <td>1.5</td>\n",
       "      <td>-99.0</td>\n",
       "      <td>3.6</td>\n",
       "      <td>9.7</td>\n",
       "      <td>3.4</td>\n",
       "      <td>1.8</td>\n",
       "      <td>3.5</td>\n",
       "      <td>...</td>\n",
       "      <td>4.9</td>\n",
       "      <td>5.5</td>\n",
       "      <td>5.0</td>\n",
       "      <td>1.4</td>\n",
       "      <td>3.7</td>\n",
       "      <td>3.1</td>\n",
       "      <td>5.2</td>\n",
       "      <td>3.0</td>\n",
       "      <td>-99.0</td>\n",
       "      <td>CO</td>\n",
       "    </tr>\n",
       "  </tbody>\n",
       "</table>\n",
       "<p>5 rows × 26 columns</p>\n",
       "</div>"
      ],
      "text/plain": [
       "       FECHA  HORA  LAG  TAC   FAC  TLA  XAL  MER  PED  CES  ...  TAX  MIN  \\\n",
       "0 2000-01-01     1  2.3  1.0 -99.0  3.7  6.2  2.8  1.6  2.6  ...  4.1  3.4   \n",
       "1 2000-01-01     2  2.3  2.0 -99.0  2.6  6.5  2.8  1.3  2.9  ...  6.3  4.1   \n",
       "2 2000-01-01     3  1.8  1.8 -99.0  3.1  6.3  2.9  1.4  3.1  ...  6.4  4.5   \n",
       "3 2000-01-01     4  2.3  1.7 -99.0  3.4  6.6  2.8  1.9  2.8  ...  7.1  5.9   \n",
       "4 2000-01-01     5  3.1  1.5 -99.0  3.6  9.7  3.4  1.8  3.5  ...  4.9  5.5   \n",
       "\n",
       "   TLI  ATI  VIF  SAG  VAL  AZC   SUR  CONTAMINANTE  \n",
       "0  3.1  1.5  2.6  2.5  1.3  3.5 -99.0            CO  \n",
       "1  2.7  1.4  3.5  2.7  3.5  3.2 -99.0            CO  \n",
       "2  2.9  2.0  3.6  3.2  4.7  3.1 -99.0            CO  \n",
       "3  4.1  1.9  3.3  3.5  5.4  4.2 -99.0            CO  \n",
       "4  5.0  1.4  3.7  3.1  5.2  3.0 -99.0            CO  \n",
       "\n",
       "[5 rows x 26 columns]"
      ]
     },
     "execution_count": 106,
     "metadata": {},
     "output_type": "execute_result"
    }
   ],
   "source": [
    "df.head()"
   ]
  },
  {
   "cell_type": "code",
   "execution_count": 107,
   "metadata": {
    "ExecuteTime": {
     "end_time": "2021-06-05T02:30:00.562976Z",
     "start_time": "2021-06-05T02:30:00.540420Z"
    }
   },
   "outputs": [],
   "source": [
    "estaciones=list(df.columns[2:-1])\n",
    "id_=list(df.columns[:2])"
   ]
  },
  {
   "cell_type": "code",
   "execution_count": 108,
   "metadata": {
    "ExecuteTime": {
     "end_time": "2021-06-05T02:30:00.922803Z",
     "start_time": "2021-06-05T02:30:00.582897Z"
    }
   },
   "outputs": [
    {
     "data": {
      "text/html": [
       "<div>\n",
       "<style scoped>\n",
       "    .dataframe tbody tr th:only-of-type {\n",
       "        vertical-align: middle;\n",
       "    }\n",
       "\n",
       "    .dataframe tbody tr th {\n",
       "        vertical-align: top;\n",
       "    }\n",
       "\n",
       "    .dataframe thead th {\n",
       "        text-align: right;\n",
       "    }\n",
       "</style>\n",
       "<table border=\"1\" class=\"dataframe\">\n",
       "  <thead>\n",
       "    <tr style=\"text-align: right;\">\n",
       "      <th></th>\n",
       "      <th>FECHA</th>\n",
       "      <th>HORA</th>\n",
       "      <th>CONTAMINANTE</th>\n",
       "      <th>ESTACION</th>\n",
       "      <th>VALOR</th>\n",
       "    </tr>\n",
       "  </thead>\n",
       "  <tbody>\n",
       "    <tr>\n",
       "      <th>0</th>\n",
       "      <td>2000-01-01</td>\n",
       "      <td>1</td>\n",
       "      <td>CO</td>\n",
       "      <td>LAG</td>\n",
       "      <td>2.3</td>\n",
       "    </tr>\n",
       "    <tr>\n",
       "      <th>1</th>\n",
       "      <td>2000-01-01</td>\n",
       "      <td>2</td>\n",
       "      <td>CO</td>\n",
       "      <td>LAG</td>\n",
       "      <td>2.3</td>\n",
       "    </tr>\n",
       "    <tr>\n",
       "      <th>2</th>\n",
       "      <td>2000-01-01</td>\n",
       "      <td>3</td>\n",
       "      <td>CO</td>\n",
       "      <td>LAG</td>\n",
       "      <td>1.8</td>\n",
       "    </tr>\n",
       "    <tr>\n",
       "      <th>3</th>\n",
       "      <td>2000-01-01</td>\n",
       "      <td>4</td>\n",
       "      <td>CO</td>\n",
       "      <td>LAG</td>\n",
       "      <td>2.3</td>\n",
       "    </tr>\n",
       "    <tr>\n",
       "      <th>4</th>\n",
       "      <td>2000-01-01</td>\n",
       "      <td>5</td>\n",
       "      <td>CO</td>\n",
       "      <td>LAG</td>\n",
       "      <td>3.1</td>\n",
       "    </tr>\n",
       "  </tbody>\n",
       "</table>\n",
       "</div>"
      ],
      "text/plain": [
       "       FECHA  HORA CONTAMINANTE ESTACION  VALOR\n",
       "0 2000-01-01     1           CO      LAG    2.3\n",
       "1 2000-01-01     2           CO      LAG    2.3\n",
       "2 2000-01-01     3           CO      LAG    1.8\n",
       "3 2000-01-01     4           CO      LAG    2.3\n",
       "4 2000-01-01     5           CO      LAG    3.1"
      ]
     },
     "execution_count": 108,
     "metadata": {},
     "output_type": "execute_result"
    }
   ],
   "source": [
    "mdf=pd.melt(df,id_vars=id_+[\"CONTAMINANTE\"],value_vars=estaciones,var_name=\"ESTACION\",value_name=\"VALOR\")\n",
    "mdf.head()"
   ]
  },
  {
   "cell_type": "code",
   "execution_count": 109,
   "metadata": {
    "ExecuteTime": {
     "end_time": "2021-06-05T02:30:01.008711Z",
     "start_time": "2021-06-05T02:30:00.928812Z"
    }
   },
   "outputs": [],
   "source": [
    "df=mdf.reindex(columns=id_+[\"ESTACION\"]+[\"VALOR\"]+[\"CONTAMINANTE\"])"
   ]
  },
  {
   "cell_type": "code",
   "execution_count": 110,
   "metadata": {
    "ExecuteTime": {
     "end_time": "2021-06-05T02:30:01.224383Z",
     "start_time": "2021-06-05T02:30:01.015071Z"
    }
   },
   "outputs": [
    {
     "data": {
      "text/html": [
       "<div>\n",
       "<style scoped>\n",
       "    .dataframe tbody tr th:only-of-type {\n",
       "        vertical-align: middle;\n",
       "    }\n",
       "\n",
       "    .dataframe tbody tr th {\n",
       "        vertical-align: top;\n",
       "    }\n",
       "\n",
       "    .dataframe thead th {\n",
       "        text-align: right;\n",
       "    }\n",
       "</style>\n",
       "<table border=\"1\" class=\"dataframe\">\n",
       "  <thead>\n",
       "    <tr style=\"text-align: right;\">\n",
       "      <th></th>\n",
       "      <th>FECHA</th>\n",
       "      <th>HORA</th>\n",
       "      <th>ESTACION</th>\n",
       "      <th>VALOR</th>\n",
       "      <th>CONTAMINANTE</th>\n",
       "    </tr>\n",
       "  </thead>\n",
       "  <tbody>\n",
       "    <tr>\n",
       "      <th>0</th>\n",
       "      <td>2000-01-01</td>\n",
       "      <td>1</td>\n",
       "      <td>LAG</td>\n",
       "      <td>2.3</td>\n",
       "      <td>CO</td>\n",
       "    </tr>\n",
       "    <tr>\n",
       "      <th>1</th>\n",
       "      <td>2000-01-01</td>\n",
       "      <td>2</td>\n",
       "      <td>LAG</td>\n",
       "      <td>2.3</td>\n",
       "      <td>CO</td>\n",
       "    </tr>\n",
       "    <tr>\n",
       "      <th>2</th>\n",
       "      <td>2000-01-01</td>\n",
       "      <td>3</td>\n",
       "      <td>LAG</td>\n",
       "      <td>1.8</td>\n",
       "      <td>CO</td>\n",
       "    </tr>\n",
       "    <tr>\n",
       "      <th>3</th>\n",
       "      <td>2000-01-01</td>\n",
       "      <td>4</td>\n",
       "      <td>LAG</td>\n",
       "      <td>2.3</td>\n",
       "      <td>CO</td>\n",
       "    </tr>\n",
       "    <tr>\n",
       "      <th>4</th>\n",
       "      <td>2000-01-01</td>\n",
       "      <td>5</td>\n",
       "      <td>LAG</td>\n",
       "      <td>3.1</td>\n",
       "      <td>CO</td>\n",
       "    </tr>\n",
       "  </tbody>\n",
       "</table>\n",
       "</div>"
      ],
      "text/plain": [
       "       FECHA  HORA ESTACION  VALOR CONTAMINANTE\n",
       "0 2000-01-01     1      LAG    2.3           CO\n",
       "1 2000-01-01     2      LAG    2.3           CO\n",
       "2 2000-01-01     3      LAG    1.8           CO\n",
       "3 2000-01-01     4      LAG    2.3           CO\n",
       "4 2000-01-01     5      LAG    3.1           CO"
      ]
     },
     "execution_count": 110,
     "metadata": {},
     "output_type": "execute_result"
    }
   ],
   "source": [
    "df.head()"
   ]
  },
  {
   "cell_type": "code",
   "execution_count": null,
   "metadata": {
    "ExecuteTime": {
     "start_time": "2021-06-05T02:29:51.803Z"
    }
   },
   "outputs": [],
   "source": [
    "df.to_csv(\"bigdatita/Aire_cdmx/Aire_cdmx.csv\",index=False)"
   ]
  }
 ],
 "metadata": {
  "kernelspec": {
   "display_name": "env",
   "language": "python",
   "name": "env"
  },
  "language_info": {
   "codemirror_mode": {
    "name": "ipython",
    "version": 3
   },
   "file_extension": ".py",
   "mimetype": "text/x-python",
   "name": "python",
   "nbconvert_exporter": "python",
   "pygments_lexer": "ipython3",
   "version": "3.7.3"
  },
  "toc": {
   "base_numbering": 1,
   "nav_menu": {},
   "number_sections": true,
   "sideBar": true,
   "skip_h1_title": false,
   "title_cell": "Table of Contents",
   "title_sidebar": "Contents",
   "toc_cell": false,
   "toc_position": {},
   "toc_section_display": true,
   "toc_window_display": false
  }
 },
 "nbformat": 4,
 "nbformat_minor": 4
}
