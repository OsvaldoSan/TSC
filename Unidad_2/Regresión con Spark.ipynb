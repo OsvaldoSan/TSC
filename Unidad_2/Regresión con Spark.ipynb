{
 "cells": [
  {
   "cell_type": "markdown",
   "metadata": {},
   "source": [
    "## Dependencias"
   ]
  },
  {
   "cell_type": "code",
   "execution_count": 45,
   "metadata": {
    "ExecuteTime": {
     "end_time": "2021-05-27T02:09:14.686944Z",
     "start_time": "2021-05-27T02:09:14.683156Z"
    }
   },
   "outputs": [],
   "source": [
    "from pyspark import SparkContext\n",
    "from pyspark.sql import SQLContext,SparkSession\n",
    "from pyspark.sql import functions as F\n",
    "\n",
    "from pyspark.ml.feature import VectorAssembler\n",
    "from pyspark.ml.regression import LinearRegression\n",
    "from pyspark.ml.evaluation import RegressionEvaluator\n",
    "\n",
    "import os\n",
    "import subprocess\n",
    "import numpy as np\n",
    "import pandas as pd\n",
    "\n",
    "import seaborn as sns\n",
    "\n",
    "from functools import reduce\n",
    "from datetime import date\n",
    "\n",
    "import findspark"
   ]
  },
  {
   "cell_type": "markdown",
   "metadata": {},
   "source": [
    "## Lectura de datos"
   ]
  },
  {
   "cell_type": "code",
   "execution_count": 46,
   "metadata": {
    "ExecuteTime": {
     "end_time": "2021-05-27T02:09:14.939316Z",
     "start_time": "2021-05-27T02:09:14.690677Z"
    }
   },
   "outputs": [],
   "source": [
    "tad = pd.read_pickle('Xt.pkl')"
   ]
  },
  {
   "cell_type": "code",
   "execution_count": 47,
   "metadata": {
    "ExecuteTime": {
     "end_time": "2021-05-27T02:09:15.141070Z",
     "start_time": "2021-05-27T02:09:14.940289Z"
    }
   },
   "outputs": [
    {
     "data": {
      "text/plain": [
       "pandas.core.frame.DataFrame"
      ]
     },
     "execution_count": 47,
     "metadata": {},
     "output_type": "execute_result"
    }
   ],
   "source": [
    "type(tad)"
   ]
  },
  {
   "cell_type": "code",
   "execution_count": 48,
   "metadata": {
    "ExecuteTime": {
     "end_time": "2021-05-27T02:09:15.335190Z",
     "start_time": "2021-05-27T02:09:15.148339Z"
    }
   },
   "outputs": [],
   "source": [
    "spark = SparkSession.builder.appName(\"bigdatita\").getOrCreate()"
   ]
  },
  {
   "cell_type": "code",
   "execution_count": 49,
   "metadata": {
    "ExecuteTime": {
     "end_time": "2021-05-27T02:09:15.522150Z",
     "start_time": "2021-05-27T02:09:15.338447Z"
    }
   },
   "outputs": [],
   "source": [
    "df = spark.createDataFrame(tad)"
   ]
  },
  {
   "cell_type": "code",
   "execution_count": 50,
   "metadata": {
    "ExecuteTime": {
     "end_time": "2021-05-27T02:09:15.533594Z",
     "start_time": "2021-05-27T02:09:15.523206Z"
    }
   },
   "outputs": [],
   "source": [
    "df = df.drop('ESTACION','ancla')"
   ]
  },
  {
   "cell_type": "code",
   "execution_count": 51,
   "metadata": {
    "ExecuteTime": {
     "end_time": "2021-05-27T02:09:15.696178Z",
     "start_time": "2021-05-27T02:09:15.534660Z"
    }
   },
   "outputs": [
    {
     "name": "stdout",
     "output_type": "stream",
     "text": [
      "+------------------+-----------------+---------------+------------------+--------------+--------------+-----------------+---------------+------------------+\n",
      "|      CO_x_desv_30|    NO2_x_desv_20|NO2_x_minimo_20|      O3_x_desv_10|O3_x_maximo_30|O3_x_minimo_20|    SO2_x_desv_20|SO2_x_minimo_20|                 y|\n",
      "+------------------+-----------------+---------------+------------------+--------------+--------------+-----------------+---------------+------------------+\n",
      "|0.4541449982334068|13.26256804696009|            6.0|26.755381278360197|         102.0|           0.0|7.653916824425838|            0.0|25.333333333333332|\n",
      "|0.3011073712505642|9.734586620167187|            1.0|20.638525421246108|         110.0|           1.0|3.385170397962881|            0.0|41.958333333333336|\n",
      "+------------------+-----------------+---------------+------------------+--------------+--------------+-----------------+---------------+------------------+\n",
      "only showing top 2 rows\n",
      "\n"
     ]
    }
   ],
   "source": [
    "df.show(2)"
   ]
  },
  {
   "cell_type": "markdown",
   "metadata": {},
   "source": [
    "## Variables"
   ]
  },
  {
   "cell_type": "code",
   "execution_count": 52,
   "metadata": {
    "ExecuteTime": {
     "end_time": "2021-05-27T02:09:15.727601Z",
     "start_time": "2021-05-27T02:09:15.697389Z"
    }
   },
   "outputs": [],
   "source": [
    "var = sorted(tad.filter(like='_x_').columns)"
   ]
  },
  {
   "cell_type": "markdown",
   "metadata": {},
   "source": [
    "## Regresión con MLlib"
   ]
  },
  {
   "cell_type": "markdown",
   "metadata": {},
   "source": [
    "### Vectorización"
   ]
  },
  {
   "cell_type": "code",
   "execution_count": 53,
   "metadata": {
    "ExecuteTime": {
     "end_time": "2021-05-27T02:09:15.837966Z",
     "start_time": "2021-05-27T02:09:15.728989Z"
    }
   },
   "outputs": [],
   "source": [
    "assembler = VectorAssembler(inputCols=var,outputCol='features')"
   ]
  },
  {
   "cell_type": "code",
   "execution_count": 54,
   "metadata": {
    "ExecuteTime": {
     "end_time": "2021-05-27T02:09:15.960819Z",
     "start_time": "2021-05-27T02:09:15.841184Z"
    }
   },
   "outputs": [],
   "source": [
    "v = assembler.transform(df)"
   ]
  },
  {
   "cell_type": "markdown",
   "metadata": {},
   "source": [
    "### Regresión"
   ]
  },
  {
   "cell_type": "code",
   "execution_count": 55,
   "metadata": {
    "ExecuteTime": {
     "end_time": "2021-05-27T02:09:16.042160Z",
     "start_time": "2021-05-27T02:09:15.962093Z"
    }
   },
   "outputs": [],
   "source": [
    "mod = LinearRegression(featuresCol='features',labelCol='y')"
   ]
  },
  {
   "cell_type": "code",
   "execution_count": 56,
   "metadata": {
    "ExecuteTime": {
     "end_time": "2021-05-27T02:09:16.471931Z",
     "start_time": "2021-05-27T02:09:16.044681Z"
    }
   },
   "outputs": [],
   "source": [
    "mod = mod.fit(v)"
   ]
  },
  {
   "cell_type": "code",
   "execution_count": 57,
   "metadata": {
    "ExecuteTime": {
     "end_time": "2021-05-27T02:09:16.480250Z",
     "start_time": "2021-05-27T02:09:16.473268Z"
    }
   },
   "outputs": [
    {
     "name": "stdout",
     "output_type": "stream",
     "text": [
      "Coefficients: [-8.206280887433351,-0.9149990844478887,0.4508611135816686,0.42865940499691785,0.03284174057273983,1.3653983580954356,-0.42426494020808747,-2.373808350126092]\n",
      "Intercept: 26.93698727463204\n"
     ]
    }
   ],
   "source": [
    "print(\"Coefficients: \" + str(mod.coefficients))\n",
    "print(\"Intercept: \" + str(mod.intercept))"
   ]
  },
  {
   "cell_type": "markdown",
   "metadata": {},
   "source": [
    "### Evaluación"
   ]
  },
  {
   "cell_type": "code",
   "execution_count": 58,
   "metadata": {
    "ExecuteTime": {
     "end_time": "2021-05-27T02:09:16.717606Z",
     "start_time": "2021-05-27T02:09:16.481536Z"
    }
   },
   "outputs": [],
   "source": [
    "Xv = spark.createDataFrame(pd.read_pickle('Xv.pkl')).drop('ESTACION','ancla')"
   ]
  },
  {
   "cell_type": "code",
   "execution_count": 59,
   "metadata": {
    "ExecuteTime": {
     "end_time": "2021-05-27T02:09:16.783408Z",
     "start_time": "2021-05-27T02:09:16.718533Z"
    }
   },
   "outputs": [
    {
     "name": "stdout",
     "output_type": "stream",
     "text": [
      "root\n",
      " |-- CO_x_desv_30: double (nullable = true)\n",
      " |-- NO2_x_desv_20: double (nullable = true)\n",
      " |-- NO2_x_minimo_20: double (nullable = true)\n",
      " |-- O3_x_desv_10: double (nullable = true)\n",
      " |-- O3_x_maximo_30: double (nullable = true)\n",
      " |-- O3_x_minimo_20: double (nullable = true)\n",
      " |-- SO2_x_desv_20: double (nullable = true)\n",
      " |-- SO2_x_minimo_20: double (nullable = true)\n",
      " |-- y: double (nullable = true)\n",
      " |-- features: vector (nullable = true)\n",
      "\n"
     ]
    }
   ],
   "source": [
    "Xv = assembler.transform(Xv)\n",
    "Xv.printSchema()"
   ]
  },
  {
   "cell_type": "code",
   "execution_count": 60,
   "metadata": {
    "ExecuteTime": {
     "end_time": "2021-05-27T02:09:17.049357Z",
     "start_time": "2021-05-27T02:09:16.784845Z"
    }
   },
   "outputs": [],
   "source": [
    "ev = RegressionEvaluator(predictionCol='prediction',labelCol='y',metricName='mae')"
   ]
  },
  {
   "cell_type": "code",
   "execution_count": 61,
   "metadata": {
    "ExecuteTime": {
     "end_time": "2021-05-27T02:09:17.323048Z",
     "start_time": "2021-05-27T02:09:17.053053Z"
    }
   },
   "outputs": [
    {
     "data": {
      "text/plain": [
       "5.475177145360918"
      ]
     },
     "execution_count": 61,
     "metadata": {},
     "output_type": "execute_result"
    }
   ],
   "source": [
    "ev.evaluate(mod.transform(v).select('features','y','prediction'))"
   ]
  },
  {
   "cell_type": "code",
   "execution_count": 62,
   "metadata": {
    "ExecuteTime": {
     "end_time": "2021-05-27T02:09:17.517630Z",
     "start_time": "2021-05-27T02:09:17.324145Z"
    }
   },
   "outputs": [
    {
     "data": {
      "text/plain": [
       "5.156807582757976"
      ]
     },
     "execution_count": 62,
     "metadata": {},
     "output_type": "execute_result"
    }
   ],
   "source": [
    "ev.evaluate(mod.transform(Xv).select('features','y','prediction'))"
   ]
  },
  {
   "cell_type": "code",
   "execution_count": null,
   "metadata": {},
   "outputs": [],
   "source": []
  }
 ],
 "metadata": {
  "kernelspec": {
   "display_name": "env",
   "language": "python",
   "name": "env"
  },
  "language_info": {
   "codemirror_mode": {
    "name": "ipython",
    "version": 3
   },
   "file_extension": ".py",
   "mimetype": "text/x-python",
   "name": "python",
   "nbconvert_exporter": "python",
   "pygments_lexer": "ipython3",
   "version": "3.7.3"
  },
  "toc": {
   "base_numbering": 1,
   "nav_menu": {},
   "number_sections": true,
   "sideBar": true,
   "skip_h1_title": false,
   "title_cell": "Table of Contents",
   "title_sidebar": "Contents",
   "toc_cell": false,
   "toc_position": {
    "height": "calc(100% - 180px)",
    "left": "10px",
    "top": "150px",
    "width": "299.2px"
   },
   "toc_section_display": true,
   "toc_window_display": true
  }
 },
 "nbformat": 4,
 "nbformat_minor": 2
}
