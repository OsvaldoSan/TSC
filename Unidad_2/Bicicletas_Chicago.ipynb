{
 "cells": [
  {
   "cell_type": "code",
   "execution_count": 1,
   "metadata": {
    "ExecuteTime": {
     "end_time": "2021-06-15T02:34:50.358878Z",
     "start_time": "2021-06-15T02:34:49.833866Z"
    }
   },
   "outputs": [],
   "source": [
    "import findspark\n",
    "findspark.init('/opt/spark')"
   ]
  },
  {
   "cell_type": "code",
   "execution_count": 2,
   "metadata": {
    "ExecuteTime": {
     "end_time": "2021-06-15T02:34:57.343843Z",
     "start_time": "2021-06-15T02:34:51.735482Z"
    }
   },
   "outputs": [],
   "source": [
    "from pyspark import SparkContext\n",
    "from pyspark.sql import SQLContext,SparkSession\n",
    "from pyspark.sql import functions as F\n",
    "from pyspark.sql.window import Window\n",
    "\n",
    "import os\n",
    "import subprocess\n",
    "import pandas as pd\n",
    "\n",
    "from functools import reduce\n",
    "from datetime import date"
   ]
  },
  {
   "cell_type": "markdown",
   "metadata": {},
   "source": [
    "# Lectura de datos"
   ]
  },
  {
   "cell_type": "code",
   "execution_count": 3,
   "metadata": {
    "ExecuteTime": {
     "end_time": "2021-06-15T02:34:58.208137Z",
     "start_time": "2021-06-15T02:34:58.195419Z"
    }
   },
   "outputs": [],
   "source": [
    "filename=\"hdfs://localhost:9000\"+\"/user/hive/warehouse/Bicicletas/muestra.csv\""
   ]
  },
  {
   "cell_type": "code",
   "execution_count": 4,
   "metadata": {
    "ExecuteTime": {
     "end_time": "2021-06-15T01:10:11.731298Z",
     "start_time": "2021-06-15T01:10:11.657184Z"
    }
   },
   "outputs": [
    {
     "data": {
      "text/plain": [
       "'hdfs://localhost:9000/user/hive/warehouse/Bicicletas/muestra.csv'"
      ]
     },
     "execution_count": 4,
     "metadata": {},
     "output_type": "execute_result"
    }
   ],
   "source": [
    "filename"
   ]
  },
  {
   "cell_type": "code",
   "execution_count": 4,
   "metadata": {
    "ExecuteTime": {
     "end_time": "2021-06-15T02:35:38.561540Z",
     "start_time": "2021-06-15T02:35:00.320811Z"
    }
   },
   "outputs": [],
   "source": [
    "sparkSession = SparkSession.builder.appName(\"bigdatita\").getOrCreate()"
   ]
  },
  {
   "cell_type": "code",
   "execution_count": 6,
   "metadata": {
    "ExecuteTime": {
     "end_time": "2021-06-15T02:39:23.270524Z",
     "start_time": "2021-06-15T02:39:19.164208Z"
    }
   },
   "outputs": [],
   "source": [
    "df = sparkSession.read.csv(filename,inferSchema=False,header=True)"
   ]
  },
  {
   "cell_type": "code",
   "execution_count": 7,
   "metadata": {
    "ExecuteTime": {
     "end_time": "2021-06-15T02:39:25.340293Z",
     "start_time": "2021-06-15T02:39:25.066544Z"
    }
   },
   "outputs": [
    {
     "name": "stdout",
     "output_type": "stream",
     "text": [
      "root\n",
      " |-- trip_id: string (nullable = true)\n",
      " |-- year: string (nullable = true)\n",
      " |-- month: string (nullable = true)\n",
      " |-- week: string (nullable = true)\n",
      " |-- day: string (nullable = true)\n",
      " |-- hour: string (nullable = true)\n",
      " |-- usertype: string (nullable = true)\n",
      " |-- gender: string (nullable = true)\n",
      " |-- starttime: string (nullable = true)\n",
      " |-- stoptime: string (nullable = true)\n",
      " |-- tripduration: string (nullable = true)\n",
      " |-- temperature: string (nullable = true)\n",
      " |-- events: string (nullable = true)\n",
      " |-- from_station_id: string (nullable = true)\n",
      " |-- from_station_name: string (nullable = true)\n",
      " |-- latitude_start: string (nullable = true)\n",
      " |-- longitude_start: string (nullable = true)\n",
      " |-- dpcapacity_start: string (nullable = true)\n",
      " |-- to_station_id: string (nullable = true)\n",
      " |-- to_station_name: string (nullable = true)\n",
      " |-- latitude_end: string (nullable = true)\n",
      " |-- longitude_end: string (nullable = true)\n",
      " |-- dpcapacity_end: string (nullable = true)\n",
      "\n"
     ]
    }
   ],
   "source": [
    "df.printSchema()"
   ]
  },
  {
   "cell_type": "markdown",
   "metadata": {},
   "source": [
    "# Ingeniería de datos"
   ]
  },
  {
   "cell_type": "code",
   "execution_count": 8,
   "metadata": {
    "ExecuteTime": {
     "end_time": "2021-06-15T02:39:30.083523Z",
     "start_time": "2021-06-15T02:39:29.683193Z"
    }
   },
   "outputs": [],
   "source": [
    "aux=df.select(\"year\",\"week\",\"tripduration\",\"from_station_id\",\"to_station_id\")\n",
    "#aux.show(5)"
   ]
  },
  {
   "cell_type": "code",
   "execution_count": 9,
   "metadata": {
    "ExecuteTime": {
     "end_time": "2021-06-15T02:39:30.849436Z",
     "start_time": "2021-06-15T02:39:30.676996Z"
    }
   },
   "outputs": [],
   "source": [
    "aux=aux.withColumn(\"ruta\" ,F.concat_ws(\"|\",\"from_station_id\",\"to_station_id\") )\n",
    "aux=aux.drop(\"from_station_id\",\"to_station_id\")"
   ]
  },
  {
   "cell_type": "code",
   "execution_count": 10,
   "metadata": {
    "ExecuteTime": {
     "end_time": "2021-06-15T02:39:32.498171Z",
     "start_time": "2021-06-15T02:39:31.553140Z"
    }
   },
   "outputs": [],
   "source": [
    "# Catalogo de fechas\n",
    "alfa=aux.select(\"year\",\"week\")\n",
    "alfa=alfa.drop_duplicates()\n",
    "alfa=alfa.withColumn(\"ancla2\",F.concat(\"year\",\"week\"))\n",
    "alfa=alfa.orderBy(\"year\",\"week\")\n",
    "alfa=alfa.drop(\"year\",\"week\")\n",
    "alfa=alfa.withColumn(\"id_fh\",F.row_number().over(Window.orderBy(F.monotonically_increasing_id())))\n",
    "#alfa.show(5)"
   ]
  },
  {
   "cell_type": "code",
   "execution_count": 11,
   "metadata": {
    "ExecuteTime": {
     "end_time": "2021-06-15T02:39:46.324112Z",
     "start_time": "2021-06-15T02:39:34.134461Z"
    }
   },
   "outputs": [],
   "source": [
    "fh_i=1\n",
    "fh_f=alfa.count()"
   ]
  },
  {
   "cell_type": "code",
   "execution_count": 12,
   "metadata": {
    "ExecuteTime": {
     "end_time": "2021-06-15T02:39:49.343933Z",
     "start_time": "2021-06-15T02:39:49.127175Z"
    }
   },
   "outputs": [],
   "source": [
    "aux=aux.withColumn(\"ancla\",F.concat(\"year\",\"week\") ) \n",
    "aux=aux.drop(\"year\",\"week\")"
   ]
  },
  {
   "cell_type": "code",
   "execution_count": 13,
   "metadata": {
    "ExecuteTime": {
     "end_time": "2021-06-15T02:39:50.628333Z",
     "start_time": "2021-06-15T02:39:49.951517Z"
    }
   },
   "outputs": [],
   "source": [
    "aux=aux.join(alfa, aux.ancla == alfa.ancla2, \"inner\")\n",
    "aux=aux.drop(\"ancla2\")"
   ]
  },
  {
   "cell_type": "code",
   "execution_count": 14,
   "metadata": {
    "ExecuteTime": {
     "end_time": "2021-06-15T02:39:52.829172Z",
     "start_time": "2021-06-15T02:39:50.989244Z"
    }
   },
   "outputs": [],
   "source": [
    "aux=aux.withColumn(\"duracion\",F.col(\"tripduration\").cast('double') )\n",
    "aux=aux.drop(\"tripduration\")"
   ]
  },
  {
   "cell_type": "code",
   "execution_count": 15,
   "metadata": {
    "ExecuteTime": {
     "end_time": "2021-06-15T02:39:54.277833Z",
     "start_time": "2021-06-15T02:39:54.127588Z"
    }
   },
   "outputs": [],
   "source": [
    "aux=aux.withColumn(\"viaje\",F.lit(1))"
   ]
  },
  {
   "cell_type": "code",
   "execution_count": 16,
   "metadata": {
    "ExecuteTime": {
     "end_time": "2021-06-15T02:40:19.584434Z",
     "start_time": "2021-06-15T02:39:59.598795Z"
    }
   },
   "outputs": [
    {
     "name": "stdout",
     "output_type": "stream",
     "text": [
      "+-------+------+-----+------------------+-----+\n",
      "|   ruta| ancla|id_fh|          duracion|viaje|\n",
      "+-------+------+-----+------------------+-----+\n",
      "|337|175|201427|   20|18.966666666666665|    1|\n",
      "|140|212|201427|   20|               5.8|    1|\n",
      "|  23|94|201427|   20|             10.45|    1|\n",
      "| 47|287|201427|   20| 8.983333333333333|    1|\n",
      "| 210|61|201427|   20|              3.55|    1|\n",
      "+-------+------+-----+------------------+-----+\n",
      "only showing top 5 rows\n",
      "\n"
     ]
    }
   ],
   "source": [
    "#aux.show(5)"
   ]
  },
  {
   "cell_type": "code",
   "execution_count": 17,
   "metadata": {
    "ExecuteTime": {
     "end_time": "2021-06-15T02:40:24.156812Z",
     "start_time": "2021-06-15T02:40:23.994458Z"
    }
   },
   "outputs": [
    {
     "data": {
      "text/plain": [
       "(12, 209)"
      ]
     },
     "execution_count": 17,
     "metadata": {},
     "output_type": "execute_result"
    }
   ],
   "source": [
    "vobs=12\n",
    "vdes=1\n",
    "step=3\n",
    "anclai,anclaf=fh_i+vobs-1,fh_f-vdes # Cada ancal es una semana\n",
    "anclai,anclaf"
   ]
  },
  {
   "cell_type": "code",
   "execution_count": 18,
   "metadata": {
    "ExecuteTime": {
     "end_time": "2021-06-15T02:40:28.077833Z",
     "start_time": "2021-06-15T02:40:28.008929Z"
    }
   },
   "outputs": [],
   "source": [
    "df=aux.drop(\"ancla\")\n",
    "um=['ruta','id_fh']\n",
    "df.show(5)"
   ]
  },
  {
   "cell_type": "code",
   "execution_count": 19,
   "metadata": {
    "ExecuteTime": {
     "end_time": "2021-06-15T02:40:32.660505Z",
     "start_time": "2021-06-15T02:40:32.616648Z"
    }
   },
   "outputs": [],
   "source": [
    "def ing(df,k,ancla):\n",
    "    u=df.filter( ( df['id_fh']>= (ancla-k+1) ) & (df['id_fh']<=ancla) ).orderBy(\"id_fh\")\n",
    "    expr = [F.sum(F.col('viaje')).alias(f'x_num_tot_viajes_{k}')]\n",
    "    expr.append(F.mean(F.col('duracion')).alias(f'x_duracion_prom_viaje_{k}'))\n",
    "    u = u.groupBy('ruta').agg(*expr).withColumn('id_fh',F.lit(ancla))\n",
    "    return u"
   ]
  },
  {
   "cell_type": "code",
   "execution_count": 20,
   "metadata": {
    "ExecuteTime": {
     "end_time": "2021-06-15T02:40:34.166595Z",
     "start_time": "2021-06-15T02:40:34.137954Z"
    }
   },
   "outputs": [],
   "source": [
    "def ing_tgt(df,ancla):\n",
    "    u=df.filter( df['id_fh']== ancla + 1 ).orderBy(\"id_fh\")\n",
    "    expr = [F.sum(F.col('viaje')).alias('prediccion')]\n",
    "    \n",
    "    u = u.groupBy('ruta').agg(*expr).withColumn('id_fh',F.lit(ancla))\n",
    "    return u"
   ]
  },
  {
   "cell_type": "code",
   "execution_count": 21,
   "metadata": {
    "ExecuteTime": {
     "end_time": "2021-06-15T02:41:28.489964Z",
     "start_time": "2021-06-15T02:41:14.703377Z"
    }
   },
   "outputs": [],
   "source": [
    "anclaf=23\n",
    "step=3\n",
    "u= reduce(lambda x,y:x.union(y),map(lambda ancla:reduce(lambda x,y:x.join(y,um,'outer'),\n",
    "                       map(lambda k:ing(df,k,ancla),\n",
    "                           range(step,vobs+step,step)) ).join(ing_tgt(df,ancla),um,how='inner'),\n",
    "                                    range(anclai,anclaf+1)))"
   ]
  },
  {
   "cell_type": "code",
   "execution_count": 23,
   "metadata": {
    "ExecuteTime": {
     "end_time": "2021-06-15T02:41:46.240222Z",
     "start_time": "2021-06-15T02:41:46.217405Z"
    }
   },
   "outputs": [
    {
     "name": "stdout",
     "output_type": "stream",
     "text": [
      "root\n",
      " |-- ruta: string (nullable = true)\n",
      " |-- id_fh: integer (nullable = true)\n",
      " |-- x_num_tot_viajes_3: long (nullable = true)\n",
      " |-- x_duracion_prom_viaje_3: double (nullable = true)\n",
      " |-- x_num_tot_viajes_6: long (nullable = true)\n",
      " |-- x_duracion_prom_viaje_6: double (nullable = true)\n",
      " |-- x_num_tot_viajes_9: long (nullable = true)\n",
      " |-- x_duracion_prom_viaje_9: double (nullable = true)\n",
      " |-- x_num_tot_viajes_12: long (nullable = true)\n",
      " |-- x_duracion_prom_viaje_12: double (nullable = true)\n",
      " |-- prediccion: long (nullable = true)\n",
      "\n"
     ]
    }
   ],
   "source": [
    "u.printSchema()"
   ]
  },
  {
   "cell_type": "code",
   "execution_count": 25,
   "metadata": {
    "ExecuteTime": {
     "end_time": "2021-06-15T02:42:27.109910Z",
     "start_time": "2021-06-15T02:42:26.837773Z"
    }
   },
   "outputs": [],
   "source": [
    "tad=u.join(alfa,'id_fh',\"inner\")"
   ]
  },
  {
   "cell_type": "code",
   "execution_count": 27,
   "metadata": {
    "ExecuteTime": {
     "end_time": "2021-06-15T02:42:53.580106Z",
     "start_time": "2021-06-15T02:42:53.462795Z"
    }
   },
   "outputs": [],
   "source": [
    "tad=tad.withColumnRenamed('ancla2','ancla')"
   ]
  },
  {
   "cell_type": "code",
   "execution_count": 28,
   "metadata": {
    "ExecuteTime": {
     "end_time": "2021-06-15T02:43:00.326091Z",
     "start_time": "2021-06-15T02:43:00.312709Z"
    }
   },
   "outputs": [
    {
     "name": "stdout",
     "output_type": "stream",
     "text": [
      "root\n",
      " |-- id_fh: integer (nullable = true)\n",
      " |-- ruta: string (nullable = true)\n",
      " |-- x_num_tot_viajes_3: long (nullable = true)\n",
      " |-- x_duracion_prom_viaje_3: double (nullable = true)\n",
      " |-- x_num_tot_viajes_6: long (nullable = true)\n",
      " |-- x_duracion_prom_viaje_6: double (nullable = true)\n",
      " |-- x_num_tot_viajes_9: long (nullable = true)\n",
      " |-- x_duracion_prom_viaje_9: double (nullable = true)\n",
      " |-- x_num_tot_viajes_12: long (nullable = true)\n",
      " |-- x_duracion_prom_viaje_12: double (nullable = true)\n",
      " |-- prediccion: long (nullable = true)\n",
      " |-- ancla: string (nullable = true)\n",
      "\n"
     ]
    }
   ],
   "source": [
    "tad.printSchema()"
   ]
  },
  {
   "cell_type": "code",
   "execution_count": 29,
   "metadata": {
    "ExecuteTime": {
     "end_time": "2021-06-15T02:43:19.834424Z",
     "start_time": "2021-06-15T02:43:19.608043Z"
    }
   },
   "outputs": [],
   "source": [
    "tad=tad.select('ruta','ancla','x_num_tot_viajes_3','x_num_tot_viajes_6','x_num_tot_viajes_9',\n",
    "           'x_num_tot_viajes_12','x_duracion_prom_viaje_3','x_duracion_prom_viaje_6',\n",
    "           'x_duracion_prom_viaje_9','x_duracion_prom_viaje_12','prediccion')"
   ]
  },
  {
   "cell_type": "code",
   "execution_count": 31,
   "metadata": {
    "ExecuteTime": {
     "end_time": "2021-06-15T02:43:24.794415Z",
     "start_time": "2021-06-15T02:43:24.758104Z"
    }
   },
   "outputs": [
    {
     "name": "stdout",
     "output_type": "stream",
     "text": [
      "root\n",
      " |-- ruta: string (nullable = true)\n",
      " |-- ancla: string (nullable = true)\n",
      " |-- x_num_tot_viajes_3: long (nullable = true)\n",
      " |-- x_num_tot_viajes_6: long (nullable = true)\n",
      " |-- x_num_tot_viajes_9: long (nullable = true)\n",
      " |-- x_num_tot_viajes_12: long (nullable = true)\n",
      " |-- x_duracion_prom_viaje_3: double (nullable = true)\n",
      " |-- x_duracion_prom_viaje_6: double (nullable = true)\n",
      " |-- x_duracion_prom_viaje_9: double (nullable = true)\n",
      " |-- x_duracion_prom_viaje_12: double (nullable = true)\n",
      " |-- prediccion: long (nullable = true)\n",
      "\n"
     ]
    }
   ],
   "source": [
    "tad.printSchema()"
   ]
  },
  {
   "cell_type": "code",
   "execution_count": 32,
   "metadata": {
    "ExecuteTime": {
     "end_time": "2021-06-15T02:53:23.046256Z",
     "start_time": "2021-06-15T02:43:37.487514Z"
    }
   },
   "outputs": [
    {
     "name": "stdout",
     "output_type": "stream",
     "text": [
      "+-------+------+------------------+------------------+------------------+-------------------+-----------------------+-----------------------+-----------------------+------------------------+----------+\n",
      "|   ruta| ancla|x_num_tot_viajes_3|x_num_tot_viajes_6|x_num_tot_viajes_9|x_num_tot_viajes_12|x_duracion_prom_viaje_3|x_duracion_prom_viaje_6|x_duracion_prom_viaje_9|x_duracion_prom_viaje_12|prediccion|\n",
      "+-------+------+------------------+------------------+------------------+-------------------+-----------------------+-----------------------+-----------------------+------------------------+----------+\n",
      "|287|289|201421|                 1|                 1|                 1|                  1|      22.18333333333333|      22.18333333333333|      22.18333333333333|       22.18333333333333|         1|\n",
      "| 91|195|201421|                 1|                 1|                 1|                  1|                   19.5|                   19.5|                   19.5|                    19.5|         1|\n",
      "|268|334|201422|              null|              null|              null|                  1|                   null|                   null|                   null|      12.916666666666664|         1|\n",
      "|111|110|201424|              null|              null|                 1|                  1|                   null|                   null|      6.966666666666668|       6.966666666666668|         1|\n",
      "|164|301|201424|              null|                 1|                 1|                  1|                   null|     11.833333333333336|     11.833333333333336|      11.833333333333336|         1|\n",
      "| 91|195|201424|                 1|                 2|                 2|                  2|      8.566666666666666|     14.033333333333333|     14.033333333333333|      14.033333333333333|         1|\n",
      "| 217|77|201425|              null|              null|              null|                  1|                   null|                   null|                   null|      6.5166666666666675|         1|\n",
      "| 199|26|201425|              null|                 1|                 1|                  1|                   null|                   6.45|                   6.45|                    6.45|         1|\n",
      "|  66|75|201427|              null|                 1|                 1|                  1|                   null|      5.066666666666666|      5.066666666666666|       5.066666666666666|         1|\n",
      "| 43|192|201427|              null|              null|                 1|                  1|                   null|                   null|                   8.55|                    8.55|         1|\n",
      "|240|306|201427|                 1|                 1|                 1|                  1|      2.333333333333333|      2.333333333333333|      2.333333333333333|       2.333333333333333|         1|\n",
      "|219|130|201428|              null|                 1|                 1|                  1|                   null|                    5.4|                    5.4|                     5.4|         1|\n",
      "|295|325|201429|              null|              null|              null|                  1|                   null|                   null|                   null|       5.366666666666666|         1|\n",
      "+-------+------+------------------+------------------+------------------+-------------------+-----------------------+-----------------------+-----------------------+------------------------+----------+\n",
      "\n"
     ]
    }
   ],
   "source": [
    "tad.show()"
   ]
  },
  {
   "cell_type": "code",
   "execution_count": 35,
   "metadata": {
    "ExecuteTime": {
     "end_time": "2021-06-15T03:19:28.686287Z",
     "start_time": "2021-06-15T03:09:59.965375Z"
    }
   },
   "outputs": [],
   "source": [
    "tad.toPandas().to_csv('mycsv.csv')"
   ]
  }
 ],
 "metadata": {
  "kernelspec": {
   "display_name": "env",
   "language": "python",
   "name": "env"
  },
  "language_info": {
   "codemirror_mode": {
    "name": "ipython",
    "version": 3
   },
   "file_extension": ".py",
   "mimetype": "text/x-python",
   "name": "python",
   "nbconvert_exporter": "python",
   "pygments_lexer": "ipython3",
   "version": "3.7.3"
  },
  "notify_time": "10",
  "toc": {
   "base_numbering": 1,
   "nav_menu": {},
   "number_sections": true,
   "sideBar": true,
   "skip_h1_title": false,
   "title_cell": "Table of Contents",
   "title_sidebar": "Contents",
   "toc_cell": false,
   "toc_position": {},
   "toc_section_display": true,
   "toc_window_display": true
  }
 },
 "nbformat": 4,
 "nbformat_minor": 4
}
