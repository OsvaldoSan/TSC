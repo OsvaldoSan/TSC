{
 "cells": [
  {
   "cell_type": "markdown",
   "metadata": {},
   "source": [
    "## Dependencias"
   ]
  },
  {
   "cell_type": "code",
   "execution_count": 117,
   "metadata": {
    "ExecuteTime": {
     "end_time": "2021-05-27T02:08:44.368333Z",
     "start_time": "2021-05-27T02:08:44.364862Z"
    }
   },
   "outputs": [],
   "source": [
    "from pyspark import SparkContext\n",
    "from pyspark.sql import SQLContext,SparkSession\n",
    "from pyspark.sql import functions as F\n",
    "\n",
    "import os\n",
    "import subprocess\n",
    "import numpy as np\n",
    "import pandas as pd\n",
    "\n",
    "import seaborn as sns\n",
    "\n",
    "from functools import reduce\n",
    "from datetime import date\n",
    "\n",
    "import findspark"
   ]
  },
  {
   "cell_type": "markdown",
   "metadata": {},
   "source": [
    "## Lectura de datos"
   ]
  },
  {
   "cell_type": "code",
   "execution_count": 118,
   "metadata": {
    "ExecuteTime": {
     "end_time": "2021-05-27T02:08:44.586028Z",
     "start_time": "2021-05-27T02:08:44.374497Z"
    }
   },
   "outputs": [],
   "source": [
    "df = pd.read_pickle('tad_aire.pkl')"
   ]
  },
  {
   "cell_type": "code",
   "execution_count": 119,
   "metadata": {
    "ExecuteTime": {
     "end_time": "2021-05-27T02:08:44.829042Z",
     "start_time": "2021-05-27T02:08:44.590321Z"
    }
   },
   "outputs": [
    {
     "data": {
      "text/plain": [
       "(1715, 111)"
      ]
     },
     "execution_count": 119,
     "metadata": {},
     "output_type": "execute_result"
    }
   ],
   "source": [
    "df = df.loc[~df['y'].isnull()].reset_index(drop=True)\n",
    "df.shape"
   ]
  },
  {
   "cell_type": "code",
   "execution_count": 120,
   "metadata": {
    "ExecuteTime": {
     "end_time": "2021-05-27T02:08:44.980673Z",
     "start_time": "2021-05-27T02:08:44.833488Z"
    }
   },
   "outputs": [
    {
     "data": {
      "text/html": [
       "<div>\n",
       "<style scoped>\n",
       "    .dataframe tbody tr th:only-of-type {\n",
       "        vertical-align: middle;\n",
       "    }\n",
       "\n",
       "    .dataframe tbody tr th {\n",
       "        vertical-align: top;\n",
       "    }\n",
       "\n",
       "    .dataframe thead th {\n",
       "        text-align: right;\n",
       "    }\n",
       "</style>\n",
       "<table border=\"1\" class=\"dataframe\">\n",
       "  <thead>\n",
       "    <tr style=\"text-align: right;\">\n",
       "      <th></th>\n",
       "      <th>ESTACION</th>\n",
       "      <th>ancla</th>\n",
       "      <th>CO_x_minimo_10</th>\n",
       "      <th>CO_x_maximo_10</th>\n",
       "      <th>CO_x_media_10</th>\n",
       "      <th>CO_x_desv_10</th>\n",
       "      <th>NO_x_minimo_10</th>\n",
       "      <th>NO_x_maximo_10</th>\n",
       "      <th>NO_x_media_10</th>\n",
       "      <th>NO_x_desv_10</th>\n",
       "      <th>...</th>\n",
       "      <th>PM25_x_desv_30</th>\n",
       "      <th>PMCO_x_minimo_30</th>\n",
       "      <th>PMCO_x_maximo_30</th>\n",
       "      <th>PMCO_x_media_30</th>\n",
       "      <th>PMCO_x_desv_30</th>\n",
       "      <th>SO2_x_minimo_30</th>\n",
       "      <th>SO2_x_maximo_30</th>\n",
       "      <th>SO2_x_media_30</th>\n",
       "      <th>SO2_x_desv_30</th>\n",
       "      <th>y</th>\n",
       "    </tr>\n",
       "  </thead>\n",
       "  <tbody>\n",
       "    <tr>\n",
       "      <th>0</th>\n",
       "      <td>SAG</td>\n",
       "      <td>3977</td>\n",
       "      <td>0.0</td>\n",
       "      <td>2.0</td>\n",
       "      <td>0.418103</td>\n",
       "      <td>0.300389</td>\n",
       "      <td>1.0</td>\n",
       "      <td>178.0</td>\n",
       "      <td>14.831897</td>\n",
       "      <td>23.742709</td>\n",
       "      <td>...</td>\n",
       "      <td>13.210507</td>\n",
       "      <td>4.0</td>\n",
       "      <td>175.0</td>\n",
       "      <td>38.13093</td>\n",
       "      <td>19.44046</td>\n",
       "      <td>1.0</td>\n",
       "      <td>109.0</td>\n",
       "      <td>4.057803</td>\n",
       "      <td>6.807428</td>\n",
       "      <td>14.095238</td>\n",
       "    </tr>\n",
       "    <tr>\n",
       "      <th>1</th>\n",
       "      <td>FAR</td>\n",
       "      <td>3977</td>\n",
       "      <td>0.0</td>\n",
       "      <td>1.0</td>\n",
       "      <td>0.281435</td>\n",
       "      <td>0.185928</td>\n",
       "      <td>NaN</td>\n",
       "      <td>NaN</td>\n",
       "      <td>NaN</td>\n",
       "      <td>NaN</td>\n",
       "      <td>...</td>\n",
       "      <td>9.985451</td>\n",
       "      <td>NaN</td>\n",
       "      <td>NaN</td>\n",
       "      <td>NaN</td>\n",
       "      <td>NaN</td>\n",
       "      <td>0.0</td>\n",
       "      <td>46.0</td>\n",
       "      <td>2.893895</td>\n",
       "      <td>4.974938</td>\n",
       "      <td>21.857143</td>\n",
       "    </tr>\n",
       "    <tr>\n",
       "      <th>2</th>\n",
       "      <td>CCA</td>\n",
       "      <td>3977</td>\n",
       "      <td>0.0</td>\n",
       "      <td>1.0</td>\n",
       "      <td>0.259916</td>\n",
       "      <td>0.209410</td>\n",
       "      <td>0.0</td>\n",
       "      <td>69.0</td>\n",
       "      <td>5.455696</td>\n",
       "      <td>10.221443</td>\n",
       "      <td>...</td>\n",
       "      <td>8.750728</td>\n",
       "      <td>NaN</td>\n",
       "      <td>NaN</td>\n",
       "      <td>NaN</td>\n",
       "      <td>NaN</td>\n",
       "      <td>1.0</td>\n",
       "      <td>64.0</td>\n",
       "      <td>4.987124</td>\n",
       "      <td>7.552005</td>\n",
       "      <td>21.000000</td>\n",
       "    </tr>\n",
       "    <tr>\n",
       "      <th>3</th>\n",
       "      <td>MPA</td>\n",
       "      <td>3977</td>\n",
       "      <td>0.0</td>\n",
       "      <td>0.4</td>\n",
       "      <td>0.150427</td>\n",
       "      <td>0.118737</td>\n",
       "      <td>NaN</td>\n",
       "      <td>NaN</td>\n",
       "      <td>NaN</td>\n",
       "      <td>NaN</td>\n",
       "      <td>...</td>\n",
       "      <td>NaN</td>\n",
       "      <td>NaN</td>\n",
       "      <td>NaN</td>\n",
       "      <td>NaN</td>\n",
       "      <td>NaN</td>\n",
       "      <td>0.0</td>\n",
       "      <td>26.0</td>\n",
       "      <td>2.737518</td>\n",
       "      <td>3.058875</td>\n",
       "      <td>23.619048</td>\n",
       "    </tr>\n",
       "    <tr>\n",
       "      <th>4</th>\n",
       "      <td>VIF</td>\n",
       "      <td>3977</td>\n",
       "      <td>0.0</td>\n",
       "      <td>2.1</td>\n",
       "      <td>0.417797</td>\n",
       "      <td>0.375218</td>\n",
       "      <td>0.0</td>\n",
       "      <td>126.0</td>\n",
       "      <td>14.355932</td>\n",
       "      <td>23.787186</td>\n",
       "      <td>...</td>\n",
       "      <td>NaN</td>\n",
       "      <td>NaN</td>\n",
       "      <td>NaN</td>\n",
       "      <td>NaN</td>\n",
       "      <td>NaN</td>\n",
       "      <td>0.0</td>\n",
       "      <td>95.0</td>\n",
       "      <td>5.962963</td>\n",
       "      <td>10.884102</td>\n",
       "      <td>17.761905</td>\n",
       "    </tr>\n",
       "  </tbody>\n",
       "</table>\n",
       "<p>5 rows × 111 columns</p>\n",
       "</div>"
      ],
      "text/plain": [
       "  ESTACION  ancla  CO_x_minimo_10  CO_x_maximo_10  CO_x_media_10  \\\n",
       "0      SAG   3977             0.0             2.0       0.418103   \n",
       "1      FAR   3977             0.0             1.0       0.281435   \n",
       "2      CCA   3977             0.0             1.0       0.259916   \n",
       "3      MPA   3977             0.0             0.4       0.150427   \n",
       "4      VIF   3977             0.0             2.1       0.417797   \n",
       "\n",
       "   CO_x_desv_10  NO_x_minimo_10  NO_x_maximo_10  NO_x_media_10  NO_x_desv_10  \\\n",
       "0      0.300389             1.0           178.0      14.831897     23.742709   \n",
       "1      0.185928             NaN             NaN            NaN           NaN   \n",
       "2      0.209410             0.0            69.0       5.455696     10.221443   \n",
       "3      0.118737             NaN             NaN            NaN           NaN   \n",
       "4      0.375218             0.0           126.0      14.355932     23.787186   \n",
       "\n",
       "   ...  PM25_x_desv_30  PMCO_x_minimo_30  PMCO_x_maximo_30  PMCO_x_media_30  \\\n",
       "0  ...       13.210507               4.0             175.0         38.13093   \n",
       "1  ...        9.985451               NaN               NaN              NaN   \n",
       "2  ...        8.750728               NaN               NaN              NaN   \n",
       "3  ...             NaN               NaN               NaN              NaN   \n",
       "4  ...             NaN               NaN               NaN              NaN   \n",
       "\n",
       "   PMCO_x_desv_30  SO2_x_minimo_30  SO2_x_maximo_30  SO2_x_media_30  \\\n",
       "0        19.44046              1.0            109.0        4.057803   \n",
       "1             NaN              0.0             46.0        2.893895   \n",
       "2             NaN              1.0             64.0        4.987124   \n",
       "3             NaN              0.0             26.0        2.737518   \n",
       "4             NaN              0.0             95.0        5.962963   \n",
       "\n",
       "   SO2_x_desv_30          y  \n",
       "0       6.807428  14.095238  \n",
       "1       4.974938  21.857143  \n",
       "2       7.552005  21.000000  \n",
       "3       3.058875  23.619048  \n",
       "4      10.884102  17.761905  \n",
       "\n",
       "[5 rows x 111 columns]"
      ]
     },
     "execution_count": 120,
     "metadata": {},
     "output_type": "execute_result"
    }
   ],
   "source": [
    "df.head()"
   ]
  },
  {
   "cell_type": "markdown",
   "metadata": {},
   "source": [
    "## Definir variables"
   ]
  },
  {
   "cell_type": "code",
   "execution_count": 121,
   "metadata": {
    "ExecuteTime": {
     "end_time": "2021-05-27T02:08:45.085126Z",
     "start_time": "2021-05-27T02:08:44.982074Z"
    }
   },
   "outputs": [],
   "source": [
    "um = ['ESTACION','ancla']\n",
    "var = sorted(df.filter(like='_x_').columns)\n",
    "tgt = ['y']"
   ]
  },
  {
   "cell_type": "markdown",
   "metadata": {},
   "source": [
    "## Ausentes"
   ]
  },
  {
   "cell_type": "markdown",
   "metadata": {},
   "source": [
    "### Cuantificación de ausentes"
   ]
  },
  {
   "cell_type": "code",
   "execution_count": 122,
   "metadata": {
    "ExecuteTime": {
     "end_time": "2021-05-27T02:08:45.338972Z",
     "start_time": "2021-05-27T02:08:45.086240Z"
    }
   },
   "outputs": [
    {
     "data": {
      "text/html": [
       "<div>\n",
       "<style scoped>\n",
       "    .dataframe tbody tr th:only-of-type {\n",
       "        vertical-align: middle;\n",
       "    }\n",
       "\n",
       "    .dataframe tbody tr th {\n",
       "        vertical-align: top;\n",
       "    }\n",
       "\n",
       "    .dataframe thead th {\n",
       "        text-align: right;\n",
       "    }\n",
       "</style>\n",
       "<table border=\"1\" class=\"dataframe\">\n",
       "  <thead>\n",
       "    <tr style=\"text-align: right;\">\n",
       "      <th></th>\n",
       "      <th>count</th>\n",
       "    </tr>\n",
       "  </thead>\n",
       "  <tbody>\n",
       "    <tr>\n",
       "      <th>PMCO_x_minimo_10</th>\n",
       "      <td>0.629738</td>\n",
       "    </tr>\n",
       "    <tr>\n",
       "      <th>PMCO_x_desv_10</th>\n",
       "      <td>0.629738</td>\n",
       "    </tr>\n",
       "    <tr>\n",
       "      <th>PMCO_x_media_10</th>\n",
       "      <td>0.629738</td>\n",
       "    </tr>\n",
       "    <tr>\n",
       "      <th>PMCO_x_maximo_10</th>\n",
       "      <td>0.629738</td>\n",
       "    </tr>\n",
       "    <tr>\n",
       "      <th>PMCO_x_minimo_20</th>\n",
       "      <td>0.618076</td>\n",
       "    </tr>\n",
       "    <tr>\n",
       "      <th>...</th>\n",
       "      <td>...</td>\n",
       "    </tr>\n",
       "    <tr>\n",
       "      <th>O3_x_media_20</th>\n",
       "      <td>0.000000</td>\n",
       "    </tr>\n",
       "    <tr>\n",
       "      <th>O3_x_maximo_30</th>\n",
       "      <td>0.000000</td>\n",
       "    </tr>\n",
       "    <tr>\n",
       "      <th>O3_x_maximo_20</th>\n",
       "      <td>0.000000</td>\n",
       "    </tr>\n",
       "    <tr>\n",
       "      <th>O3_x_desv_30</th>\n",
       "      <td>0.000000</td>\n",
       "    </tr>\n",
       "    <tr>\n",
       "      <th>O3_x_desv_20</th>\n",
       "      <td>0.000000</td>\n",
       "    </tr>\n",
       "  </tbody>\n",
       "</table>\n",
       "<p>108 rows × 1 columns</p>\n",
       "</div>"
      ],
      "text/plain": [
       "                     count\n",
       "PMCO_x_minimo_10  0.629738\n",
       "PMCO_x_desv_10    0.629738\n",
       "PMCO_x_media_10   0.629738\n",
       "PMCO_x_maximo_10  0.629738\n",
       "PMCO_x_minimo_20  0.618076\n",
       "...                    ...\n",
       "O3_x_media_20     0.000000\n",
       "O3_x_maximo_30    0.000000\n",
       "O3_x_maximo_20    0.000000\n",
       "O3_x_desv_30      0.000000\n",
       "O3_x_desv_20      0.000000\n",
       "\n",
       "[108 rows x 1 columns]"
      ]
     },
     "execution_count": 122,
     "metadata": {},
     "output_type": "execute_result"
    }
   ],
   "source": [
    "miss = 1-df[var].describe().T[['count']]/len(df)\n",
    "miss = miss.sort_values(by='count',ascending=False)\n",
    "miss"
   ]
  },
  {
   "cell_type": "code",
   "execution_count": 123,
   "metadata": {
    "ExecuteTime": {
     "end_time": "2021-05-27T02:08:45.343571Z",
     "start_time": "2021-05-27T02:08:45.339974Z"
    }
   },
   "outputs": [],
   "source": [
    "fuera = sorted(miss.loc[miss['count']>0.3].index)\n",
    "var = [v for v in var if v not in fuera]\n",
    "df.drop(fuera,axis=1,inplace=True)"
   ]
  },
  {
   "cell_type": "code",
   "execution_count": 124,
   "metadata": {
    "ExecuteTime": {
     "end_time": "2021-05-27T02:08:45.465025Z",
     "start_time": "2021-05-27T02:08:45.344746Z"
    }
   },
   "outputs": [
    {
     "data": {
      "text/html": [
       "<div>\n",
       "<style scoped>\n",
       "    .dataframe tbody tr th:only-of-type {\n",
       "        vertical-align: middle;\n",
       "    }\n",
       "\n",
       "    .dataframe tbody tr th {\n",
       "        vertical-align: top;\n",
       "    }\n",
       "\n",
       "    .dataframe thead th {\n",
       "        text-align: right;\n",
       "    }\n",
       "</style>\n",
       "<table border=\"1\" class=\"dataframe\">\n",
       "  <thead>\n",
       "    <tr style=\"text-align: right;\">\n",
       "      <th></th>\n",
       "      <th>ESTACION</th>\n",
       "      <th>ancla</th>\n",
       "      <th>CO_x_minimo_10</th>\n",
       "      <th>CO_x_maximo_10</th>\n",
       "      <th>CO_x_media_10</th>\n",
       "      <th>CO_x_desv_10</th>\n",
       "      <th>NO_x_minimo_10</th>\n",
       "      <th>NO_x_maximo_10</th>\n",
       "      <th>NO_x_media_10</th>\n",
       "      <th>NO_x_desv_10</th>\n",
       "      <th>...</th>\n",
       "      <th>NOX_x_desv_30</th>\n",
       "      <th>O3_x_minimo_30</th>\n",
       "      <th>O3_x_maximo_30</th>\n",
       "      <th>O3_x_media_30</th>\n",
       "      <th>O3_x_desv_30</th>\n",
       "      <th>SO2_x_minimo_30</th>\n",
       "      <th>SO2_x_maximo_30</th>\n",
       "      <th>SO2_x_media_30</th>\n",
       "      <th>SO2_x_desv_30</th>\n",
       "      <th>y</th>\n",
       "    </tr>\n",
       "  </thead>\n",
       "  <tbody>\n",
       "    <tr>\n",
       "      <th>0</th>\n",
       "      <td>SAG</td>\n",
       "      <td>3977</td>\n",
       "      <td>0.0</td>\n",
       "      <td>2.0</td>\n",
       "      <td>0.418103</td>\n",
       "      <td>0.300389</td>\n",
       "      <td>1.0</td>\n",
       "      <td>178.0</td>\n",
       "      <td>14.831897</td>\n",
       "      <td>23.742709</td>\n",
       "      <td>...</td>\n",
       "      <td>30.165177</td>\n",
       "      <td>0.0</td>\n",
       "      <td>98.0</td>\n",
       "      <td>21.381503</td>\n",
       "      <td>20.675471</td>\n",
       "      <td>1.0</td>\n",
       "      <td>109.0</td>\n",
       "      <td>4.057803</td>\n",
       "      <td>6.807428</td>\n",
       "      <td>14.095238</td>\n",
       "    </tr>\n",
       "    <tr>\n",
       "      <th>1</th>\n",
       "      <td>FAR</td>\n",
       "      <td>3977</td>\n",
       "      <td>0.0</td>\n",
       "      <td>1.0</td>\n",
       "      <td>0.281435</td>\n",
       "      <td>0.185928</td>\n",
       "      <td>NaN</td>\n",
       "      <td>NaN</td>\n",
       "      <td>NaN</td>\n",
       "      <td>NaN</td>\n",
       "      <td>...</td>\n",
       "      <td>NaN</td>\n",
       "      <td>0.0</td>\n",
       "      <td>126.0</td>\n",
       "      <td>32.606557</td>\n",
       "      <td>29.442334</td>\n",
       "      <td>0.0</td>\n",
       "      <td>46.0</td>\n",
       "      <td>2.893895</td>\n",
       "      <td>4.974938</td>\n",
       "      <td>21.857143</td>\n",
       "    </tr>\n",
       "    <tr>\n",
       "      <th>2</th>\n",
       "      <td>CCA</td>\n",
       "      <td>3977</td>\n",
       "      <td>0.0</td>\n",
       "      <td>1.0</td>\n",
       "      <td>0.259916</td>\n",
       "      <td>0.209410</td>\n",
       "      <td>0.0</td>\n",
       "      <td>69.0</td>\n",
       "      <td>5.455696</td>\n",
       "      <td>10.221443</td>\n",
       "      <td>...</td>\n",
       "      <td>16.958058</td>\n",
       "      <td>1.0</td>\n",
       "      <td>159.0</td>\n",
       "      <td>35.177396</td>\n",
       "      <td>31.684286</td>\n",
       "      <td>1.0</td>\n",
       "      <td>64.0</td>\n",
       "      <td>4.987124</td>\n",
       "      <td>7.552005</td>\n",
       "      <td>21.000000</td>\n",
       "    </tr>\n",
       "    <tr>\n",
       "      <th>3</th>\n",
       "      <td>MPA</td>\n",
       "      <td>3977</td>\n",
       "      <td>0.0</td>\n",
       "      <td>0.4</td>\n",
       "      <td>0.150427</td>\n",
       "      <td>0.118737</td>\n",
       "      <td>NaN</td>\n",
       "      <td>NaN</td>\n",
       "      <td>NaN</td>\n",
       "      <td>NaN</td>\n",
       "      <td>...</td>\n",
       "      <td>NaN</td>\n",
       "      <td>2.0</td>\n",
       "      <td>143.0</td>\n",
       "      <td>43.834522</td>\n",
       "      <td>24.923506</td>\n",
       "      <td>0.0</td>\n",
       "      <td>26.0</td>\n",
       "      <td>2.737518</td>\n",
       "      <td>3.058875</td>\n",
       "      <td>23.619048</td>\n",
       "    </tr>\n",
       "    <tr>\n",
       "      <th>4</th>\n",
       "      <td>VIF</td>\n",
       "      <td>3977</td>\n",
       "      <td>0.0</td>\n",
       "      <td>2.1</td>\n",
       "      <td>0.417797</td>\n",
       "      <td>0.375218</td>\n",
       "      <td>0.0</td>\n",
       "      <td>126.0</td>\n",
       "      <td>14.355932</td>\n",
       "      <td>23.787186</td>\n",
       "      <td>...</td>\n",
       "      <td>31.135935</td>\n",
       "      <td>1.0</td>\n",
       "      <td>135.0</td>\n",
       "      <td>27.421652</td>\n",
       "      <td>25.656270</td>\n",
       "      <td>0.0</td>\n",
       "      <td>95.0</td>\n",
       "      <td>5.962963</td>\n",
       "      <td>10.884102</td>\n",
       "      <td>17.761905</td>\n",
       "    </tr>\n",
       "  </tbody>\n",
       "</table>\n",
       "<p>5 rows × 75 columns</p>\n",
       "</div>"
      ],
      "text/plain": [
       "  ESTACION  ancla  CO_x_minimo_10  CO_x_maximo_10  CO_x_media_10  \\\n",
       "0      SAG   3977             0.0             2.0       0.418103   \n",
       "1      FAR   3977             0.0             1.0       0.281435   \n",
       "2      CCA   3977             0.0             1.0       0.259916   \n",
       "3      MPA   3977             0.0             0.4       0.150427   \n",
       "4      VIF   3977             0.0             2.1       0.417797   \n",
       "\n",
       "   CO_x_desv_10  NO_x_minimo_10  NO_x_maximo_10  NO_x_media_10  NO_x_desv_10  \\\n",
       "0      0.300389             1.0           178.0      14.831897     23.742709   \n",
       "1      0.185928             NaN             NaN            NaN           NaN   \n",
       "2      0.209410             0.0            69.0       5.455696     10.221443   \n",
       "3      0.118737             NaN             NaN            NaN           NaN   \n",
       "4      0.375218             0.0           126.0      14.355932     23.787186   \n",
       "\n",
       "   ...  NOX_x_desv_30  O3_x_minimo_30  O3_x_maximo_30  O3_x_media_30  \\\n",
       "0  ...      30.165177             0.0            98.0      21.381503   \n",
       "1  ...            NaN             0.0           126.0      32.606557   \n",
       "2  ...      16.958058             1.0           159.0      35.177396   \n",
       "3  ...            NaN             2.0           143.0      43.834522   \n",
       "4  ...      31.135935             1.0           135.0      27.421652   \n",
       "\n",
       "   O3_x_desv_30  SO2_x_minimo_30  SO2_x_maximo_30  SO2_x_media_30  \\\n",
       "0     20.675471              1.0            109.0        4.057803   \n",
       "1     29.442334              0.0             46.0        2.893895   \n",
       "2     31.684286              1.0             64.0        4.987124   \n",
       "3     24.923506              0.0             26.0        2.737518   \n",
       "4     25.656270              0.0             95.0        5.962963   \n",
       "\n",
       "   SO2_x_desv_30          y  \n",
       "0       6.807428  14.095238  \n",
       "1       4.974938  21.857143  \n",
       "2       7.552005  21.000000  \n",
       "3       3.058875  23.619048  \n",
       "4      10.884102  17.761905  \n",
       "\n",
       "[5 rows x 75 columns]"
      ]
     },
     "execution_count": 124,
     "metadata": {},
     "output_type": "execute_result"
    }
   ],
   "source": [
    "df.head()"
   ]
  },
  {
   "cell_type": "markdown",
   "metadata": {},
   "source": [
    "### Imputación"
   ]
  },
  {
   "cell_type": "code",
   "execution_count": 125,
   "metadata": {
    "ExecuteTime": {
     "end_time": "2021-05-27T02:08:45.619526Z",
     "start_time": "2021-05-27T02:08:45.466023Z"
    }
   },
   "outputs": [],
   "source": [
    "from sklearn.impute import SimpleImputer\n",
    "from scipy.stats import ks_2samp"
   ]
  },
  {
   "cell_type": "code",
   "execution_count": 126,
   "metadata": {
    "ExecuteTime": {
     "end_time": "2021-05-27T02:08:45.733024Z",
     "start_time": "2021-05-27T02:08:45.628378Z"
    }
   },
   "outputs": [],
   "source": [
    "X = df[var].copy()\n",
    "im = SimpleImputer(strategy='mean')\n",
    "im.fit(X)\n",
    "Xi = pd.DataFrame(im.transform(X),columns=var)"
   ]
  },
  {
   "cell_type": "code",
   "execution_count": 127,
   "metadata": {
    "ExecuteTime": {
     "end_time": "2021-05-27T02:08:45.852918Z",
     "start_time": "2021-05-27T02:08:45.734511Z"
    }
   },
   "outputs": [],
   "source": [
    "Xi[um] = df[um]"
   ]
  },
  {
   "cell_type": "code",
   "execution_count": 128,
   "metadata": {
    "ExecuteTime": {
     "end_time": "2021-05-27T02:08:45.961024Z",
     "start_time": "2021-05-27T02:08:45.854396Z"
    }
   },
   "outputs": [
    {
     "data": {
      "text/plain": [
       "((1715, 74), (1182, 72))"
      ]
     },
     "execution_count": 128,
     "metadata": {},
     "output_type": "execute_result"
    }
   ],
   "source": [
    "Xi.dropna().shape,X.dropna().shape"
   ]
  },
  {
   "cell_type": "code",
   "execution_count": 129,
   "metadata": {
    "ExecuteTime": {
     "end_time": "2021-05-27T02:08:46.969733Z",
     "start_time": "2021-05-27T02:08:45.963120Z"
    }
   },
   "outputs": [],
   "source": [
    "ks = pd.DataFrame(map(lambda v:(v,ks_2samp(Xi[v],X[v].dropna()).statistic),var),columns=['var','ks'])"
   ]
  },
  {
   "cell_type": "code",
   "execution_count": 130,
   "metadata": {
    "ExecuteTime": {
     "end_time": "2021-05-27T02:08:46.974263Z",
     "start_time": "2021-05-27T02:08:46.970863Z"
    }
   },
   "outputs": [
    {
     "data": {
      "text/plain": [
       "['CO_x_minimo_20',\n",
       " 'CO_x_minimo_30',\n",
       " 'NOX_x_desv_10',\n",
       " 'NOX_x_desv_20',\n",
       " 'NOX_x_desv_30',\n",
       " 'NOX_x_maximo_10',\n",
       " 'NOX_x_maximo_20',\n",
       " 'NOX_x_maximo_30',\n",
       " 'NOX_x_media_10',\n",
       " 'NOX_x_media_20',\n",
       " 'NOX_x_media_30',\n",
       " 'NOX_x_minimo_10',\n",
       " 'NOX_x_minimo_20',\n",
       " 'NOX_x_minimo_30',\n",
       " 'NO_x_desv_10',\n",
       " 'NO_x_desv_20',\n",
       " 'NO_x_desv_30',\n",
       " 'NO_x_maximo_10',\n",
       " 'NO_x_maximo_20',\n",
       " 'NO_x_maximo_30',\n",
       " 'NO_x_media_10',\n",
       " 'NO_x_media_20',\n",
       " 'NO_x_media_30',\n",
       " 'NO_x_minimo_10',\n",
       " 'NO_x_minimo_20',\n",
       " 'NO_x_minimo_30']"
      ]
     },
     "execution_count": 130,
     "metadata": {},
     "output_type": "execute_result"
    }
   ],
   "source": [
    "rotas = sorted(ks.loc[ks['ks']>0.1]['var'])\n",
    "rotas"
   ]
  },
  {
   "cell_type": "code",
   "execution_count": 131,
   "metadata": {
    "ExecuteTime": {
     "end_time": "2021-05-27T02:08:47.071755Z",
     "start_time": "2021-05-27T02:08:46.975228Z"
    }
   },
   "outputs": [
    {
     "data": {
      "text/plain": [
       "46"
      ]
     },
     "execution_count": 131,
     "metadata": {},
     "output_type": "execute_result"
    }
   ],
   "source": [
    "var = [v for v in var if v not in rotas]\n",
    "len(var)"
   ]
  },
  {
   "cell_type": "code",
   "execution_count": 132,
   "metadata": {
    "ExecuteTime": {
     "end_time": "2021-05-27T02:08:47.170118Z",
     "start_time": "2021-05-27T02:08:47.072835Z"
    }
   },
   "outputs": [],
   "source": [
    "df.drop(rotas,axis=1,inplace=True)"
   ]
  },
  {
   "cell_type": "code",
   "execution_count": 133,
   "metadata": {
    "ExecuteTime": {
     "end_time": "2021-05-27T02:08:47.276319Z",
     "start_time": "2021-05-27T02:08:47.171110Z"
    }
   },
   "outputs": [],
   "source": [
    "X = df[var].copy()\n",
    "im = SimpleImputer(strategy='mean')\n",
    "im.fit(X)\n",
    "Xi = pd.DataFrame(im.transform(X),columns=var)\n",
    "Xi[um] = df[um]"
   ]
  },
  {
   "cell_type": "code",
   "execution_count": 134,
   "metadata": {
    "ExecuteTime": {
     "end_time": "2021-05-27T02:08:47.396791Z",
     "start_time": "2021-05-27T02:08:47.277683Z"
    }
   },
   "outputs": [
    {
     "data": {
      "text/html": [
       "<div>\n",
       "<style scoped>\n",
       "    .dataframe tbody tr th:only-of-type {\n",
       "        vertical-align: middle;\n",
       "    }\n",
       "\n",
       "    .dataframe tbody tr th {\n",
       "        vertical-align: top;\n",
       "    }\n",
       "\n",
       "    .dataframe thead th {\n",
       "        text-align: right;\n",
       "    }\n",
       "</style>\n",
       "<table border=\"1\" class=\"dataframe\">\n",
       "  <thead>\n",
       "    <tr style=\"text-align: right;\">\n",
       "      <th></th>\n",
       "      <th>CO_x_desv_10</th>\n",
       "      <th>CO_x_desv_20</th>\n",
       "      <th>CO_x_desv_30</th>\n",
       "      <th>CO_x_maximo_10</th>\n",
       "      <th>CO_x_maximo_20</th>\n",
       "      <th>CO_x_maximo_30</th>\n",
       "      <th>CO_x_media_10</th>\n",
       "      <th>CO_x_media_20</th>\n",
       "      <th>CO_x_media_30</th>\n",
       "      <th>CO_x_minimo_10</th>\n",
       "      <th>...</th>\n",
       "      <th>SO2_x_maximo_20</th>\n",
       "      <th>SO2_x_maximo_30</th>\n",
       "      <th>SO2_x_media_10</th>\n",
       "      <th>SO2_x_media_20</th>\n",
       "      <th>SO2_x_media_30</th>\n",
       "      <th>SO2_x_minimo_10</th>\n",
       "      <th>SO2_x_minimo_20</th>\n",
       "      <th>SO2_x_minimo_30</th>\n",
       "      <th>ESTACION</th>\n",
       "      <th>ancla</th>\n",
       "    </tr>\n",
       "  </thead>\n",
       "  <tbody>\n",
       "    <tr>\n",
       "      <th>0</th>\n",
       "      <td>0.300389</td>\n",
       "      <td>0.274292</td>\n",
       "      <td>0.295840</td>\n",
       "      <td>2.000000</td>\n",
       "      <td>2.00000</td>\n",
       "      <td>2.000000</td>\n",
       "      <td>0.418103</td>\n",
       "      <td>0.394181</td>\n",
       "      <td>0.402023</td>\n",
       "      <td>0.000000</td>\n",
       "      <td>...</td>\n",
       "      <td>20.000000</td>\n",
       "      <td>109.000000</td>\n",
       "      <td>2.629310</td>\n",
       "      <td>3.331897</td>\n",
       "      <td>4.057803</td>\n",
       "      <td>1.000000</td>\n",
       "      <td>1.000000</td>\n",
       "      <td>1.000000</td>\n",
       "      <td>SAG</td>\n",
       "      <td>3977</td>\n",
       "    </tr>\n",
       "    <tr>\n",
       "      <th>1</th>\n",
       "      <td>0.185928</td>\n",
       "      <td>0.177620</td>\n",
       "      <td>0.179038</td>\n",
       "      <td>1.000000</td>\n",
       "      <td>1.00000</td>\n",
       "      <td>1.000000</td>\n",
       "      <td>0.281435</td>\n",
       "      <td>0.264946</td>\n",
       "      <td>0.276385</td>\n",
       "      <td>0.000000</td>\n",
       "      <td>...</td>\n",
       "      <td>38.000000</td>\n",
       "      <td>46.000000</td>\n",
       "      <td>2.118143</td>\n",
       "      <td>2.391863</td>\n",
       "      <td>2.893895</td>\n",
       "      <td>0.000000</td>\n",
       "      <td>0.000000</td>\n",
       "      <td>0.000000</td>\n",
       "      <td>FAR</td>\n",
       "      <td>3977</td>\n",
       "    </tr>\n",
       "    <tr>\n",
       "      <th>2</th>\n",
       "      <td>0.209410</td>\n",
       "      <td>0.193501</td>\n",
       "      <td>0.198652</td>\n",
       "      <td>1.000000</td>\n",
       "      <td>1.00000</td>\n",
       "      <td>1.100000</td>\n",
       "      <td>0.259916</td>\n",
       "      <td>0.245591</td>\n",
       "      <td>0.248069</td>\n",
       "      <td>0.000000</td>\n",
       "      <td>...</td>\n",
       "      <td>64.000000</td>\n",
       "      <td>64.000000</td>\n",
       "      <td>3.109705</td>\n",
       "      <td>5.137634</td>\n",
       "      <td>4.987124</td>\n",
       "      <td>1.000000</td>\n",
       "      <td>1.000000</td>\n",
       "      <td>1.000000</td>\n",
       "      <td>CCA</td>\n",
       "      <td>3977</td>\n",
       "    </tr>\n",
       "    <tr>\n",
       "      <th>3</th>\n",
       "      <td>0.118737</td>\n",
       "      <td>0.117540</td>\n",
       "      <td>0.116600</td>\n",
       "      <td>0.400000</td>\n",
       "      <td>0.50000</td>\n",
       "      <td>0.600000</td>\n",
       "      <td>0.150427</td>\n",
       "      <td>0.172163</td>\n",
       "      <td>0.163909</td>\n",
       "      <td>0.000000</td>\n",
       "      <td>...</td>\n",
       "      <td>26.000000</td>\n",
       "      <td>26.000000</td>\n",
       "      <td>1.824786</td>\n",
       "      <td>2.657388</td>\n",
       "      <td>2.737518</td>\n",
       "      <td>0.000000</td>\n",
       "      <td>0.000000</td>\n",
       "      <td>0.000000</td>\n",
       "      <td>MPA</td>\n",
       "      <td>3977</td>\n",
       "    </tr>\n",
       "    <tr>\n",
       "      <th>4</th>\n",
       "      <td>0.375218</td>\n",
       "      <td>0.343540</td>\n",
       "      <td>0.339953</td>\n",
       "      <td>2.100000</td>\n",
       "      <td>2.10000</td>\n",
       "      <td>2.100000</td>\n",
       "      <td>0.417797</td>\n",
       "      <td>0.392735</td>\n",
       "      <td>0.422222</td>\n",
       "      <td>0.000000</td>\n",
       "      <td>...</td>\n",
       "      <td>66.000000</td>\n",
       "      <td>95.000000</td>\n",
       "      <td>3.830508</td>\n",
       "      <td>4.942308</td>\n",
       "      <td>5.962963</td>\n",
       "      <td>1.000000</td>\n",
       "      <td>0.000000</td>\n",
       "      <td>0.000000</td>\n",
       "      <td>VIF</td>\n",
       "      <td>3977</td>\n",
       "    </tr>\n",
       "    <tr>\n",
       "      <th>...</th>\n",
       "      <td>...</td>\n",
       "      <td>...</td>\n",
       "      <td>...</td>\n",
       "      <td>...</td>\n",
       "      <td>...</td>\n",
       "      <td>...</td>\n",
       "      <td>...</td>\n",
       "      <td>...</td>\n",
       "      <td>...</td>\n",
       "      <td>...</td>\n",
       "      <td>...</td>\n",
       "      <td>...</td>\n",
       "      <td>...</td>\n",
       "      <td>...</td>\n",
       "      <td>...</td>\n",
       "      <td>...</td>\n",
       "      <td>...</td>\n",
       "      <td>...</td>\n",
       "      <td>...</td>\n",
       "      <td>...</td>\n",
       "      <td>...</td>\n",
       "    </tr>\n",
       "    <tr>\n",
       "      <th>1710</th>\n",
       "      <td>0.355591</td>\n",
       "      <td>0.355502</td>\n",
       "      <td>0.342988</td>\n",
       "      <td>1.810000</td>\n",
       "      <td>2.07000</td>\n",
       "      <td>2.070000</td>\n",
       "      <td>0.484103</td>\n",
       "      <td>0.489784</td>\n",
       "      <td>0.492779</td>\n",
       "      <td>0.040000</td>\n",
       "      <td>...</td>\n",
       "      <td>61.000000</td>\n",
       "      <td>78.000000</td>\n",
       "      <td>3.923077</td>\n",
       "      <td>3.724359</td>\n",
       "      <td>3.880342</td>\n",
       "      <td>0.000000</td>\n",
       "      <td>0.000000</td>\n",
       "      <td>0.000000</td>\n",
       "      <td>FAC</td>\n",
       "      <td>4047</td>\n",
       "    </tr>\n",
       "    <tr>\n",
       "      <th>1711</th>\n",
       "      <td>0.320083</td>\n",
       "      <td>0.322712</td>\n",
       "      <td>0.320059</td>\n",
       "      <td>1.787677</td>\n",
       "      <td>1.96635</td>\n",
       "      <td>2.048284</td>\n",
       "      <td>0.435093</td>\n",
       "      <td>0.430744</td>\n",
       "      <td>0.423156</td>\n",
       "      <td>0.015716</td>\n",
       "      <td>...</td>\n",
       "      <td>46.806431</td>\n",
       "      <td>53.912989</td>\n",
       "      <td>3.747034</td>\n",
       "      <td>3.777653</td>\n",
       "      <td>3.883729</td>\n",
       "      <td>0.393939</td>\n",
       "      <td>0.325347</td>\n",
       "      <td>0.288146</td>\n",
       "      <td>GAM</td>\n",
       "      <td>4047</td>\n",
       "    </tr>\n",
       "    <tr>\n",
       "      <th>1712</th>\n",
       "      <td>0.422847</td>\n",
       "      <td>0.427152</td>\n",
       "      <td>0.424048</td>\n",
       "      <td>2.510000</td>\n",
       "      <td>2.51000</td>\n",
       "      <td>2.510000</td>\n",
       "      <td>0.667456</td>\n",
       "      <td>0.636258</td>\n",
       "      <td>0.609485</td>\n",
       "      <td>0.120000</td>\n",
       "      <td>...</td>\n",
       "      <td>42.000000</td>\n",
       "      <td>42.000000</td>\n",
       "      <td>4.308411</td>\n",
       "      <td>4.120000</td>\n",
       "      <td>3.916667</td>\n",
       "      <td>1.000000</td>\n",
       "      <td>0.000000</td>\n",
       "      <td>0.000000</td>\n",
       "      <td>MER</td>\n",
       "      <td>4047</td>\n",
       "    </tr>\n",
       "    <tr>\n",
       "      <th>1713</th>\n",
       "      <td>0.533611</td>\n",
       "      <td>0.498710</td>\n",
       "      <td>0.497499</td>\n",
       "      <td>3.020000</td>\n",
       "      <td>3.02000</td>\n",
       "      <td>3.350000</td>\n",
       "      <td>0.708711</td>\n",
       "      <td>0.658954</td>\n",
       "      <td>0.648696</td>\n",
       "      <td>0.070000</td>\n",
       "      <td>...</td>\n",
       "      <td>55.000000</td>\n",
       "      <td>55.000000</td>\n",
       "      <td>3.779736</td>\n",
       "      <td>3.227571</td>\n",
       "      <td>2.800872</td>\n",
       "      <td>0.000000</td>\n",
       "      <td>0.000000</td>\n",
       "      <td>0.000000</td>\n",
       "      <td>NEZ</td>\n",
       "      <td>4047</td>\n",
       "    </tr>\n",
       "    <tr>\n",
       "      <th>1714</th>\n",
       "      <td>0.588500</td>\n",
       "      <td>0.552254</td>\n",
       "      <td>0.528922</td>\n",
       "      <td>3.150000</td>\n",
       "      <td>3.34000</td>\n",
       "      <td>3.340000</td>\n",
       "      <td>0.793522</td>\n",
       "      <td>0.731598</td>\n",
       "      <td>0.740215</td>\n",
       "      <td>0.000000</td>\n",
       "      <td>...</td>\n",
       "      <td>42.000000</td>\n",
       "      <td>42.000000</td>\n",
       "      <td>3.221739</td>\n",
       "      <td>3.320879</td>\n",
       "      <td>3.269956</td>\n",
       "      <td>0.000000</td>\n",
       "      <td>0.000000</td>\n",
       "      <td>0.000000</td>\n",
       "      <td>LPR</td>\n",
       "      <td>4047</td>\n",
       "    </tr>\n",
       "  </tbody>\n",
       "</table>\n",
       "<p>1715 rows × 48 columns</p>\n",
       "</div>"
      ],
      "text/plain": [
       "      CO_x_desv_10  CO_x_desv_20  CO_x_desv_30  CO_x_maximo_10  \\\n",
       "0         0.300389      0.274292      0.295840        2.000000   \n",
       "1         0.185928      0.177620      0.179038        1.000000   \n",
       "2         0.209410      0.193501      0.198652        1.000000   \n",
       "3         0.118737      0.117540      0.116600        0.400000   \n",
       "4         0.375218      0.343540      0.339953        2.100000   \n",
       "...            ...           ...           ...             ...   \n",
       "1710      0.355591      0.355502      0.342988        1.810000   \n",
       "1711      0.320083      0.322712      0.320059        1.787677   \n",
       "1712      0.422847      0.427152      0.424048        2.510000   \n",
       "1713      0.533611      0.498710      0.497499        3.020000   \n",
       "1714      0.588500      0.552254      0.528922        3.150000   \n",
       "\n",
       "      CO_x_maximo_20  CO_x_maximo_30  CO_x_media_10  CO_x_media_20  \\\n",
       "0            2.00000        2.000000       0.418103       0.394181   \n",
       "1            1.00000        1.000000       0.281435       0.264946   \n",
       "2            1.00000        1.100000       0.259916       0.245591   \n",
       "3            0.50000        0.600000       0.150427       0.172163   \n",
       "4            2.10000        2.100000       0.417797       0.392735   \n",
       "...              ...             ...            ...            ...   \n",
       "1710         2.07000        2.070000       0.484103       0.489784   \n",
       "1711         1.96635        2.048284       0.435093       0.430744   \n",
       "1712         2.51000        2.510000       0.667456       0.636258   \n",
       "1713         3.02000        3.350000       0.708711       0.658954   \n",
       "1714         3.34000        3.340000       0.793522       0.731598   \n",
       "\n",
       "      CO_x_media_30  CO_x_minimo_10  ...  SO2_x_maximo_20  SO2_x_maximo_30  \\\n",
       "0          0.402023        0.000000  ...        20.000000       109.000000   \n",
       "1          0.276385        0.000000  ...        38.000000        46.000000   \n",
       "2          0.248069        0.000000  ...        64.000000        64.000000   \n",
       "3          0.163909        0.000000  ...        26.000000        26.000000   \n",
       "4          0.422222        0.000000  ...        66.000000        95.000000   \n",
       "...             ...             ...  ...              ...              ...   \n",
       "1710       0.492779        0.040000  ...        61.000000        78.000000   \n",
       "1711       0.423156        0.015716  ...        46.806431        53.912989   \n",
       "1712       0.609485        0.120000  ...        42.000000        42.000000   \n",
       "1713       0.648696        0.070000  ...        55.000000        55.000000   \n",
       "1714       0.740215        0.000000  ...        42.000000        42.000000   \n",
       "\n",
       "      SO2_x_media_10  SO2_x_media_20  SO2_x_media_30  SO2_x_minimo_10  \\\n",
       "0           2.629310        3.331897        4.057803         1.000000   \n",
       "1           2.118143        2.391863        2.893895         0.000000   \n",
       "2           3.109705        5.137634        4.987124         1.000000   \n",
       "3           1.824786        2.657388        2.737518         0.000000   \n",
       "4           3.830508        4.942308        5.962963         1.000000   \n",
       "...              ...             ...             ...              ...   \n",
       "1710        3.923077        3.724359        3.880342         0.000000   \n",
       "1711        3.747034        3.777653        3.883729         0.393939   \n",
       "1712        4.308411        4.120000        3.916667         1.000000   \n",
       "1713        3.779736        3.227571        2.800872         0.000000   \n",
       "1714        3.221739        3.320879        3.269956         0.000000   \n",
       "\n",
       "      SO2_x_minimo_20  SO2_x_minimo_30  ESTACION  ancla  \n",
       "0            1.000000         1.000000       SAG   3977  \n",
       "1            0.000000         0.000000       FAR   3977  \n",
       "2            1.000000         1.000000       CCA   3977  \n",
       "3            0.000000         0.000000       MPA   3977  \n",
       "4            0.000000         0.000000       VIF   3977  \n",
       "...               ...              ...       ...    ...  \n",
       "1710         0.000000         0.000000       FAC   4047  \n",
       "1711         0.325347         0.288146       GAM   4047  \n",
       "1712         0.000000         0.000000       MER   4047  \n",
       "1713         0.000000         0.000000       NEZ   4047  \n",
       "1714         0.000000         0.000000       LPR   4047  \n",
       "\n",
       "[1715 rows x 48 columns]"
      ]
     },
     "execution_count": 134,
     "metadata": {},
     "output_type": "execute_result"
    }
   ],
   "source": [
    "Xi"
   ]
  },
  {
   "cell_type": "markdown",
   "metadata": {},
   "source": [
    "## Varianza cero"
   ]
  },
  {
   "cell_type": "code",
   "execution_count": 135,
   "metadata": {
    "ExecuteTime": {
     "end_time": "2021-05-27T02:08:47.476649Z",
     "start_time": "2021-05-27T02:08:47.397919Z"
    }
   },
   "outputs": [],
   "source": [
    "from sklearn.feature_selection import VarianceThreshold"
   ]
  },
  {
   "cell_type": "code",
   "execution_count": 136,
   "metadata": {
    "ExecuteTime": {
     "end_time": "2021-05-27T02:08:47.575395Z",
     "start_time": "2021-05-27T02:08:47.477580Z"
    }
   },
   "outputs": [],
   "source": [
    "vt = VarianceThreshold()"
   ]
  },
  {
   "cell_type": "code",
   "execution_count": 137,
   "metadata": {
    "ExecuteTime": {
     "end_time": "2021-05-27T02:08:47.709115Z",
     "start_time": "2021-05-27T02:08:47.576684Z"
    }
   },
   "outputs": [
    {
     "data": {
      "text/plain": [
       "VarianceThreshold()"
      ]
     },
     "execution_count": 137,
     "metadata": {},
     "output_type": "execute_result"
    }
   ],
   "source": [
    "vt.fit(Xi[var])"
   ]
  },
  {
   "cell_type": "code",
   "execution_count": 138,
   "metadata": {
    "ExecuteTime": {
     "end_time": "2021-05-27T02:08:47.811374Z",
     "start_time": "2021-05-27T02:08:47.711077Z"
    }
   },
   "outputs": [
    {
     "data": {
      "text/plain": [
       "[]"
      ]
     },
     "execution_count": 138,
     "metadata": {},
     "output_type": "execute_result"
    }
   ],
   "source": [
    "fuera = [v for v,s in zip(var,vt.get_support()) if ~s]\n",
    "fuera"
   ]
  },
  {
   "cell_type": "code",
   "execution_count": 139,
   "metadata": {
    "ExecuteTime": {
     "end_time": "2021-05-27T02:08:47.908206Z",
     "start_time": "2021-05-27T02:08:47.813227Z"
    }
   },
   "outputs": [],
   "source": [
    "Xi.drop(fuera,axis=1,inplace=True)\n",
    "var = [v for v in var if v not in fuera]"
   ]
  },
  {
   "cell_type": "markdown",
   "metadata": {},
   "source": [
    "## Multicolinealidad"
   ]
  },
  {
   "cell_type": "code",
   "execution_count": 140,
   "metadata": {
    "ExecuteTime": {
     "end_time": "2021-05-27T02:08:48.006442Z",
     "start_time": "2021-05-27T02:08:47.909570Z"
    }
   },
   "outputs": [],
   "source": [
    "from varclushi import VarClusHi"
   ]
  },
  {
   "cell_type": "code",
   "execution_count": 141,
   "metadata": {
    "ExecuteTime": {
     "end_time": "2021-05-27T02:08:48.107257Z",
     "start_time": "2021-05-27T02:08:48.007772Z"
    }
   },
   "outputs": [],
   "source": [
    "vc = VarClusHi(df=Xi,feat_list=var)"
   ]
  },
  {
   "cell_type": "code",
   "execution_count": 142,
   "metadata": {
    "ExecuteTime": {
     "end_time": "2021-05-27T02:08:48.921867Z",
     "start_time": "2021-05-27T02:08:48.109690Z"
    }
   },
   "outputs": [
    {
     "data": {
      "text/plain": [
       "<varclushi.varclushi.VarClusHi at 0x7f491747d550>"
      ]
     },
     "execution_count": 142,
     "metadata": {},
     "output_type": "execute_result"
    }
   ],
   "source": [
    "vc.varclus()"
   ]
  },
  {
   "cell_type": "code",
   "execution_count": 143,
   "metadata": {
    "ExecuteTime": {
     "end_time": "2021-05-27T02:08:49.208807Z",
     "start_time": "2021-05-27T02:08:48.923520Z"
    }
   },
   "outputs": [],
   "source": [
    "rs = vc.rsquare"
   ]
  },
  {
   "cell_type": "code",
   "execution_count": 144,
   "metadata": {
    "ExecuteTime": {
     "end_time": "2021-05-27T02:08:49.214401Z",
     "start_time": "2021-05-27T02:08:49.211062Z"
    }
   },
   "outputs": [],
   "source": [
    "rs = rs.sort_values(by=['Cluster','RS_Ratio']).reset_index(drop=True)"
   ]
  },
  {
   "cell_type": "code",
   "execution_count": 145,
   "metadata": {
    "ExecuteTime": {
     "end_time": "2021-05-27T02:08:49.330193Z",
     "start_time": "2021-05-27T02:08:49.215668Z"
    }
   },
   "outputs": [],
   "source": [
    "rs['id'] = rs.groupby('Cluster').cumcount()+1\n",
    "best = sorted(rs.loc[rs['id']==1]['Variable'])"
   ]
  },
  {
   "cell_type": "code",
   "execution_count": 146,
   "metadata": {
    "ExecuteTime": {
     "end_time": "2021-05-27T02:08:49.433858Z",
     "start_time": "2021-05-27T02:08:49.332500Z"
    }
   },
   "outputs": [
    {
     "data": {
      "text/plain": [
       "['CO_x_desv_30',\n",
       " 'NO2_x_desv_20',\n",
       " 'NO2_x_minimo_20',\n",
       " 'O3_x_desv_10',\n",
       " 'O3_x_maximo_30',\n",
       " 'O3_x_minimo_20',\n",
       " 'SO2_x_desv_20',\n",
       " 'SO2_x_minimo_20']"
      ]
     },
     "execution_count": 146,
     "metadata": {},
     "output_type": "execute_result"
    }
   ],
   "source": [
    "best"
   ]
  },
  {
   "cell_type": "code",
   "execution_count": 147,
   "metadata": {
    "ExecuteTime": {
     "end_time": "2021-05-27T02:08:49.532607Z",
     "start_time": "2021-05-27T02:08:49.436062Z"
    }
   },
   "outputs": [],
   "source": [
    "Xi = Xi[um+best].copy()"
   ]
  },
  {
   "cell_type": "markdown",
   "metadata": {},
   "source": [
    "## Extremos"
   ]
  },
  {
   "cell_type": "code",
   "execution_count": 148,
   "metadata": {
    "ExecuteTime": {
     "end_time": "2021-05-27T02:08:50.475217Z",
     "start_time": "2021-05-27T02:08:49.534978Z"
    }
   },
   "outputs": [
    {
     "data": {
      "text/plain": [
       "array([[<AxesSubplot:title={'center':'CO_x_desv_30'}>,\n",
       "        <AxesSubplot:title={'center':'NO2_x_desv_20'}>,\n",
       "        <AxesSubplot:title={'center':'NO2_x_minimo_20'}>],\n",
       "       [<AxesSubplot:title={'center':'O3_x_desv_10'}>,\n",
       "        <AxesSubplot:title={'center':'O3_x_maximo_30'}>,\n",
       "        <AxesSubplot:title={'center':'O3_x_minimo_20'}>],\n",
       "       [<AxesSubplot:title={'center':'SO2_x_desv_20'}>,\n",
       "        <AxesSubplot:title={'center':'SO2_x_minimo_20'}>, <AxesSubplot:>]],\n",
       "      dtype=object)"
      ]
     },
     "execution_count": 148,
     "metadata": {},
     "output_type": "execute_result"
    },
    {
     "data": {
      "image/png": "[encoded data removed]",
      "text/plain": [
       "<Figure size 1440x1440 with 9 Axes>"
      ]
     },
     "metadata": {
      "needs_background": "light"
     },
     "output_type": "display_data"
    }
   ],
   "source": [
    "Xi[best].hist(figsize=(20,20))"
   ]
  },
  {
   "cell_type": "code",
   "execution_count": 149,
   "metadata": {
    "ExecuteTime": {
     "end_time": "2021-05-27T02:08:50.500487Z",
     "start_time": "2021-05-27T02:08:50.476142Z"
    }
   },
   "outputs": [],
   "source": [
    "for v,li,ls in Xi.describe(percentiles=[0.01,0.99]).T[['1%','99%']].reset_index().values:\n",
    "    Xi[f'ex_{v}'] = ((Xi[v]<li)|(Xi[v]>ls)).astype(int)"
   ]
  },
  {
   "cell_type": "code",
   "execution_count": 150,
   "metadata": {
    "ExecuteTime": {
     "end_time": "2021-05-27T02:08:50.650323Z",
     "start_time": "2021-05-27T02:08:50.501355Z"
    }
   },
   "outputs": [],
   "source": [
    "Xi['ex_'] = Xi.filter(like='ex_').max(axis=1)"
   ]
  },
  {
   "cell_type": "code",
   "execution_count": 151,
   "metadata": {
    "ExecuteTime": {
     "end_time": "2021-05-27T02:08:50.750025Z",
     "start_time": "2021-05-27T02:08:50.651511Z"
    }
   },
   "outputs": [
    {
     "data": {
      "text/plain": [
       "0    0.897376\n",
       "1    0.102624\n",
       "Name: ex_, dtype: float64"
      ]
     },
     "execution_count": 151,
     "metadata": {},
     "output_type": "execute_result"
    }
   ],
   "source": [
    "Xi['ex_'].value_counts(True)"
   ]
  },
  {
   "cell_type": "code",
   "execution_count": 152,
   "metadata": {
    "ExecuteTime": {
     "end_time": "2021-05-27T02:08:50.849404Z",
     "start_time": "2021-05-27T02:08:50.751282Z"
    }
   },
   "outputs": [],
   "source": [
    "Xi = Xi.loc[Xi['ex_']==0].drop(Xi.filter(like='ex_').columns,axis=1)"
   ]
  },
  {
   "cell_type": "code",
   "execution_count": 153,
   "metadata": {
    "ExecuteTime": {
     "end_time": "2021-05-27T02:08:51.871835Z",
     "start_time": "2021-05-27T02:08:50.851373Z"
    }
   },
   "outputs": [
    {
     "data": {
      "text/plain": [
       "array([[<AxesSubplot:title={'center':'CO_x_desv_30'}>,\n",
       "        <AxesSubplot:title={'center':'NO2_x_desv_20'}>,\n",
       "        <AxesSubplot:title={'center':'NO2_x_minimo_20'}>],\n",
       "       [<AxesSubplot:title={'center':'O3_x_desv_10'}>,\n",
       "        <AxesSubplot:title={'center':'O3_x_maximo_30'}>,\n",
       "        <AxesSubplot:title={'center':'O3_x_minimo_20'}>],\n",
       "       [<AxesSubplot:title={'center':'SO2_x_desv_20'}>,\n",
       "        <AxesSubplot:title={'center':'SO2_x_minimo_20'}>, <AxesSubplot:>]],\n",
       "      dtype=object)"
      ]
     },
     "execution_count": 153,
     "metadata": {},
     "output_type": "execute_result"
    },
    {
     "data": {
      "image/png": "[encoded data removed]",
      "text/plain": [
       "<Figure size 1440x1440 with 9 Axes>"
      ]
     },
     "metadata": {
      "needs_background": "light"
     },
     "output_type": "display_data"
    }
   ],
   "source": [
    "Xi[best].hist(figsize=(20,20))"
   ]
  },
  {
   "cell_type": "code",
   "execution_count": 154,
   "metadata": {
    "ExecuteTime": {
     "end_time": "2021-05-27T02:08:51.885160Z",
     "start_time": "2021-05-27T02:08:51.872903Z"
    }
   },
   "outputs": [
    {
     "data": {
      "text/html": [
       "<div>\n",
       "<style scoped>\n",
       "    .dataframe tbody tr th:only-of-type {\n",
       "        vertical-align: middle;\n",
       "    }\n",
       "\n",
       "    .dataframe tbody tr th {\n",
       "        vertical-align: top;\n",
       "    }\n",
       "\n",
       "    .dataframe thead th {\n",
       "        text-align: right;\n",
       "    }\n",
       "</style>\n",
       "<table border=\"1\" class=\"dataframe\">\n",
       "  <thead>\n",
       "    <tr style=\"text-align: right;\">\n",
       "      <th></th>\n",
       "      <th>ESTACION</th>\n",
       "      <th>ancla</th>\n",
       "      <th>CO_x_desv_30</th>\n",
       "      <th>NO2_x_desv_20</th>\n",
       "      <th>NO2_x_minimo_20</th>\n",
       "      <th>O3_x_desv_10</th>\n",
       "      <th>O3_x_maximo_30</th>\n",
       "      <th>O3_x_minimo_20</th>\n",
       "      <th>SO2_x_desv_20</th>\n",
       "      <th>SO2_x_minimo_20</th>\n",
       "    </tr>\n",
       "  </thead>\n",
       "  <tbody>\n",
       "    <tr>\n",
       "      <th>0</th>\n",
       "      <td>SAG</td>\n",
       "      <td>3977</td>\n",
       "      <td>0.295840</td>\n",
       "      <td>10.953312</td>\n",
       "      <td>3.000000</td>\n",
       "      <td>20.194397</td>\n",
       "      <td>98.0</td>\n",
       "      <td>0.0</td>\n",
       "      <td>3.281892</td>\n",
       "      <td>1.000000</td>\n",
       "    </tr>\n",
       "    <tr>\n",
       "      <th>1</th>\n",
       "      <td>FAR</td>\n",
       "      <td>3977</td>\n",
       "      <td>0.179038</td>\n",
       "      <td>10.092397</td>\n",
       "      <td>3.000000</td>\n",
       "      <td>26.466144</td>\n",
       "      <td>126.0</td>\n",
       "      <td>3.0</td>\n",
       "      <td>3.901493</td>\n",
       "      <td>0.000000</td>\n",
       "    </tr>\n",
       "    <tr>\n",
       "      <th>3</th>\n",
       "      <td>MPA</td>\n",
       "      <td>3977</td>\n",
       "      <td>0.116600</td>\n",
       "      <td>6.386824</td>\n",
       "      <td>2.000000</td>\n",
       "      <td>25.786807</td>\n",
       "      <td>143.0</td>\n",
       "      <td>2.0</td>\n",
       "      <td>3.133367</td>\n",
       "      <td>0.000000</td>\n",
       "    </tr>\n",
       "    <tr>\n",
       "      <th>4</th>\n",
       "      <td>VIF</td>\n",
       "      <td>3977</td>\n",
       "      <td>0.339953</td>\n",
       "      <td>12.681366</td>\n",
       "      <td>2.000000</td>\n",
       "      <td>23.581905</td>\n",
       "      <td>135.0</td>\n",
       "      <td>1.0</td>\n",
       "      <td>8.427477</td>\n",
       "      <td>0.000000</td>\n",
       "    </tr>\n",
       "    <tr>\n",
       "      <th>5</th>\n",
       "      <td>SFE</td>\n",
       "      <td>3977</td>\n",
       "      <td>0.214530</td>\n",
       "      <td>13.208669</td>\n",
       "      <td>4.000000</td>\n",
       "      <td>30.332578</td>\n",
       "      <td>151.0</td>\n",
       "      <td>1.0</td>\n",
       "      <td>6.215837</td>\n",
       "      <td>1.000000</td>\n",
       "    </tr>\n",
       "    <tr>\n",
       "      <th>...</th>\n",
       "      <td>...</td>\n",
       "      <td>...</td>\n",
       "      <td>...</td>\n",
       "      <td>...</td>\n",
       "      <td>...</td>\n",
       "      <td>...</td>\n",
       "      <td>...</td>\n",
       "      <td>...</td>\n",
       "      <td>...</td>\n",
       "      <td>...</td>\n",
       "    </tr>\n",
       "    <tr>\n",
       "      <th>1710</th>\n",
       "      <td>FAC</td>\n",
       "      <td>4047</td>\n",
       "      <td>0.342988</td>\n",
       "      <td>13.578063</td>\n",
       "      <td>2.000000</td>\n",
       "      <td>24.233090</td>\n",
       "      <td>115.0</td>\n",
       "      <td>2.0</td>\n",
       "      <td>6.477674</td>\n",
       "      <td>0.000000</td>\n",
       "    </tr>\n",
       "    <tr>\n",
       "      <th>1711</th>\n",
       "      <td>GAM</td>\n",
       "      <td>4047</td>\n",
       "      <td>0.320059</td>\n",
       "      <td>13.362312</td>\n",
       "      <td>4.000000</td>\n",
       "      <td>27.676218</td>\n",
       "      <td>101.0</td>\n",
       "      <td>0.0</td>\n",
       "      <td>5.486840</td>\n",
       "      <td>0.325347</td>\n",
       "    </tr>\n",
       "    <tr>\n",
       "      <th>1712</th>\n",
       "      <td>MER</td>\n",
       "      <td>4047</td>\n",
       "      <td>0.424048</td>\n",
       "      <td>13.589167</td>\n",
       "      <td>9.000000</td>\n",
       "      <td>27.308180</td>\n",
       "      <td>107.0</td>\n",
       "      <td>0.0</td>\n",
       "      <td>5.623590</td>\n",
       "      <td>0.000000</td>\n",
       "    </tr>\n",
       "    <tr>\n",
       "      <th>1713</th>\n",
       "      <td>NEZ</td>\n",
       "      <td>4047</td>\n",
       "      <td>0.497499</td>\n",
       "      <td>12.458613</td>\n",
       "      <td>6.000000</td>\n",
       "      <td>25.680166</td>\n",
       "      <td>99.0</td>\n",
       "      <td>1.0</td>\n",
       "      <td>6.233106</td>\n",
       "      <td>0.000000</td>\n",
       "    </tr>\n",
       "    <tr>\n",
       "      <th>1714</th>\n",
       "      <td>LPR</td>\n",
       "      <td>4047</td>\n",
       "      <td>0.528922</td>\n",
       "      <td>11.697292</td>\n",
       "      <td>3.695995</td>\n",
       "      <td>22.297997</td>\n",
       "      <td>85.0</td>\n",
       "      <td>0.0</td>\n",
       "      <td>4.335884</td>\n",
       "      <td>0.000000</td>\n",
       "    </tr>\n",
       "  </tbody>\n",
       "</table>\n",
       "<p>1539 rows × 10 columns</p>\n",
       "</div>"
      ],
      "text/plain": [
       "     ESTACION  ancla  CO_x_desv_30  NO2_x_desv_20  NO2_x_minimo_20  \\\n",
       "0         SAG   3977      0.295840      10.953312         3.000000   \n",
       "1         FAR   3977      0.179038      10.092397         3.000000   \n",
       "3         MPA   3977      0.116600       6.386824         2.000000   \n",
       "4         VIF   3977      0.339953      12.681366         2.000000   \n",
       "5         SFE   3977      0.214530      13.208669         4.000000   \n",
       "...       ...    ...           ...            ...              ...   \n",
       "1710      FAC   4047      0.342988      13.578063         2.000000   \n",
       "1711      GAM   4047      0.320059      13.362312         4.000000   \n",
       "1712      MER   4047      0.424048      13.589167         9.000000   \n",
       "1713      NEZ   4047      0.497499      12.458613         6.000000   \n",
       "1714      LPR   4047      0.528922      11.697292         3.695995   \n",
       "\n",
       "      O3_x_desv_10  O3_x_maximo_30  O3_x_minimo_20  SO2_x_desv_20  \\\n",
       "0        20.194397            98.0             0.0       3.281892   \n",
       "1        26.466144           126.0             3.0       3.901493   \n",
       "3        25.786807           143.0             2.0       3.133367   \n",
       "4        23.581905           135.0             1.0       8.427477   \n",
       "5        30.332578           151.0             1.0       6.215837   \n",
       "...            ...             ...             ...            ...   \n",
       "1710     24.233090           115.0             2.0       6.477674   \n",
       "1711     27.676218           101.0             0.0       5.486840   \n",
       "1712     27.308180           107.0             0.0       5.623590   \n",
       "1713     25.680166            99.0             1.0       6.233106   \n",
       "1714     22.297997            85.0             0.0       4.335884   \n",
       "\n",
       "      SO2_x_minimo_20  \n",
       "0            1.000000  \n",
       "1            0.000000  \n",
       "3            0.000000  \n",
       "4            0.000000  \n",
       "5            1.000000  \n",
       "...               ...  \n",
       "1710         0.000000  \n",
       "1711         0.325347  \n",
       "1712         0.000000  \n",
       "1713         0.000000  \n",
       "1714         0.000000  \n",
       "\n",
       "[1539 rows x 10 columns]"
      ]
     },
     "execution_count": 154,
     "metadata": {},
     "output_type": "execute_result"
    }
   ],
   "source": [
    "Xi"
   ]
  },
  {
   "cell_type": "code",
   "execution_count": 155,
   "metadata": {
    "ExecuteTime": {
     "end_time": "2021-05-27T02:08:52.004123Z",
     "start_time": "2021-05-27T02:08:51.886735Z"
    }
   },
   "outputs": [],
   "source": [
    "tad = Xi.merge(df[um+tgt],on=um,how='inner')"
   ]
  },
  {
   "cell_type": "code",
   "execution_count": 156,
   "metadata": {
    "ExecuteTime": {
     "end_time": "2021-05-27T02:08:52.128814Z",
     "start_time": "2021-05-27T02:08:52.005129Z"
    }
   },
   "outputs": [
    {
     "data": {
      "text/html": [
       "<div>\n",
       "<style scoped>\n",
       "    .dataframe tbody tr th:only-of-type {\n",
       "        vertical-align: middle;\n",
       "    }\n",
       "\n",
       "    .dataframe tbody tr th {\n",
       "        vertical-align: top;\n",
       "    }\n",
       "\n",
       "    .dataframe thead th {\n",
       "        text-align: right;\n",
       "    }\n",
       "</style>\n",
       "<table border=\"1\" class=\"dataframe\">\n",
       "  <thead>\n",
       "    <tr style=\"text-align: right;\">\n",
       "      <th></th>\n",
       "      <th>ESTACION</th>\n",
       "      <th>ancla</th>\n",
       "      <th>CO_x_desv_30</th>\n",
       "      <th>NO2_x_desv_20</th>\n",
       "      <th>NO2_x_minimo_20</th>\n",
       "      <th>O3_x_desv_10</th>\n",
       "      <th>O3_x_maximo_30</th>\n",
       "      <th>O3_x_minimo_20</th>\n",
       "      <th>SO2_x_desv_20</th>\n",
       "      <th>SO2_x_minimo_20</th>\n",
       "      <th>y</th>\n",
       "    </tr>\n",
       "  </thead>\n",
       "  <tbody>\n",
       "    <tr>\n",
       "      <th>0</th>\n",
       "      <td>SAG</td>\n",
       "      <td>3977</td>\n",
       "      <td>0.295840</td>\n",
       "      <td>10.953312</td>\n",
       "      <td>3.0</td>\n",
       "      <td>20.194397</td>\n",
       "      <td>98.0</td>\n",
       "      <td>0.0</td>\n",
       "      <td>3.281892</td>\n",
       "      <td>1.0</td>\n",
       "      <td>14.095238</td>\n",
       "    </tr>\n",
       "    <tr>\n",
       "      <th>1</th>\n",
       "      <td>FAR</td>\n",
       "      <td>3977</td>\n",
       "      <td>0.179038</td>\n",
       "      <td>10.092397</td>\n",
       "      <td>3.0</td>\n",
       "      <td>26.466144</td>\n",
       "      <td>126.0</td>\n",
       "      <td>3.0</td>\n",
       "      <td>3.901493</td>\n",
       "      <td>0.0</td>\n",
       "      <td>21.857143</td>\n",
       "    </tr>\n",
       "    <tr>\n",
       "      <th>2</th>\n",
       "      <td>MPA</td>\n",
       "      <td>3977</td>\n",
       "      <td>0.116600</td>\n",
       "      <td>6.386824</td>\n",
       "      <td>2.0</td>\n",
       "      <td>25.786807</td>\n",
       "      <td>143.0</td>\n",
       "      <td>2.0</td>\n",
       "      <td>3.133367</td>\n",
       "      <td>0.0</td>\n",
       "      <td>23.619048</td>\n",
       "    </tr>\n",
       "    <tr>\n",
       "      <th>3</th>\n",
       "      <td>VIF</td>\n",
       "      <td>3977</td>\n",
       "      <td>0.339953</td>\n",
       "      <td>12.681366</td>\n",
       "      <td>2.0</td>\n",
       "      <td>23.581905</td>\n",
       "      <td>135.0</td>\n",
       "      <td>1.0</td>\n",
       "      <td>8.427477</td>\n",
       "      <td>0.0</td>\n",
       "      <td>17.761905</td>\n",
       "    </tr>\n",
       "    <tr>\n",
       "      <th>4</th>\n",
       "      <td>SFE</td>\n",
       "      <td>3977</td>\n",
       "      <td>0.214530</td>\n",
       "      <td>13.208669</td>\n",
       "      <td>4.0</td>\n",
       "      <td>30.332578</td>\n",
       "      <td>151.0</td>\n",
       "      <td>1.0</td>\n",
       "      <td>6.215837</td>\n",
       "      <td>1.0</td>\n",
       "      <td>22.666667</td>\n",
       "    </tr>\n",
       "  </tbody>\n",
       "</table>\n",
       "</div>"
      ],
      "text/plain": [
       "  ESTACION  ancla  CO_x_desv_30  NO2_x_desv_20  NO2_x_minimo_20  O3_x_desv_10  \\\n",
       "0      SAG   3977      0.295840      10.953312              3.0     20.194397   \n",
       "1      FAR   3977      0.179038      10.092397              3.0     26.466144   \n",
       "2      MPA   3977      0.116600       6.386824              2.0     25.786807   \n",
       "3      VIF   3977      0.339953      12.681366              2.0     23.581905   \n",
       "4      SFE   3977      0.214530      13.208669              4.0     30.332578   \n",
       "\n",
       "   O3_x_maximo_30  O3_x_minimo_20  SO2_x_desv_20  SO2_x_minimo_20          y  \n",
       "0            98.0             0.0       3.281892              1.0  14.095238  \n",
       "1           126.0             3.0       3.901493              0.0  21.857143  \n",
       "2           143.0             2.0       3.133367              0.0  23.619048  \n",
       "3           135.0             1.0       8.427477              0.0  17.761905  \n",
       "4           151.0             1.0       6.215837              1.0  22.666667  "
      ]
     },
     "execution_count": 156,
     "metadata": {},
     "output_type": "execute_result"
    }
   ],
   "source": [
    "tad.head()"
   ]
  },
  {
   "cell_type": "markdown",
   "metadata": {},
   "source": [
    "## Regresión Lineal"
   ]
  },
  {
   "cell_type": "code",
   "execution_count": 157,
   "metadata": {
    "ExecuteTime": {
     "end_time": "2021-05-27T02:08:52.232554Z",
     "start_time": "2021-05-27T02:08:52.130572Z"
    }
   },
   "outputs": [],
   "source": [
    "from sklearn.linear_model import LinearRegression\n",
    "from sklearn.model_selection import train_test_split\n",
    "from sklearn.metrics import mean_absolute_error"
   ]
  },
  {
   "cell_type": "code",
   "execution_count": 158,
   "metadata": {
    "ExecuteTime": {
     "end_time": "2021-05-27T02:08:52.332729Z",
     "start_time": "2021-05-27T02:08:52.234189Z"
    }
   },
   "outputs": [],
   "source": [
    "Xt,Xv = train_test_split(tad,train_size=0.7)"
   ]
  },
  {
   "cell_type": "code",
   "execution_count": 159,
   "metadata": {
    "ExecuteTime": {
     "end_time": "2021-05-27T02:08:52.430262Z",
     "start_time": "2021-05-27T02:08:52.334125Z"
    }
   },
   "outputs": [],
   "source": [
    "Xt.reset_index(drop=True,inplace=True)\n",
    "Xv.reset_index(drop=True,inplace=True)"
   ]
  },
  {
   "cell_type": "code",
   "execution_count": 160,
   "metadata": {
    "ExecuteTime": {
     "end_time": "2021-05-27T02:08:52.529124Z",
     "start_time": "2021-05-27T02:08:52.432126Z"
    }
   },
   "outputs": [],
   "source": [
    "mod = LinearRegression()"
   ]
  },
  {
   "cell_type": "code",
   "execution_count": 161,
   "metadata": {
    "ExecuteTime": {
     "end_time": "2021-05-27T02:08:52.630907Z",
     "start_time": "2021-05-27T02:08:52.531439Z"
    }
   },
   "outputs": [
    {
     "data": {
      "text/plain": [
       "LinearRegression()"
      ]
     },
     "execution_count": 161,
     "metadata": {},
     "output_type": "execute_result"
    }
   ],
   "source": [
    "mod.fit(Xt[best],Xt[tgt])"
   ]
  },
  {
   "cell_type": "code",
   "execution_count": 162,
   "metadata": {
    "ExecuteTime": {
     "end_time": "2021-05-27T02:08:52.751309Z",
     "start_time": "2021-05-27T02:08:52.631880Z"
    }
   },
   "outputs": [
    {
     "name": "stdout",
     "output_type": "stream",
     "text": [
      "5.475177145360914\n",
      "5.156807582757975\n"
     ]
    }
   ],
   "source": [
    "print(mean_absolute_error(y_pred=mod.predict(Xt[best]),y_true=Xt[tgt]))\n",
    "print(mean_absolute_error(y_pred=mod.predict(Xv[best]),y_true=Xv[tgt]))"
   ]
  },
  {
   "cell_type": "code",
   "execution_count": 163,
   "metadata": {
    "ExecuteTime": {
     "end_time": "2021-05-27T02:08:53.010051Z",
     "start_time": "2021-05-27T02:08:52.753105Z"
    }
   },
   "outputs": [
    {
     "data": {
      "text/plain": [
       "<AxesSubplot:ylabel='Density'>"
      ]
     },
     "execution_count": 163,
     "metadata": {},
     "output_type": "execute_result"
    },
    {
     "data": {
      "image/png": "[encoded data removed]",
      "text/plain": [
       "<Figure size 432x288 with 1 Axes>"
      ]
     },
     "metadata": {
      "needs_background": "light"
     },
     "output_type": "display_data"
    }
   ],
   "source": [
    "sns.kdeplot(data=pd.DataFrame({'y^':list(mod.predict(Xt[best]).reshape(1,-1)[0]),\n",
    "              'y':list(np.array(Xt[tgt]).reshape(1,-1)[0])}),cumulative=False)"
   ]
  },
  {
   "cell_type": "code",
   "execution_count": 164,
   "metadata": {
    "ExecuteTime": {
     "end_time": "2021-05-27T02:08:53.235347Z",
     "start_time": "2021-05-27T02:08:53.010997Z"
    }
   },
   "outputs": [
    {
     "data": {
      "text/plain": [
       "<AxesSubplot:ylabel='Density'>"
      ]
     },
     "execution_count": 164,
     "metadata": {},
     "output_type": "execute_result"
    },
    {
     "data": {
      "image/png": "[encoded data removed]",
      "text/plain": [
       "<Figure size 432x288 with 1 Axes>"
      ]
     },
     "metadata": {
      "needs_background": "light"
     },
     "output_type": "display_data"
    }
   ],
   "source": [
    "sns.kdeplot(data=pd.DataFrame({'y^':list(mod.predict(Xv[best]).reshape(1,-1)[0]),\n",
    "              'y':list(np.array(Xv[tgt]).reshape(1,-1)[0])}),cumulative=False)"
   ]
  },
  {
   "cell_type": "code",
   "execution_count": 165,
   "metadata": {
    "ExecuteTime": {
     "end_time": "2021-05-27T02:08:53.239473Z",
     "start_time": "2021-05-27T02:08:53.236274Z"
    }
   },
   "outputs": [
    {
     "data": {
      "text/plain": [
       "(array([[-8.20628089, -0.91499908,  0.45086111,  0.4286594 ,  0.03284174,\n",
       "          1.36539836, -0.42426494, -2.37380835]]),\n",
       " array([26.93698727]))"
      ]
     },
     "execution_count": 165,
     "metadata": {},
     "output_type": "execute_result"
    }
   ],
   "source": [
    "mod.coef_,mod.intercept_"
   ]
  },
  {
   "cell_type": "code",
   "execution_count": 166,
   "metadata": {
    "ExecuteTime": {
     "end_time": "2021-05-27T02:08:53.346854Z",
     "start_time": "2021-05-27T02:08:53.240680Z"
    }
   },
   "outputs": [],
   "source": [
    "Xt.to_pickle('Xt.pkl') \n",
    "Xv.to_pickle('Xv.pkl') "
   ]
  },
  {
   "cell_type": "code",
   "execution_count": null,
   "metadata": {},
   "outputs": [],
   "source": []
  }
 ],
 "metadata": {
  "kernelspec": {
   "display_name": "env",
   "language": "python",
   "name": "env"
  },
  "language_info": {
   "codemirror_mode": {
    "name": "ipython",
    "version": 3
   },
   "file_extension": ".py",
   "mimetype": "text/x-python",
   "name": "python",
   "nbconvert_exporter": "python",
   "pygments_lexer": "ipython3",
   "version": "3.7.3"
  },
  "toc": {
   "base_numbering": 1,
   "nav_menu": {},
   "number_sections": true,
   "sideBar": true,
   "skip_h1_title": false,
   "title_cell": "Table of Contents",
   "title_sidebar": "Contents",
   "toc_cell": false,
   "toc_position": {
    "height": "calc(100% - 180px)",
    "left": "10px",
    "top": "150px",
    "width": "299.2px"
   },
   "toc_section_display": true,
   "toc_window_display": true
  }
 },
 "nbformat": 4,
 "nbformat_minor": 2
}
